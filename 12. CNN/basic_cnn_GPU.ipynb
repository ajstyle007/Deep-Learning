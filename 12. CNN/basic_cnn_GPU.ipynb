{
 "cells": [
  {
   "cell_type": "code",
   "execution_count": 1,
   "id": "daf4c283-7b8c-42f3-92ed-74903a2cc3d9",
   "metadata": {},
   "outputs": [],
   "source": [
    "import torch\n",
    "from torch import nn\n",
    "from torch.utils.data import DataLoader, Dataset\n",
    "import torchvision"
   ]
  },
  {
   "cell_type": "code",
   "execution_count": 37,
   "id": "742be908-460b-420b-b33d-832d8d3acf33",
   "metadata": {},
   "outputs": [
    {
     "name": "stdout",
     "output_type": "stream",
     "text": [
      "Device Name: NVIDIA GeForce RTX 2050\n",
      "Current Device: 0\n"
     ]
    }
   ],
   "source": [
    "print(\"Device Name:\", torch.cuda.get_device_name(0))\n",
    "print(\"Current Device:\", torch.cuda.current_device())"
   ]
  },
  {
   "cell_type": "code",
   "execution_count": 38,
   "id": "fbe5ca94-3211-4476-aae2-a22f2cd7d6ca",
   "metadata": {},
   "outputs": [
    {
     "data": {
      "text/plain": [
       "42952704"
      ]
     },
     "execution_count": 38,
     "metadata": {},
     "output_type": "execute_result"
    }
   ],
   "source": [
    "torch.cuda.memory_allocated()"
   ]
  },
  {
   "cell_type": "code",
   "execution_count": 2,
   "id": "6d5f6338-6798-4f3a-9eb4-ef0a8e87938c",
   "metadata": {},
   "outputs": [],
   "source": [
    "transform = torchvision.transforms.ToTensor()"
   ]
  },
  {
   "cell_type": "code",
   "execution_count": 3,
   "id": "690c7bcd-d4fe-4c82-8cce-78b2e38b91d8",
   "metadata": {},
   "outputs": [],
   "source": [
    "train_dataset = torchvision.datasets.MNIST(root = './data', train=True, download=True, transform=transform)\n",
    "test_dataset = torchvision.datasets.MNIST(root = './data', train=False, download=True, transform=transform)"
   ]
  },
  {
   "cell_type": "code",
   "execution_count": 4,
   "id": "8ee4d309-6764-46bf-aabf-b4888d1e2ab1",
   "metadata": {},
   "outputs": [
    {
     "data": {
      "text/plain": [
       "Dataset MNIST\n",
       "    Number of datapoints: 60000\n",
       "    Root location: ./data\n",
       "    Split: Train\n",
       "    StandardTransform\n",
       "Transform: ToTensor()"
      ]
     },
     "execution_count": 4,
     "metadata": {},
     "output_type": "execute_result"
    }
   ],
   "source": [
    "train_dataset"
   ]
  },
  {
   "cell_type": "code",
   "execution_count": 5,
   "id": "6e4bceae-a00c-4578-aee3-7b15a23d0ca8",
   "metadata": {},
   "outputs": [
    {
     "data": {
      "text/plain": [
       "Dataset MNIST\n",
       "    Number of datapoints: 10000\n",
       "    Root location: ./data\n",
       "    Split: Test\n",
       "    StandardTransform\n",
       "Transform: ToTensor()"
      ]
     },
     "execution_count": 5,
     "metadata": {},
     "output_type": "execute_result"
    }
   ],
   "source": [
    "test_dataset"
   ]
  },
  {
   "cell_type": "code",
   "execution_count": 6,
   "id": "53895f89-b204-482a-9652-234a44656982",
   "metadata": {},
   "outputs": [],
   "source": [
    "train_loader = DataLoader(train_dataset, batch_size=64, shuffle=True, num_workers=4)\n",
    "test_loader = DataLoader(test_dataset, batch_size=64, shuffle=True, num_workers=4)"
   ]
  },
  {
   "cell_type": "code",
   "execution_count": 7,
   "id": "ec13f24c-b5aa-45ca-9017-a9a389c03b40",
   "metadata": {},
   "outputs": [],
   "source": [
    "class SimpleCNN(nn.Module):\n",
    "    def __init__(self):\n",
    "        super().__init__()\n",
    "\n",
    "        self.network = nn.Sequential(\n",
    "            nn.Conv2d(in_channels=1, out_channels=16, kernel_size=3, stride=1, padding=1),\n",
    "            nn.ReLU(),\n",
    "            nn.Conv2d(in_channels=16, out_channels=16, kernel_size=3, stride=1, padding=1),\n",
    "            nn.ReLU(),\n",
    "            nn.Flatten(),\n",
    "            nn.Linear(16 * 28 * 28, 128),\n",
    "            nn.ReLU(),\n",
    "            nn.Linear(128, 10),\n",
    "            nn.Softmax()\n",
    "        )\n",
    "\n",
    "    def forward(self, x):\n",
    "        return self.network(x)"
   ]
  },
  {
   "cell_type": "markdown",
   "id": "18d478ec-33b7-4cf7-bd61-e1ceac9ecaa6",
   "metadata": {},
   "source": [
    "## nn.Conv2d means\n",
    "\n",
    "`nn.Conv2d(in_channels=1, out_channels=16, kernel_size=3, stride=1, padding=1)`\n",
    "\n",
    "- This line creates a convolutional layer that:\n",
    "\n",
    "1. Takes a 1x28x28 grayscale image as input. (n_channel=1)\n",
    "2. Applies 16 3x3 filters to extract features, producing 16 feature maps of size 28x28. (out_channels=16, kernel_size=3)\n",
    "3. A stride of 1 means the filter moves 1 pixel at a time. (stride=1)\n",
    "4. For a 3x3 kernel, padding of 1 keeps the output size the same as the input size. (padding=1)\n",
    "Retains the input dimensions using padding.\n",
    "\n",
    "- The output size of the feature map can be calculated using this formula:\n",
    "\n",
    "#### Output Size = [{(Input Size) + 2(Padding) - (Kernel Size)} / (Stride)] + 1\n",
    "\n",
    "- For a 28x28 MNIST image:\n",
    "\n",
    "#### Output Size = [{(28) + 2*1 - 3} / 1] + 1 = 28\n",
    "\n",
    "- Thus, the output feature map size will be 28x28 with 16 channels (from out_channels)."
   ]
  },
  {
   "cell_type": "code",
   "execution_count": 8,
   "id": "45ca2329-8ec0-4895-bfb8-a6d685e60678",
   "metadata": {},
   "outputs": [
    {
     "data": {
      "text/plain": [
       "'cuda'"
      ]
     },
     "execution_count": 8,
     "metadata": {},
     "output_type": "execute_result"
    }
   ],
   "source": [
    "device = \"cuda\" if torch.cuda.is_available() else \"cpu\"\n",
    "device"
   ]
  },
  {
   "cell_type": "code",
   "execution_count": 9,
   "id": "3bae3628-44e7-4de7-b61b-f7a794943d62",
   "metadata": {},
   "outputs": [],
   "source": [
    "model = SimpleCNN().to(device)"
   ]
  },
  {
   "cell_type": "code",
   "execution_count": 10,
   "id": "60457500-9675-45c2-9aea-494dba530712",
   "metadata": {},
   "outputs": [
    {
     "data": {
      "text/plain": [
       "SimpleCNN(\n",
       "  (network): Sequential(\n",
       "    (0): Conv2d(1, 16, kernel_size=(3, 3), stride=(1, 1), padding=(1, 1))\n",
       "    (1): ReLU()\n",
       "    (2): Conv2d(16, 16, kernel_size=(3, 3), stride=(1, 1), padding=(1, 1))\n",
       "    (3): ReLU()\n",
       "    (4): Flatten(start_dim=1, end_dim=-1)\n",
       "    (5): Linear(in_features=12544, out_features=128, bias=True)\n",
       "    (6): ReLU()\n",
       "    (7): Linear(in_features=128, out_features=10, bias=True)\n",
       "    (8): Softmax(dim=None)\n",
       "  )\n",
       ")"
      ]
     },
     "execution_count": 10,
     "metadata": {},
     "output_type": "execute_result"
    }
   ],
   "source": [
    "model"
   ]
  },
  {
   "cell_type": "code",
   "execution_count": 41,
   "id": "07234be9-b67c-4726-b1be-bb6266176ddc",
   "metadata": {},
   "outputs": [
    {
     "data": {
      "text/plain": [
       "Dataset MNIST\n",
       "    Number of datapoints: 60000\n",
       "    Root location: ./data\n",
       "    Split: Train\n",
       "    StandardTransform\n",
       "Transform: ToTensor()"
      ]
     },
     "execution_count": 41,
     "metadata": {},
     "output_type": "execute_result"
    }
   ],
   "source": [
    "train_dataset"
   ]
  },
  {
   "cell_type": "code",
   "execution_count": 11,
   "id": "f64821ab-d2c8-45b0-a4cb-68f8e66fbc34",
   "metadata": {},
   "outputs": [],
   "source": [
    "loss_fc = nn.CrossEntropyLoss()\n",
    "optimizer = torch.optim.Adam(params=model.parameters(), lr=0.001)"
   ]
  },
  {
   "cell_type": "code",
   "execution_count": 12,
   "id": "8c2ddadd-5505-4cbb-993d-a1c075a5f46f",
   "metadata": {},
   "outputs": [],
   "source": [
    "# train_ten = torch.from_numpy(train_loader).type(torch.float)\n",
    "# test_ten = torch.from_numpy(test_loader).type(torch.long)"
   ]
  },
  {
   "cell_type": "code",
   "execution_count": 13,
   "id": "c744ceee-f1de-4ea8-83b6-c7146972d1e1",
   "metadata": {},
   "outputs": [
    {
     "name": "stdout",
     "output_type": "stream",
     "text": [
      "torch.Size([64, 1, 28, 28])\n"
     ]
    }
   ],
   "source": [
    "for features, label in train_loader:\n",
    "    print(features.shape)  # Shape of input features\n",
    "    break"
   ]
  },
  {
   "cell_type": "code",
   "execution_count": 14,
   "id": "9751e031-f087-4c3c-b770-1b5af0f3f421",
   "metadata": {},
   "outputs": [
    {
     "name": "stdout",
     "output_type": "stream",
     "text": [
      "torch.Size([64, 784])\n"
     ]
    }
   ],
   "source": [
    "for features, label in train_loader:\n",
    "    features = features.view(features.size(0), -1)\n",
    "    print(features.shape)  # Should be [32, 784]\n",
    "    break"
   ]
  },
  {
   "cell_type": "code",
   "execution_count": 15,
   "id": "d371f13f-1f88-4713-9300-bbb28b3d4f64",
   "metadata": {},
   "outputs": [
    {
     "name": "stderr",
     "output_type": "stream",
     "text": [
      "C:\\Users\\kumar\\AppData\\Local\\Programs\\Python\\Python312\\Lib\\site-packages\\torch\\nn\\modules\\module.py:1736: UserWarning: Implicit dimension choice for softmax has been deprecated. Change the call to include dim=X as an argument.\n",
      "  return self._call_impl(*args, **kwargs)\n"
     ]
    },
    {
     "name": "stdout",
     "output_type": "stream",
     "text": [
      "Epoch [1/5], Loss: 1.6015\n",
      "Epoch [2/5], Loss: 1.4901\n",
      "Epoch [3/5], Loss: 1.4816\n",
      "Epoch [4/5], Loss: 1.4770\n",
      "Epoch [5/5], Loss: 1.4744\n",
      "Total training time is 2.5645682334899904 Minutes!\n"
     ]
    }
   ],
   "source": [
    "import time\n",
    "\n",
    "start_time = time.time()\n",
    "\n",
    "torch.manual_seed(43)\n",
    "epochs = 5\n",
    "\n",
    "for epoch in range(epochs):\n",
    "    model.train()\n",
    "    running_loss = 0.0\n",
    "\n",
    "    for features , label in train_loader:\n",
    "        features, label = features.to(device), label.to(device)\n",
    "\n",
    "        optimizer.zero_grad()\n",
    "        outputs = model(features).view(features.size(0), -1)\n",
    "        loss = loss_fc(outputs, label)\n",
    "        loss.backward()\n",
    "        optimizer.step()\n",
    "\n",
    "        running_loss = running_loss + loss.item()\n",
    "    print(f\"Epoch [{epoch+1}/{epochs}], Loss: {running_loss/len(train_loader):.4f}\")\n",
    "\n",
    "end_time = time.time()\n",
    "total_time = end_time - start_time\n",
    "print(f\"Total training time is {total_time / 60} Minutes!\")"
   ]
  },
  {
   "cell_type": "code",
   "execution_count": 16,
   "id": "f2b0f3b9-5a72-415f-af78-baa0fd0c482e",
   "metadata": {},
   "outputs": [
    {
     "name": "stdout",
     "output_type": "stream",
     "text": [
      "Accuracy on MNIST test set: 98.54%\n"
     ]
    }
   ],
   "source": [
    "model.eval()\n",
    "correct = 0\n",
    "total = 0\n",
    "\n",
    "with torch.no_grad():\n",
    "    for feature, labels in test_loader:\n",
    "        feature, labels = feature.to(device), labels.to(device)\n",
    "        outputs = model(feature)\n",
    "        _, predicted = torch.max(outputs, 1)\n",
    "        total += labels.size(0)\n",
    "        correct += (predicted == labels).sum().item()\n",
    "\n",
    "print(f'Accuracy on MNIST test set: {100 * correct / total:.2f}%')"
   ]
  },
  {
   "cell_type": "code",
   "execution_count": 17,
   "id": "44ec6a62-8a01-42c4-929c-99e19644386a",
   "metadata": {},
   "outputs": [],
   "source": [
    "import cv2"
   ]
  },
  {
   "cell_type": "code",
   "execution_count": 18,
   "id": "9002ed61-eec8-4bf2-a237-efe842131bcf",
   "metadata": {},
   "outputs": [
    {
     "data": {
      "text/plain": [
       "torch.Size([60000, 28, 28])"
      ]
     },
     "execution_count": 18,
     "metadata": {},
     "output_type": "execute_result"
    }
   ],
   "source": [
    "train_dataset.data.shape"
   ]
  },
  {
   "cell_type": "code",
   "execution_count": 19,
   "id": "622f63f3-50a6-4ec5-96c4-4fcf2638a309",
   "metadata": {},
   "outputs": [
    {
     "data": {
      "text/plain": [
       "torch.Size([10000, 28, 28])"
      ]
     },
     "execution_count": 19,
     "metadata": {},
     "output_type": "execute_result"
    }
   ],
   "source": [
    "test_dataset.data.shape"
   ]
  },
  {
   "cell_type": "code",
   "execution_count": 20,
   "id": "11cddf04-1dff-47e6-b4f9-857b43a96a08",
   "metadata": {},
   "outputs": [
    {
     "data": {
      "text/plain": [
       "tensor([[  0,   0,   0,   0,   0,   0,   0,   0,   0,   0,   0,   0,   0,   0,\n",
       "           0,   0,   0,   0,   0,   0,   0,   0,   0,   0,   0,   0,   0,   0],\n",
       "        [  0,   0,   0,   0,   0,   0,   0,   0,   0,   0,   0,   0,   0,   0,\n",
       "           0,   0,   0,   0,   0,   0,   0,   0,   0,   0,   0,   0,   0,   0],\n",
       "        [  0,   0,   0,   0,   0,   0,   0,   0,   0,   0,   0,   0,   0,   0,\n",
       "           0,   0,   0,   0,   0,   0,   0,   0,   0,   0,   0,   0,   0,   0],\n",
       "        [  0,   0,   0,   0,   0,   0,   0,   0,   0,   0,   0,   0,   0,   0,\n",
       "           0,   0,   0,   0,   0,   0,   0,   0,   0,   0,   0,   0,   0,   0],\n",
       "        [  0,   0,   0,   0,   0,   0,   0,   0,   0,   0,   0,   0,   0,   0,\n",
       "           0,  51, 159, 253, 159,  50,   0,   0,   0,   0,   0,   0,   0,   0],\n",
       "        [  0,   0,   0,   0,   0,   0,   0,   0,   0,   0,   0,   0,   0,   0,\n",
       "          48, 238, 252, 252, 252, 237,   0,   0,   0,   0,   0,   0,   0,   0],\n",
       "        [  0,   0,   0,   0,   0,   0,   0,   0,   0,   0,   0,   0,   0,  54,\n",
       "         227, 253, 252, 239, 233, 252,  57,   6,   0,   0,   0,   0,   0,   0],\n",
       "        [  0,   0,   0,   0,   0,   0,   0,   0,   0,   0,   0,  10,  60, 224,\n",
       "         252, 253, 252, 202,  84, 252, 253, 122,   0,   0,   0,   0,   0,   0],\n",
       "        [  0,   0,   0,   0,   0,   0,   0,   0,   0,   0,   0, 163, 252, 252,\n",
       "         252, 253, 252, 252,  96, 189, 253, 167,   0,   0,   0,   0,   0,   0],\n",
       "        [  0,   0,   0,   0,   0,   0,   0,   0,   0,   0,  51, 238, 253, 253,\n",
       "         190, 114, 253, 228,  47,  79, 255, 168,   0,   0,   0,   0,   0,   0],\n",
       "        [  0,   0,   0,   0,   0,   0,   0,   0,   0,  48, 238, 252, 252, 179,\n",
       "          12,  75, 121,  21,   0,   0, 253, 243,  50,   0,   0,   0,   0,   0],\n",
       "        [  0,   0,   0,   0,   0,   0,   0,   0,  38, 165, 253, 233, 208,  84,\n",
       "           0,   0,   0,   0,   0,   0, 253, 252, 165,   0,   0,   0,   0,   0],\n",
       "        [  0,   0,   0,   0,   0,   0,   0,   7, 178, 252, 240,  71,  19,  28,\n",
       "           0,   0,   0,   0,   0,   0, 253, 252, 195,   0,   0,   0,   0,   0],\n",
       "        [  0,   0,   0,   0,   0,   0,   0,  57, 252, 252,  63,   0,   0,   0,\n",
       "           0,   0,   0,   0,   0,   0, 253, 252, 195,   0,   0,   0,   0,   0],\n",
       "        [  0,   0,   0,   0,   0,   0,   0, 198, 253, 190,   0,   0,   0,   0,\n",
       "           0,   0,   0,   0,   0,   0, 255, 253, 196,   0,   0,   0,   0,   0],\n",
       "        [  0,   0,   0,   0,   0,   0,  76, 246, 252, 112,   0,   0,   0,   0,\n",
       "           0,   0,   0,   0,   0,   0, 253, 252, 148,   0,   0,   0,   0,   0],\n",
       "        [  0,   0,   0,   0,   0,   0,  85, 252, 230,  25,   0,   0,   0,   0,\n",
       "           0,   0,   0,   0,   7, 135, 253, 186,  12,   0,   0,   0,   0,   0],\n",
       "        [  0,   0,   0,   0,   0,   0,  85, 252, 223,   0,   0,   0,   0,   0,\n",
       "           0,   0,   0,   7, 131, 252, 225,  71,   0,   0,   0,   0,   0,   0],\n",
       "        [  0,   0,   0,   0,   0,   0,  85, 252, 145,   0,   0,   0,   0,   0,\n",
       "           0,   0,  48, 165, 252, 173,   0,   0,   0,   0,   0,   0,   0,   0],\n",
       "        [  0,   0,   0,   0,   0,   0,  86, 253, 225,   0,   0,   0,   0,   0,\n",
       "           0, 114, 238, 253, 162,   0,   0,   0,   0,   0,   0,   0,   0,   0],\n",
       "        [  0,   0,   0,   0,   0,   0,  85, 252, 249, 146,  48,  29,  85, 178,\n",
       "         225, 253, 223, 167,  56,   0,   0,   0,   0,   0,   0,   0,   0,   0],\n",
       "        [  0,   0,   0,   0,   0,   0,  85, 252, 252, 252, 229, 215, 252, 252,\n",
       "         252, 196, 130,   0,   0,   0,   0,   0,   0,   0,   0,   0,   0,   0],\n",
       "        [  0,   0,   0,   0,   0,   0,  28, 199, 252, 252, 253, 252, 252, 233,\n",
       "         145,   0,   0,   0,   0,   0,   0,   0,   0,   0,   0,   0,   0,   0],\n",
       "        [  0,   0,   0,   0,   0,   0,   0,  25, 128, 252, 253, 252, 141,  37,\n",
       "           0,   0,   0,   0,   0,   0,   0,   0,   0,   0,   0,   0,   0,   0],\n",
       "        [  0,   0,   0,   0,   0,   0,   0,   0,   0,   0,   0,   0,   0,   0,\n",
       "           0,   0,   0,   0,   0,   0,   0,   0,   0,   0,   0,   0,   0,   0],\n",
       "        [  0,   0,   0,   0,   0,   0,   0,   0,   0,   0,   0,   0,   0,   0,\n",
       "           0,   0,   0,   0,   0,   0,   0,   0,   0,   0,   0,   0,   0,   0],\n",
       "        [  0,   0,   0,   0,   0,   0,   0,   0,   0,   0,   0,   0,   0,   0,\n",
       "           0,   0,   0,   0,   0,   0,   0,   0,   0,   0,   0,   0,   0,   0],\n",
       "        [  0,   0,   0,   0,   0,   0,   0,   0,   0,   0,   0,   0,   0,   0,\n",
       "           0,   0,   0,   0,   0,   0,   0,   0,   0,   0,   0,   0,   0,   0]],\n",
       "       dtype=torch.uint8)"
      ]
     },
     "execution_count": 20,
     "metadata": {},
     "output_type": "execute_result"
    }
   ],
   "source": [
    "train_dataset.data[1]"
   ]
  },
  {
   "cell_type": "code",
   "execution_count": 21,
   "id": "3ac96f4a-4d76-4ff8-a451-2b7dfed4a07e",
   "metadata": {},
   "outputs": [
    {
     "data": {
      "text/plain": [
       "torch.Size([28, 28])"
      ]
     },
     "execution_count": 21,
     "metadata": {},
     "output_type": "execute_result"
    }
   ],
   "source": [
    "train_dataset.data[1].shape"
   ]
  },
  {
   "cell_type": "code",
   "execution_count": 22,
   "id": "dde5bb2f-9319-419f-90a6-f326e382fd08",
   "metadata": {},
   "outputs": [],
   "source": [
    "import matplotlib.pyplot as plt"
   ]
  },
  {
   "cell_type": "code",
   "execution_count": 23,
   "id": "9772f2e2-26bb-4223-8de7-8b8806457ca0",
   "metadata": {},
   "outputs": [
    {
     "data": {
      "image/png": "[encoded data removed]",
      "text/plain": [
       "<Figure size 640x480 with 1 Axes>"
      ]
     },
     "metadata": {},
     "output_type": "display_data"
    }
   ],
   "source": [
    "plt.imshow(train_dataset.data[1])\n",
    "plt.show()"
   ]
  },
  {
   "cell_type": "code",
   "execution_count": 24,
   "id": "c4716f15-e579-4e09-995d-8d7071702391",
   "metadata": {},
   "outputs": [
    {
     "data": {
      "image/png": "[encoded data removed]",
      "text/plain": [
       "<Figure size 640x480 with 1 Axes>"
      ]
     },
     "metadata": {},
     "output_type": "display_data"
    }
   ],
   "source": [
    "plt.imshow(train_dataset.data[2], cmap=\"gray\")\n",
    "plt.show()"
   ]
  },
  {
   "cell_type": "code",
   "execution_count": 25,
   "id": "93ab2f39-77af-4d19-97a9-7f6bd9c83a04",
   "metadata": {},
   "outputs": [
    {
     "data": {
      "image/png": "[encoded data removed]",
      "text/plain": [
       "<Figure size 640x480 with 1 Axes>"
      ]
     },
     "metadata": {},
     "output_type": "display_data"
    }
   ],
   "source": [
    "plt.imshow(train_dataset.data[7], cmap=\"Reds\")\n",
    "plt.show()"
   ]
  },
  {
   "cell_type": "code",
   "execution_count": 26,
   "id": "2c3b7785-631c-4c29-9073-03fa3491f64d",
   "metadata": {},
   "outputs": [
    {
     "data": {
      "image/png": "[encoded data removed]",
      "text/plain": [
       "<Figure size 640x480 with 1 Axes>"
      ]
     },
     "metadata": {},
     "output_type": "display_data"
    }
   ],
   "source": [
    "plt.imshow(train_dataset.data[6], cmap=\"RdBu\")\n",
    "plt.show()"
   ]
  },
  {
   "cell_type": "code",
   "execution_count": 27,
   "id": "be5a5541-0aee-4666-8620-3c25e5251b47",
   "metadata": {},
   "outputs": [
    {
     "data": {
      "image/png": "[encoded data removed]",
      "text/plain": [
       "<Figure size 640x480 with 1 Axes>"
      ]
     },
     "metadata": {},
     "output_type": "display_data"
    }
   ],
   "source": [
    "plt.imshow(train_dataset.data[5], cmap=\"RdYlGn\")\n",
    "plt.show()"
   ]
  },
  {
   "cell_type": "code",
   "execution_count": 28,
   "id": "4a605bd0-599e-42e2-9b2a-1430b397693d",
   "metadata": {},
   "outputs": [
    {
     "data": {
      "text/plain": [
       "tensor([7, 2, 1, 0, 4, 1, 4, 9, 5, 9, 0, 6, 9, 0, 1, 5, 9, 7, 3, 4])"
      ]
     },
     "execution_count": 28,
     "metadata": {},
     "output_type": "execute_result"
    }
   ],
   "source": [
    "test_dataset.targets[:20]"
   ]
  },
  {
   "cell_type": "code",
   "execution_count": 29,
   "id": "559a4580-1243-43fc-b5b5-55d14212f76a",
   "metadata": {},
   "outputs": [
    {
     "data": {
      "text/plain": [
       "tensor([[  0,   0,   0,   0,   0,   0,   0,   0,   0,   0,   0,   0,   0,   0,\n",
       "           0,   0,   0,   0,   0,   0,   0,   0,   0,   0,   0,   0,   0,   0],\n",
       "        [  0,   0,   0,   0,   0,   0,   0,   0,   0,   0,   0,   0,   0,   0,\n",
       "           0,   0,   0,   0,   0,   0,   0,   0,   0,   0,   0,   0,   0,   0],\n",
       "        [  0,   0,   0,   0,   0,   0,   0,   0,   0,   0,   0,   0,   0,   0,\n",
       "           0,   0,   0,   0,   0,   0,   0,   0,   0,   0,   0,   0,   0,   0],\n",
       "        [  0,   0,   0,   0,   0,   0,   0,   0,   0,   0,   0,   0,   0,   0,\n",
       "           0,   0,   0,   0,   0,   0,   0,   0,   0,   0,   0,   0,   0,   0],\n",
       "        [  0,   0,   0,   0,   0,   0,   0,   0,   0,   0,   0,   0,   0,   0,\n",
       "           0,  51, 159, 253, 159,  50,   0,   0,   0,   0,   0,   0,   0,   0],\n",
       "        [  0,   0,   0,   0,   0,   0,   0,   0,   0,   0,   0,   0,   0,   0,\n",
       "          48, 238, 252, 252, 252, 237,   0,   0,   0,   0,   0,   0,   0,   0],\n",
       "        [  0,   0,   0,   0,   0,   0,   0,   0,   0,   0,   0,   0,   0,  54,\n",
       "         227, 253, 252, 239, 233, 252,  57,   6,   0,   0,   0,   0,   0,   0],\n",
       "        [  0,   0,   0,   0,   0,   0,   0,   0,   0,   0,   0,  10,  60, 224,\n",
       "         252, 253, 252, 202,  84, 252, 253, 122,   0,   0,   0,   0,   0,   0],\n",
       "        [  0,   0,   0,   0,   0,   0,   0,   0,   0,   0,   0, 163, 252, 252,\n",
       "         252, 253, 252, 252,  96, 189, 253, 167,   0,   0,   0,   0,   0,   0],\n",
       "        [  0,   0,   0,   0,   0,   0,   0,   0,   0,   0,  51, 238, 253, 253,\n",
       "         190, 114, 253, 228,  47,  79, 255, 168,   0,   0,   0,   0,   0,   0],\n",
       "        [  0,   0,   0,   0,   0,   0,   0,   0,   0,  48, 238, 252, 252, 179,\n",
       "          12,  75, 121,  21,   0,   0, 253, 243,  50,   0,   0,   0,   0,   0],\n",
       "        [  0,   0,   0,   0,   0,   0,   0,   0,  38, 165, 253, 233, 208,  84,\n",
       "           0,   0,   0,   0,   0,   0, 253, 252, 165,   0,   0,   0,   0,   0],\n",
       "        [  0,   0,   0,   0,   0,   0,   0,   7, 178, 252, 240,  71,  19,  28,\n",
       "           0,   0,   0,   0,   0,   0, 253, 252, 195,   0,   0,   0,   0,   0],\n",
       "        [  0,   0,   0,   0,   0,   0,   0,  57, 252, 252,  63,   0,   0,   0,\n",
       "           0,   0,   0,   0,   0,   0, 253, 252, 195,   0,   0,   0,   0,   0],\n",
       "        [  0,   0,   0,   0,   0,   0,   0, 198, 253, 190,   0,   0,   0,   0,\n",
       "           0,   0,   0,   0,   0,   0, 255, 253, 196,   0,   0,   0,   0,   0],\n",
       "        [  0,   0,   0,   0,   0,   0,  76, 246, 252, 112,   0,   0,   0,   0,\n",
       "           0,   0,   0,   0,   0,   0, 253, 252, 148,   0,   0,   0,   0,   0],\n",
       "        [  0,   0,   0,   0,   0,   0,  85, 252, 230,  25,   0,   0,   0,   0,\n",
       "           0,   0,   0,   0,   7, 135, 253, 186,  12,   0,   0,   0,   0,   0],\n",
       "        [  0,   0,   0,   0,   0,   0,  85, 252, 223,   0,   0,   0,   0,   0,\n",
       "           0,   0,   0,   7, 131, 252, 225,  71,   0,   0,   0,   0,   0,   0],\n",
       "        [  0,   0,   0,   0,   0,   0,  85, 252, 145,   0,   0,   0,   0,   0,\n",
       "           0,   0,  48, 165, 252, 173,   0,   0,   0,   0,   0,   0,   0,   0],\n",
       "        [  0,   0,   0,   0,   0,   0,  86, 253, 225,   0,   0,   0,   0,   0,\n",
       "           0, 114, 238, 253, 162,   0,   0,   0,   0,   0,   0,   0,   0,   0],\n",
       "        [  0,   0,   0,   0,   0,   0,  85, 252, 249, 146,  48,  29,  85, 178,\n",
       "         225, 253, 223, 167,  56,   0,   0,   0,   0,   0,   0,   0,   0,   0],\n",
       "        [  0,   0,   0,   0,   0,   0,  85, 252, 252, 252, 229, 215, 252, 252,\n",
       "         252, 196, 130,   0,   0,   0,   0,   0,   0,   0,   0,   0,   0,   0],\n",
       "        [  0,   0,   0,   0,   0,   0,  28, 199, 252, 252, 253, 252, 252, 233,\n",
       "         145,   0,   0,   0,   0,   0,   0,   0,   0,   0,   0,   0,   0,   0],\n",
       "        [  0,   0,   0,   0,   0,   0,   0,  25, 128, 252, 253, 252, 141,  37,\n",
       "           0,   0,   0,   0,   0,   0,   0,   0,   0,   0,   0,   0,   0,   0],\n",
       "        [  0,   0,   0,   0,   0,   0,   0,   0,   0,   0,   0,   0,   0,   0,\n",
       "           0,   0,   0,   0,   0,   0,   0,   0,   0,   0,   0,   0,   0,   0],\n",
       "        [  0,   0,   0,   0,   0,   0,   0,   0,   0,   0,   0,   0,   0,   0,\n",
       "           0,   0,   0,   0,   0,   0,   0,   0,   0,   0,   0,   0,   0,   0],\n",
       "        [  0,   0,   0,   0,   0,   0,   0,   0,   0,   0,   0,   0,   0,   0,\n",
       "           0,   0,   0,   0,   0,   0,   0,   0,   0,   0,   0,   0,   0,   0],\n",
       "        [  0,   0,   0,   0,   0,   0,   0,   0,   0,   0,   0,   0,   0,   0,\n",
       "           0,   0,   0,   0,   0,   0,   0,   0,   0,   0,   0,   0,   0,   0]],\n",
       "       dtype=torch.uint8)"
      ]
     },
     "execution_count": 29,
     "metadata": {},
     "output_type": "execute_result"
    }
   ],
   "source": [
    "train_dataset.data[1]"
   ]
  },
  {
   "cell_type": "code",
   "execution_count": 30,
   "id": "a8598bdf-bbab-4a2c-a314-ed2d942b1b6e",
   "metadata": {},
   "outputs": [
    {
     "data": {
      "text/plain": [
       "['0 - zero',\n",
       " '1 - one',\n",
       " '2 - two',\n",
       " '3 - three',\n",
       " '4 - four',\n",
       " '5 - five',\n",
       " '6 - six',\n",
       " '7 - seven',\n",
       " '8 - eight',\n",
       " '9 - nine']"
      ]
     },
     "execution_count": 30,
     "metadata": {},
     "output_type": "execute_result"
    }
   ],
   "source": [
    "class_names = train_dataset.classes\n",
    "class_names"
   ]
  },
  {
   "cell_type": "code",
   "execution_count": 31,
   "id": "3ad88177-748e-4bfb-90c7-3f91c1248205",
   "metadata": {},
   "outputs": [],
   "source": [
    "image, label = train_dataset[2]"
   ]
  },
  {
   "cell_type": "code",
   "execution_count": 32,
   "id": "f552a5b7-646c-4315-8988-13e9fd8c4300",
   "metadata": {},
   "outputs": [
    {
     "data": {
      "text/plain": [
       "4"
      ]
     },
     "execution_count": 32,
     "metadata": {},
     "output_type": "execute_result"
    }
   ],
   "source": [
    "label"
   ]
  },
  {
   "cell_type": "code",
   "execution_count": 33,
   "id": "7b7a5f6e-19a6-4d07-87a4-78eb7c0c2e6e",
   "metadata": {},
   "outputs": [
    {
     "data": {
      "image/png": "[encoded data removed]",
      "text/plain": [
       "<Figure size 640x480 with 1 Axes>"
      ]
     },
     "metadata": {},
     "output_type": "display_data"
    }
   ],
   "source": [
    "image, label = train_dataset[2]\n",
    "plt.imshow(image.squeeze(), cmap=\"RdYlGn\")\n",
    "plt.title(label)\n",
    "plt.show()"
   ]
  },
  {
   "cell_type": "code",
   "execution_count": 34,
   "id": "b44422ed-69cf-4991-ac23-0a687eec5603",
   "metadata": {},
   "outputs": [
    {
     "data": {
      "image/png": "[encoded data removed]",
      "text/plain": [
       "<Figure size 900x900 with 16 Axes>"
      ]
     },
     "metadata": {},
     "output_type": "display_data"
    }
   ],
   "source": [
    "# Plot more images\n",
    "torch.manual_seed(42)\n",
    "fig = plt.figure(figsize=(9, 9))\n",
    "rows, cols = 4, 4\n",
    "for i in range(1, rows * cols + 1):\n",
    "    random_idx = torch.randint(0, len(train_dataset), size=[1]).item()\n",
    "    img, label = train_dataset[random_idx]\n",
    "    fig.add_subplot(rows, cols, i)\n",
    "    plt.imshow(img.squeeze(), cmap=\"RdGy\")\n",
    "    plt.title(class_names[label])\n",
    "    plt.axis(False);"
   ]
  },
  {
   "cell_type": "code",
   "execution_count": 35,
   "id": "881890b1-10a3-4c42-90b1-96c7e5b15fca",
   "metadata": {},
   "outputs": [],
   "source": [
    "image_path = 'two.png'  # Path to your input image\n",
    "# input_image = cv2.imread(image_path, cv2.IMREAD_GRAYSCALE)  # Read as grayscale"
   ]
  },
  {
   "cell_type": "code",
   "execution_count": 36,
   "id": "32659efc-8340-44a3-bee9-04b7e626a35b",
   "metadata": {},
   "outputs": [],
   "source": [
    "from PIL import Image\n",
    "image = Image.open(image_path).convert('L')  # Convert to grayscale\n",
    "\n",
    "# Define preprocessing: Resize, Normalize, and Convert to Tensor\n",
    "transform = torchvision.transforms.Compose([\n",
    "    torchvision.transforms.Resize((28, 28)),       # Resize to 28x28 pixels\n",
    "    torchvision.transforms.ToTensor(),             # Convert to Tensor\n",
    "    torchvision.transforms.Normalize((0.5,), (0.5,))  # Normalize to [-1, 1] range\n",
    "])\n",
    "\n",
    "input_tensor = transform(image)  # Apply the transformation\n",
    "input_tensor = input_tensor.unsqueeze(0)  # Add batch dimension (1, 1, 28, 28)"
   ]
  },
  {
   "cell_type": "code",
   "execution_count": 105,
   "id": "f62f1a3a-84b7-4919-81ae-41c7b69ddd8e",
   "metadata": {},
   "outputs": [
    {
     "name": "stdout",
     "output_type": "stream",
     "text": [
      "Predicted Digit: 7\n"
     ]
    },
    {
     "name": "stderr",
     "output_type": "stream",
     "text": [
      "C:\\Users\\kumar\\AppData\\Local\\Programs\\Python\\Python312\\Lib\\site-packages\\torch\\nn\\modules\\module.py:1553: UserWarning: Implicit dimension choice for softmax has been deprecated. Change the call to include dim=X as an argument.\n",
      "  return self._call_impl(*args, **kwargs)\n"
     ]
    }
   ],
   "source": [
    "with torch.no_grad():  # Disable gradient computation for inference\n",
    "    output = model(input_tensor)  # Forward pass\n",
    "    predicted_class = torch.argmax(output, dim=1).item()  # Get the predicted class\n",
    "\n",
    "print(f\"Predicted Digit: {predicted_class}\")"
   ]
  },
  {
   "cell_type": "code",
   "execution_count": 127,
   "id": "12360e81-b947-498c-a071-24e6eedb0165",
   "metadata": {},
   "outputs": [
    {
     "name": "stdout",
     "output_type": "stream",
     "text": [
      "Predicted Digit: 1\n"
     ]
    }
   ],
   "source": [
    "image_path = 'three.png'\n",
    "\n",
    "image = Image.open(image_path).convert('L')  # Convert to grayscale\n",
    "\n",
    "# Define preprocessing: Resize, Normalize, and Convert to Tensor\n",
    "transform = torchvision.transforms.Compose([\n",
    "    torchvision.transforms.Resize((28, 28)),       # Resize to 28x28 pixels\n",
    "    torchvision.transforms.ToTensor(),             # Convert to Tensor\n",
    "    torchvision.transforms.Normalize((0.5,), (0.5,))  # Normalize to [-1, 1] range\n",
    "])\n",
    "\n",
    "input_tensor = transform(image)  # Apply the transformation\n",
    "input_tensor = input_tensor.unsqueeze(0)  # Add batch dimension (1, 1, 28, 28)\n",
    "\n",
    "with torch.no_grad():  # Disable gradient computation for inference\n",
    "    output = model(input_tensor)  # Forward pass\n",
    "    predicted_class = torch.argmax(output, dim=1).item()  # Get the predicted class\n",
    "\n",
    "print(f\"Predicted Digit: {predicted_class}\")"
   ]
  },
  {
   "cell_type": "code",
   "execution_count": 128,
   "id": "42b50ff3-05d3-4426-8be0-5778eb80cf26",
   "metadata": {},
   "outputs": [
    {
     "data": {
      "text/plain": [
       "tensor([[5.4713e-09, 8.7141e-01, 2.1954e-04, 8.3374e-04, 5.4606e-09, 1.2712e-01,\n",
       "         5.7192e-08, 4.2242e-04, 5.0367e-11, 3.7383e-08]])"
      ]
     },
     "execution_count": 128,
     "metadata": {},
     "output_type": "execute_result"
    }
   ],
   "source": [
    "output"
   ]
  },
  {
   "cell_type": "code",
   "execution_count": 111,
   "id": "4155cc42-08cb-4ef8-a1de-ba7cc991e5e8",
   "metadata": {},
   "outputs": [
    {
     "data": {
      "text/plain": [
       "tensor([[[[-1.0000, -1.0000, -1.0000, -1.0000, -1.0000, -1.0000, -1.0000,\n",
       "           -1.0000, -1.0000, -1.0000, -1.0000, -1.0000, -1.0000, -1.0000,\n",
       "           -1.0000, -1.0000, -1.0000, -1.0000, -1.0000, -1.0000, -1.0000,\n",
       "           -1.0000, -1.0000, -1.0000, -1.0000, -1.0000, -1.0000, -1.0000],\n",
       "          [-1.0000, -1.0000, -1.0000, -1.0000, -1.0000, -1.0000, -1.0000,\n",
       "           -1.0000, -1.0000, -1.0000, -1.0000, -1.0000, -1.0000, -1.0000,\n",
       "           -1.0000, -1.0000, -1.0000, -1.0000, -1.0000, -1.0000, -1.0000,\n",
       "           -1.0000, -1.0000, -1.0000, -1.0000, -1.0000, -1.0000, -1.0000],\n",
       "          [-1.0000, -1.0000, -1.0000, -0.9922, -0.9922, -0.9922, -1.0000,\n",
       "           -1.0000, -1.0000, -1.0000, -1.0000, -1.0000, -1.0000, -1.0000,\n",
       "           -1.0000, -1.0000, -1.0000, -1.0000, -1.0000, -1.0000, -1.0000,\n",
       "           -1.0000, -1.0000, -1.0000, -1.0000, -1.0000, -1.0000, -1.0000],\n",
       "          [-1.0000, -1.0000, -0.9843, -0.7569, -0.6863, -0.7255, -0.9608,\n",
       "           -1.0000, -1.0000, -1.0000, -1.0000, -1.0000, -1.0000, -1.0000,\n",
       "           -1.0000, -1.0000, -1.0000, -0.9843, -0.9373, -0.9294, -1.0000,\n",
       "           -1.0000, -1.0000, -1.0000, -1.0000, -1.0000, -1.0000, -1.0000],\n",
       "          [-1.0000, -1.0000, -0.9843, -0.6471, -0.5059, -0.5529, -0.9216,\n",
       "           -1.0000, -1.0000, -1.0000, -1.0000, -1.0000, -1.0000, -1.0000,\n",
       "           -1.0000, -1.0000, -0.9686, -0.8431, -0.7490, -0.7647, -0.9843,\n",
       "           -1.0000, -1.0000, -1.0000, -1.0000, -1.0000, -1.0000, -1.0000],\n",
       "          [-1.0000, -1.0000, -0.9843, -0.6549, -0.5059, -0.5529, -0.9137,\n",
       "           -1.0000, -1.0000, -1.0000, -1.0000, -1.0000, -1.0000, -1.0000,\n",
       "           -1.0000, -1.0000, -0.9608, -0.8588, -0.8745, -0.8510, -0.9451,\n",
       "           -1.0000, -1.0000, -1.0000, -1.0000, -1.0000, -1.0000, -1.0000],\n",
       "          [-1.0000, -1.0000, -0.9922, -0.6941, -0.5059, -0.5373, -0.8902,\n",
       "           -1.0000, -1.0000, -1.0000, -1.0000, -1.0000, -1.0000, -1.0000,\n",
       "           -1.0000, -1.0000, -0.9608, -0.7882, -0.8745, -0.8039, -0.7961,\n",
       "           -1.0000, -1.0000, -1.0000, -1.0000, -1.0000, -1.0000, -1.0000],\n",
       "          [-1.0000, -1.0000, -1.0000, -0.7333, -0.5059, -0.5216, -0.8353,\n",
       "           -1.0000, -1.0000, -1.0000, -1.0000, -1.0000, -1.0000, -1.0000,\n",
       "           -1.0000, -1.0000, -0.9843, -0.7176, -0.8431, -0.8431, -0.7020,\n",
       "           -0.9843, -1.0000, -1.0000, -1.0000, -1.0000, -1.0000, -1.0000],\n",
       "          [-1.0000, -1.0000, -1.0000, -0.8431, -0.5216, -0.5059, -0.6941,\n",
       "           -0.9922, -1.0000, -1.0000, -1.0000, -1.0000, -1.0000, -1.0000,\n",
       "           -1.0000, -1.0000, -1.0000, -0.7647, -0.7961, -0.8667, -0.7098,\n",
       "           -0.9451, -1.0000, -1.0000, -1.0000, -1.0000, -1.0000, -1.0000],\n",
       "          [-1.0000, -1.0000, -1.0000, -0.9529, -0.5922, -0.5059, -0.5686,\n",
       "           -0.9294, -1.0000, -1.0000, -1.0000, -1.0000, -1.0000, -1.0000,\n",
       "           -1.0000, -1.0000, -1.0000, -0.8667, -0.7725, -0.8745, -0.7725,\n",
       "           -0.9216, -1.0000, -1.0000, -1.0000, -1.0000, -1.0000, -1.0000],\n",
       "          [-1.0000, -1.0000, -1.0000, -1.0000, -0.7333, -0.5059, -0.5137,\n",
       "           -0.7961, -1.0000, -1.0000, -1.0000, -1.0000, -1.0000, -1.0000,\n",
       "           -1.0000, -1.0000, -1.0000, -0.9529, -0.8353, -0.8745, -0.8431,\n",
       "           -0.9451, -1.0000, -1.0000, -1.0000, -1.0000, -1.0000, -1.0000],\n",
       "          [-1.0000, -1.0000, -1.0000, -1.0000, -0.8745, -0.5294, -0.5059,\n",
       "           -0.6863, -0.9922, -1.0000, -1.0000, -1.0000, -1.0000, -1.0000,\n",
       "           -1.0000, -1.0000, -1.0000, -0.9922, -0.8902, -0.8745, -0.8667,\n",
       "           -0.9529, -1.0000, -1.0000, -1.0000, -1.0000, -1.0000, -1.0000],\n",
       "          [-1.0000, -1.0000, -1.0000, -1.0000, -0.9451, -0.5922, -0.5059,\n",
       "           -0.5843, -0.9451, -1.0000, -1.0000, -1.0000, -1.0000, -0.9922,\n",
       "           -0.9765, -0.9608, -0.9137, -0.8902, -0.8353, -0.8902, -0.8588,\n",
       "           -0.8824, -1.0000, -1.0000, -1.0000, -1.0000, -1.0000, -1.0000],\n",
       "          [-1.0000, -1.0000, -1.0000, -1.0000, -0.9922, -0.7020, -0.5059,\n",
       "           -0.5216, -0.8510, -0.9922, -0.9608, -0.8980, -0.8118, -0.7098,\n",
       "           -0.6235, -0.5922, -0.5451, -0.5451, -0.7804, -0.9294, -0.8588,\n",
       "           -0.8431, -1.0000, -1.0000, -1.0000, -1.0000, -1.0000, -1.0000],\n",
       "          [-1.0000, -1.0000, -1.0000, -1.0000, -1.0000, -0.8196, -0.5137,\n",
       "           -0.5922, -0.7333, -0.7098, -0.6078, -0.5451, -0.5137, -0.5059,\n",
       "           -0.5059, -0.5059, -0.5137, -0.5294, -0.7569, -0.8745, -0.8275,\n",
       "           -0.8824, -1.0000, -1.0000, -1.0000, -1.0000, -1.0000, -1.0000],\n",
       "          [-1.0000, -1.0000, -1.0000, -1.0000, -1.0000, -0.8588, -0.5294,\n",
       "           -0.7333, -0.6784, -0.5059, -0.5059, -0.5137, -0.5451, -0.6000,\n",
       "           -0.6863, -0.7647, -0.8196, -0.8667, -0.7020, -0.6392, -0.6078,\n",
       "           -0.9137, -1.0000, -1.0000, -1.0000, -1.0000, -1.0000, -1.0000],\n",
       "          [-1.0000, -1.0000, -1.0000, -1.0000, -1.0000, -0.9608, -0.7412,\n",
       "           -0.6078, -0.6157, -0.6157, -0.6863, -0.8118, -0.9059, -0.9608,\n",
       "           -0.9922, -1.0000, -1.0000, -0.9922, -0.6627, -0.5059, -0.5451,\n",
       "           -0.9137, -1.0000, -1.0000, -1.0000, -1.0000, -1.0000, -1.0000],\n",
       "          [-1.0000, -1.0000, -1.0000, -1.0000, -1.0000, -1.0000, -0.9922,\n",
       "           -0.9137, -0.9373, -0.9686, -0.9922, -1.0000, -1.0000, -1.0000,\n",
       "           -1.0000, -1.0000, -1.0000, -0.9922, -0.6627, -0.5059, -0.5451,\n",
       "           -0.9137, -1.0000, -1.0000, -1.0000, -1.0000, -1.0000, -1.0000],\n",
       "          [-1.0000, -1.0000, -1.0000, -1.0000, -1.0000, -1.0000, -1.0000,\n",
       "           -1.0000, -1.0000, -1.0000, -1.0000, -1.0000, -1.0000, -1.0000,\n",
       "           -1.0000, -1.0000, -1.0000, -0.9922, -0.6627, -0.5059, -0.5451,\n",
       "           -0.9137, -1.0000, -1.0000, -1.0000, -1.0000, -1.0000, -1.0000],\n",
       "          [-1.0000, -1.0000, -1.0000, -1.0000, -1.0000, -1.0000, -1.0000,\n",
       "           -1.0000, -1.0000, -1.0000, -1.0000, -1.0000, -1.0000, -1.0000,\n",
       "           -1.0000, -1.0000, -1.0000, -0.9765, -0.6471, -0.5216, -0.5843,\n",
       "           -0.9373, -1.0000, -1.0000, -1.0000, -1.0000, -1.0000, -1.0000],\n",
       "          [-1.0000, -1.0000, -1.0000, -1.0000, -1.0000, -1.0000, -1.0000,\n",
       "           -1.0000, -1.0000, -1.0000, -1.0000, -1.0000, -1.0000, -1.0000,\n",
       "           -1.0000, -1.0000, -1.0000, -0.9608, -0.6078, -0.5216, -0.6000,\n",
       "           -0.9608, -1.0000, -1.0000, -1.0000, -1.0000, -1.0000, -1.0000],\n",
       "          [-1.0000, -1.0000, -1.0000, -1.0000, -1.0000, -1.0000, -1.0000,\n",
       "           -1.0000, -1.0000, -1.0000, -1.0000, -1.0000, -1.0000, -1.0000,\n",
       "           -1.0000, -1.0000, -1.0000, -0.9608, -0.6000, -0.5059, -0.5922,\n",
       "           -0.9608, -1.0000, -1.0000, -1.0000, -1.0000, -1.0000, -1.0000],\n",
       "          [-1.0000, -1.0000, -1.0000, -1.0000, -1.0000, -1.0000, -1.0000,\n",
       "           -1.0000, -1.0000, -1.0000, -1.0000, -1.0000, -1.0000, -1.0000,\n",
       "           -1.0000, -1.0000, -1.0000, -0.9686, -0.6157, -0.5059, -0.5686,\n",
       "           -0.9373, -1.0000, -1.0000, -1.0000, -1.0000, -1.0000, -1.0000],\n",
       "          [-1.0000, -1.0000, -1.0000, -1.0000, -1.0000, -1.0000, -1.0000,\n",
       "           -1.0000, -1.0000, -1.0000, -1.0000, -1.0000, -1.0000, -1.0000,\n",
       "           -1.0000, -1.0000, -1.0000, -0.9922, -0.6706, -0.5059, -0.5451,\n",
       "           -0.9137, -1.0000, -1.0000, -1.0000, -1.0000, -1.0000, -1.0000],\n",
       "          [-1.0000, -1.0000, -1.0000, -1.0000, -1.0000, -1.0000, -1.0000,\n",
       "           -1.0000, -1.0000, -1.0000, -1.0000, -1.0000, -1.0000, -1.0000,\n",
       "           -1.0000, -1.0000, -1.0000, -1.0000, -0.7647, -0.6235, -0.6471,\n",
       "           -0.9216, -1.0000, -1.0000, -1.0000, -1.0000, -1.0000, -1.0000],\n",
       "          [-1.0000, -1.0000, -1.0000, -1.0000, -1.0000, -1.0000, -1.0000,\n",
       "           -1.0000, -1.0000, -1.0000, -1.0000, -1.0000, -1.0000, -1.0000,\n",
       "           -1.0000, -1.0000, -1.0000, -1.0000, -0.9843, -0.9765, -0.9765,\n",
       "           -0.9922, -1.0000, -1.0000, -1.0000, -1.0000, -1.0000, -1.0000],\n",
       "          [-1.0000, -1.0000, -1.0000, -1.0000, -1.0000, -1.0000, -1.0000,\n",
       "           -1.0000, -1.0000, -1.0000, -1.0000, -1.0000, -1.0000, -1.0000,\n",
       "           -1.0000, -1.0000, -1.0000, -1.0000, -1.0000, -1.0000, -1.0000,\n",
       "           -1.0000, -1.0000, -1.0000, -1.0000, -1.0000, -1.0000, -1.0000],\n",
       "          [-1.0000, -1.0000, -1.0000, -1.0000, -1.0000, -1.0000, -1.0000,\n",
       "           -1.0000, -1.0000, -1.0000, -1.0000, -1.0000, -1.0000, -1.0000,\n",
       "           -1.0000, -1.0000, -1.0000, -1.0000, -1.0000, -1.0000, -1.0000,\n",
       "           -1.0000, -1.0000, -1.0000, -1.0000, -1.0000, -1.0000, -1.0000]]]])"
      ]
     },
     "execution_count": 111,
     "metadata": {},
     "output_type": "execute_result"
    }
   ],
   "source": [
    "input_tensor"
   ]
  },
  {
   "cell_type": "code",
   "execution_count": 137,
   "id": "bd38fc6e-a3e2-4019-9c87-fc6c21928819",
   "metadata": {},
   "outputs": [
    {
     "name": "stdout",
     "output_type": "stream",
     "text": [
      "Predicted class: 7\n",
      "Confidence: 0.23\n"
     ]
    }
   ],
   "source": [
    "image_path = 'two.png'\n",
    "\n",
    "image = Image.open(image_path).convert('L')  # Convert to grayscale\n",
    "\n",
    "# Define preprocessing: Resize, Normalize, and Convert to Tensor\n",
    "transform = torchvision.transforms.Compose([\n",
    "    torchvision.transforms.Resize((28, 28)),       # Resize to 28x28 pixels\n",
    "    torchvision.transforms.ToTensor(),             # Convert to Tensor\n",
    "    torchvision.transforms.Normalize((0.5,), (0.5,))  # Normalize to [-1, 1] range\n",
    "])\n",
    "\n",
    "input_tensor = transform(image)  # Apply the transformation\n",
    "input_tensor = input_tensor.unsqueeze(0)  # Add batch dimension (1, 1, 28, 28)\n",
    "# Scale to the range [0, 1]\n",
    "scaled_tensor = (input_tensor + 1) / 2\n",
    "\n",
    "with torch.no_grad():  # Disable gradient computation for inference\n",
    "    model.eval()\n",
    "    output = model(scaled_tensor)  # Forward pass\n",
    "    # probabilities = torch.softmax(output, dim=1)\n",
    "    predicted_class = torch.argmax(output, dim=1).item()  # Get the predicted class\n",
    "\n",
    "    confidence = torch.max(probabilities, dim=1).values\n",
    "\n",
    "print(f\"Predicted class: {predicted_class}\")\n",
    "print(f\"Confidence: {confidence.item():.2f}\")"
   ]
  },
  {
   "cell_type": "code",
   "execution_count": 138,
   "id": "8bb0dcc4-c87d-4788-bb63-75db28b60676",
   "metadata": {},
   "outputs": [
    {
     "data": {
      "text/plain": [
       "tensor([[5.2146e-21, 9.1898e-19, 2.0398e-14, 3.2859e-10, 4.2665e-19, 4.6571e-19,\n",
       "         1.3853e-21, 1.0000e+00, 3.4266e-19, 1.0452e-06]])"
      ]
     },
     "execution_count": 138,
     "metadata": {},
     "output_type": "execute_result"
    }
   ],
   "source": [
    "output"
   ]
  },
  {
   "cell_type": "code",
   "execution_count": 133,
   "id": "858caf23-a5e5-4eeb-900c-5e43bb11f697",
   "metadata": {},
   "outputs": [
    {
     "data": {
      "text/plain": [
       "tensor([[[[ 0.8588,  0.8196,  0.8588,  0.8275,  0.8667,  0.8667,  0.8745,\n",
       "            0.9373,  0.8667,  0.8745,  0.9059,  0.9608,  0.9137,  0.8745,\n",
       "            1.0000,  1.0000,  1.0000,  1.0000,  1.0000,  1.0000,  1.0000,\n",
       "            1.0000,  1.0000,  1.0000,  1.0000,  1.0000,  1.0000,  1.0000],\n",
       "          [ 0.8196,  0.6941,  0.6000,  0.6314,  0.6863,  0.6078,  0.6941,\n",
       "            0.8196,  0.6235,  0.6549,  0.6627,  0.8275,  0.8039,  0.7647,\n",
       "            1.0000,  1.0000,  1.0000,  1.0000,  1.0000,  1.0000,  1.0000,\n",
       "            1.0000,  1.0000,  1.0000,  1.0000,  1.0000,  1.0000,  1.0000],\n",
       "          [ 0.9922,  0.9843,  0.9765,  0.9765,  0.9765,  0.9765,  0.9843,\n",
       "            0.9843,  0.9765,  0.9765,  0.9765,  0.9922,  0.9922,  0.9843,\n",
       "            1.0000,  1.0000,  1.0000,  1.0000,  1.0000,  1.0000,  1.0000,\n",
       "            1.0000,  1.0000,  1.0000,  1.0000,  1.0000,  1.0000,  1.0000],\n",
       "          [ 1.0000,  0.9922,  0.9059,  0.8745,  0.8039,  0.7961,  0.7961,\n",
       "            0.7961,  0.7961,  0.7961,  0.7961,  0.7961,  0.8039,  0.8039,\n",
       "            0.8039,  0.8039,  0.8039,  0.8039,  0.7961,  0.8039,  0.7961,\n",
       "            0.7961,  0.7961,  0.8196,  0.9765,  1.0000,  1.0000,  1.0000],\n",
       "          [ 1.0000,  0.9922,  0.8196,  0.3647, -0.5608, -0.6314, -0.6392,\n",
       "           -0.6392, -0.6314, -0.6314, -0.6314, -0.6314, -0.6314, -0.6235,\n",
       "           -0.5922, -0.5686, -0.5686, -0.5765, -0.6157, -0.6314, -0.6314,\n",
       "           -0.6314, -0.6392, -0.3490,  0.8510,  1.0000,  1.0000,  1.0000],\n",
       "          [ 1.0000,  1.0000,  0.9922,  0.3490, -0.8980, -0.9922, -0.9922,\n",
       "           -0.9922, -0.9922, -0.9922, -0.9922, -0.9922, -0.9922, -0.9922,\n",
       "           -0.9686, -0.9608, -0.9608, -0.9608, -0.9765, -0.9922, -0.9922,\n",
       "           -0.9922, -0.9922, -0.6392,  0.8275,  1.0000,  1.0000,  1.0000],\n",
       "          [ 1.0000,  0.9922,  0.9686,  0.3490, -0.8980, -0.9922, -0.9922,\n",
       "           -0.9922, -0.9922, -0.9922, -0.9922, -0.9922, -0.9922, -0.9922,\n",
       "           -0.9922, -0.9922, -0.9922, -0.9922, -0.9922, -0.9922, -0.9922,\n",
       "           -0.9922, -0.9922, -0.6471,  0.8275,  1.0000,  1.0000,  1.0000],\n",
       "          [ 1.0000,  0.9294,  0.7020,  0.2863, -0.8980, -0.9922, -0.9922,\n",
       "           -0.9922, -0.9216, -0.3882, -0.1294, -0.1216, -0.1294, -0.4667,\n",
       "           -0.9294, -0.9765, -0.9843, -0.9922, -0.9922, -0.9922, -0.9922,\n",
       "           -0.9922, -0.9922, -0.6392,  0.8275,  1.0000,  1.0000,  1.0000],\n",
       "          [ 1.0000,  0.9765,  0.9373,  0.3412, -0.8980, -0.9922, -0.9922,\n",
       "           -0.9843, -0.4275,  0.7647,  0.8824,  0.7333,  0.7333,  0.6549,\n",
       "           -0.1137, -0.8667, -0.9686, -0.9922, -0.9922, -0.9922, -0.9922,\n",
       "           -0.9922, -0.9922, -0.6392,  0.8275,  1.0000,  1.0000,  1.0000],\n",
       "          [ 1.0000,  1.0000,  1.0000,  0.3490, -0.8980, -0.9922, -0.9922,\n",
       "           -0.9843, -0.2863,  0.8824,  0.3176, -0.6000, -0.5765, -0.3882,\n",
       "            0.2000, -0.0980, -0.8824, -0.9608, -0.9765, -0.9922, -0.9922,\n",
       "           -0.9922, -0.9922, -0.6392,  0.8275,  1.0000,  1.0000,  1.0000],\n",
       "          [ 1.0000,  0.9294,  0.7725,  0.3098, -0.8980, -0.9922, -0.9922,\n",
       "           -0.9843, -0.6863,  0.5059,  0.5373, -0.6941, -0.9451, -0.9451,\n",
       "           -0.8039,  0.0902, -0.0431, -0.8353, -0.9843, -0.9922, -0.9922,\n",
       "           -0.9922, -0.9922, -0.6392,  0.8275,  1.0000,  1.0000,  1.0000],\n",
       "          [ 1.0000,  0.9451,  0.7882,  0.3176, -0.8980, -0.9922, -0.9922,\n",
       "           -0.9922, -0.9686, -0.5294,  0.5451,  0.3255, -0.6471, -0.9451,\n",
       "           -0.9529, -0.5216,  0.5451, -0.5922, -0.9922, -0.9922, -0.9922,\n",
       "           -0.9922, -0.9922, -0.6392,  0.8275,  1.0000,  1.0000,  1.0000],\n",
       "          [ 1.0000,  1.0000,  0.9922,  0.3490, -0.8980, -0.9922, -0.9922,\n",
       "           -0.9922, -0.9843, -0.9451, -0.3098,  0.6000,  0.4353, -0.5686,\n",
       "           -0.9529, -0.8196,  0.4510, -0.3255, -0.9843, -0.9922, -0.9922,\n",
       "           -0.9922, -0.9922, -0.6392,  0.8275,  1.0000,  1.0000,  1.0000],\n",
       "          [ 1.0000,  0.9765,  0.9137,  0.3333, -0.8980, -0.9922, -0.9922,\n",
       "           -0.9922, -0.9922, -0.9922, -0.9451, -0.5765,  0.4510,  0.3647,\n",
       "           -0.8275, -0.8431,  0.4980, -0.0824, -0.9765, -0.9922, -0.9922,\n",
       "           -0.9922, -0.9922, -0.6471,  0.8275,  1.0000,  1.0000,  1.0000],\n",
       "          [ 1.0000,  0.8980,  0.6627,  0.2941, -0.8980, -0.9922, -0.9922,\n",
       "           -0.9922, -0.9922, -0.9922, -0.9843, -0.9294, -0.5216,  0.1529,\n",
       "           -0.6706, -0.7647,  0.4745, -0.4196, -0.9843, -0.9922, -0.9922,\n",
       "           -0.9922, -0.9922, -0.6392,  0.8275,  1.0000,  1.0000,  1.0000],\n",
       "          [ 1.0000,  0.9922,  0.9686,  0.3490, -0.8980, -0.9922, -0.9922,\n",
       "           -0.9922, -0.9922, -0.9922, -0.9843, -0.7882,  0.2863,  0.6471,\n",
       "            0.1765,  0.1529,  0.7412, -0.5608, -0.9843, -0.9922, -0.9922,\n",
       "           -0.9922, -0.9922, -0.6392,  0.8275,  1.0000,  1.0000,  1.0000],\n",
       "          [ 1.0000,  0.9922,  0.9765,  0.3490, -0.8980, -0.9922, -0.9922,\n",
       "           -0.9922, -0.9922, -0.9922, -0.9922, -0.9216, -0.4039,  0.0118,\n",
       "            0.2471,  0.8745,  0.8980,  0.0667, -0.8902, -0.9843, -0.9922,\n",
       "           -0.9922, -0.9922, -0.6392,  0.8275,  1.0000,  1.0000,  1.0000],\n",
       "          [ 1.0000,  0.8980,  0.6627,  0.2863, -0.8980, -0.9922, -0.9922,\n",
       "           -0.9922, -0.9922, -0.9922, -0.9922, -0.9843, -0.9843, -0.9686,\n",
       "           -0.4275,  0.8431,  0.5765,  0.6784, -0.1529, -0.9059, -0.9843,\n",
       "           -0.9922, -0.9922, -0.6392,  0.8275,  1.0000,  1.0000,  1.0000],\n",
       "          [ 1.0000,  0.9608,  0.8824,  0.3255, -0.8980, -0.9922, -0.9922,\n",
       "           -0.9922, -0.9922, -0.9922, -0.9922, -0.9922, -0.9843, -0.9216,\n",
       "           -0.1451,  0.5373, -0.5922,  0.0353,  0.6627, -0.5216, -0.9922,\n",
       "           -0.9922, -0.9922, -0.6392,  0.8275,  1.0000,  1.0000,  1.0000],\n",
       "          [ 1.0000,  1.0000,  1.0000,  0.3490, -0.8980, -0.9922, -0.9922,\n",
       "           -0.9922, -0.9922, -0.9922, -0.9922, -0.9922, -0.9843, -0.7961,\n",
       "            0.5373,  0.0667, -0.9451, -0.2000,  0.8980, -0.1059, -0.9843,\n",
       "           -0.9922, -0.9922, -0.6392,  0.8275,  1.0000,  1.0000,  1.0000],\n",
       "          [ 0.9922,  0.8667,  0.8510,  0.3255, -0.8980, -0.9922, -0.9922,\n",
       "           -0.9922, -0.9922, -0.9922, -0.9922, -0.9922, -0.9922, -0.8039,\n",
       "            0.5686,  0.2157, -0.4431,  0.2392,  0.9216, -0.1137, -0.9843,\n",
       "           -0.9922, -0.9922, -0.6392,  0.8275,  1.0000,  1.0000,  1.0000],\n",
       "          [ 0.9922,  0.7882,  0.7647,  0.3098, -0.8980, -0.9922, -0.9922,\n",
       "           -0.9922, -0.9922, -0.9922, -0.9922, -0.9922, -0.9922, -0.9373,\n",
       "            0.0510,  0.8588,  0.8510,  0.9137,  0.5529, -0.6157, -0.9765,\n",
       "           -0.9922, -0.9922, -0.6392,  0.8275,  1.0000,  1.0000,  1.0000],\n",
       "          [ 1.0000,  1.0000,  1.0000,  0.3490, -0.8980, -0.9922, -0.9922,\n",
       "           -0.9922, -0.9922, -0.9922, -0.9922, -0.9922, -0.9922, -0.9765,\n",
       "           -0.5843,  0.3961,  0.4824,  0.3961, -0.4353, -0.9529, -0.9843,\n",
       "           -0.9922, -0.9922, -0.6471,  0.8275,  1.0000,  1.0000,  1.0000],\n",
       "          [ 1.0000,  0.9608,  0.9529,  0.3412, -0.8980, -0.9922, -0.9922,\n",
       "           -0.9922, -0.9922, -0.9922, -0.9843, -0.9922, -0.9843, -0.9843,\n",
       "           -0.9451, -0.8588, -0.8667, -0.8824, -0.9608, -0.9843, -0.9922,\n",
       "           -0.9922, -0.9922, -0.6392,  0.8275,  1.0000,  1.0000,  1.0000],\n",
       "          [ 0.9843,  0.7490,  0.7020,  0.4980, -0.0980, -0.1294, -0.1765,\n",
       "           -0.1529, -0.1294, -0.1608, -0.1451, -0.1216, -0.1451, -0.1686,\n",
       "           -0.1294, -0.1451, -0.1843, -0.1294, -0.1373, -0.1922, -0.1373,\n",
       "           -0.1373, -0.1843,  0.0431,  0.8980,  1.0000,  1.0000,  1.0000],\n",
       "          [ 0.9922,  0.9451,  0.9373,  0.7961,  0.9294,  0.9843,  0.7333,\n",
       "            0.8196,  0.9843,  0.7490,  0.7804,  0.9922,  0.8196,  0.7020,\n",
       "            0.9765,  0.8588,  0.6392,  0.9608,  0.8588,  0.6000,  0.8824,\n",
       "            0.9059,  0.6471,  0.8275,  0.9922,  1.0000,  1.0000,  1.0000],\n",
       "          [ 1.0000,  1.0000,  0.9922,  0.9451,  0.9686,  0.9922,  0.9137,\n",
       "            0.9529,  0.9922,  0.9373,  0.9451,  1.0000,  0.9529,  0.9216,\n",
       "            0.9922,  0.9608,  0.9059,  0.9843,  0.9529,  0.8980,  0.9686,\n",
       "            0.9686,  0.8902,  0.9529,  0.9922,  1.0000,  1.0000,  1.0000],\n",
       "          [ 0.9608,  0.9608,  0.9608,  0.9608,  0.9608,  0.9608,  0.9608,\n",
       "            0.9608,  0.9608,  0.9608,  0.9608,  0.9608,  0.9608,  0.9608,\n",
       "            0.9608,  0.9608,  0.9608,  0.9608,  0.9608,  0.9608,  0.9608,\n",
       "            0.9608,  0.9608,  0.9608,  0.9608,  0.9608,  0.9608,  0.9608]]]])"
      ]
     },
     "execution_count": 133,
     "metadata": {},
     "output_type": "execute_result"
    }
   ],
   "source": [
    "input_tensor"
   ]
  },
  {
   "cell_type": "code",
   "execution_count": 117,
   "id": "3729ab0c-b994-4ece-b111-b73b0e78e71e",
   "metadata": {},
   "outputs": [
    {
     "data": {
      "text/plain": [
       "torch.Size([1, 1, 28, 28])"
      ]
     },
     "execution_count": 117,
     "metadata": {},
     "output_type": "execute_result"
    }
   ],
   "source": [
    "input_tensor.shape"
   ]
  },
  {
   "cell_type": "code",
   "execution_count": null,
   "id": "af379812-1931-4fdf-9022-b9348cc14c01",
   "metadata": {},
   "outputs": [],
   "source": []
  }
 ],
 "metadata": {
  "kernelspec": {
   "display_name": "Python 3 (ipykernel)",
   "language": "python",
   "name": "python3"
  },
  "language_info": {
   "codemirror_mode": {
    "name": "ipython",
    "version": 3
   },
   "file_extension": ".py",
   "mimetype": "text/x-python",
   "name": "python",
   "nbconvert_exporter": "python",
   "pygments_lexer": "ipython3",
   "version": "3.12.1"
  }
 },
 "nbformat": 4,
 "nbformat_minor": 5
}
