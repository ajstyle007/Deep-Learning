{
 "cells": [
  {
   "cell_type": "code",
   "execution_count": 1,
   "id": "81a97155-4db8-4cd5-bb82-7fbca2141171",
   "metadata": {},
   "outputs": [],
   "source": [
    "import pandas as pd\n",
    "from sklearn.model_selection import train_test_split\n",
    "import torch\n",
    "from torch.utils.data import Dataset, DataLoader\n",
    "import torch.nn as nn\n",
    "import torch.optim as optim\n",
    "import matplotlib.pyplot as plt"
   ]
  },
  {
   "cell_type": "code",
   "execution_count": 2,
   "id": "243f9077-d1d4-411c-b370-3e3334b81b84",
   "metadata": {},
   "outputs": [
    {
     "data": {
      "text/plain": [
       "<torch._C.Generator at 0x1b4ea7e2770>"
      ]
     },
     "execution_count": 2,
     "metadata": {},
     "output_type": "execute_result"
    }
   ],
   "source": [
    "# Set random seeds for reproducibility\n",
    "torch.manual_seed(42)"
   ]
  },
  {
   "cell_type": "code",
   "execution_count": 3,
   "id": "302269e6-a486-4f3c-95d6-773f2bc153da",
   "metadata": {},
   "outputs": [
    {
     "name": "stdout",
     "output_type": "stream",
     "text": [
      "Device Name: NVIDIA GeForce RTX 2050\n",
      "Current Device: 0\n"
     ]
    }
   ],
   "source": [
    "print(\"Device Name:\", torch.cuda.get_device_name(0))\n",
    "print(\"Current Device:\", torch.cuda.current_device())"
   ]
  },
  {
   "cell_type": "code",
   "execution_count": 4,
   "id": "883e7cf3-dfac-4ad2-a10e-943ef64ed806",
   "metadata": {},
   "outputs": [
    {
     "data": {
      "text/plain": [
       "'cuda'"
      ]
     },
     "execution_count": 4,
     "metadata": {},
     "output_type": "execute_result"
    }
   ],
   "source": [
    "device = \"cuda\" if torch.cuda.is_available() else \"cpu\"\n",
    "device"
   ]
  },
  {
   "cell_type": "code",
   "execution_count": 5,
   "id": "913fb709-96f2-4697-9dbb-b5e9fc46001d",
   "metadata": {},
   "outputs": [
    {
     "data": {
      "text/html": [
       "<div>\n",
       "<style scoped>\n",
       "    .dataframe tbody tr th:only-of-type {\n",
       "        vertical-align: middle;\n",
       "    }\n",
       "\n",
       "    .dataframe tbody tr th {\n",
       "        vertical-align: top;\n",
       "    }\n",
       "\n",
       "    .dataframe thead th {\n",
       "        text-align: right;\n",
       "    }\n",
       "</style>\n",
       "<table border=\"1\" class=\"dataframe\">\n",
       "  <thead>\n",
       "    <tr style=\"text-align: right;\">\n",
       "      <th></th>\n",
       "      <th>label</th>\n",
       "      <th>pixel1</th>\n",
       "      <th>pixel2</th>\n",
       "      <th>pixel3</th>\n",
       "      <th>pixel4</th>\n",
       "      <th>pixel5</th>\n",
       "      <th>pixel6</th>\n",
       "      <th>pixel7</th>\n",
       "      <th>pixel8</th>\n",
       "      <th>pixel9</th>\n",
       "      <th>...</th>\n",
       "      <th>pixel775</th>\n",
       "      <th>pixel776</th>\n",
       "      <th>pixel777</th>\n",
       "      <th>pixel778</th>\n",
       "      <th>pixel779</th>\n",
       "      <th>pixel780</th>\n",
       "      <th>pixel781</th>\n",
       "      <th>pixel782</th>\n",
       "      <th>pixel783</th>\n",
       "      <th>pixel784</th>\n",
       "    </tr>\n",
       "  </thead>\n",
       "  <tbody>\n",
       "    <tr>\n",
       "      <th>0</th>\n",
       "      <td>2</td>\n",
       "      <td>0</td>\n",
       "      <td>0</td>\n",
       "      <td>0</td>\n",
       "      <td>0</td>\n",
       "      <td>0</td>\n",
       "      <td>0</td>\n",
       "      <td>0</td>\n",
       "      <td>0</td>\n",
       "      <td>0</td>\n",
       "      <td>...</td>\n",
       "      <td>0</td>\n",
       "      <td>0</td>\n",
       "      <td>0</td>\n",
       "      <td>0</td>\n",
       "      <td>0</td>\n",
       "      <td>0</td>\n",
       "      <td>0</td>\n",
       "      <td>0</td>\n",
       "      <td>0</td>\n",
       "      <td>0</td>\n",
       "    </tr>\n",
       "    <tr>\n",
       "      <th>1</th>\n",
       "      <td>9</td>\n",
       "      <td>0</td>\n",
       "      <td>0</td>\n",
       "      <td>0</td>\n",
       "      <td>0</td>\n",
       "      <td>0</td>\n",
       "      <td>0</td>\n",
       "      <td>0</td>\n",
       "      <td>0</td>\n",
       "      <td>0</td>\n",
       "      <td>...</td>\n",
       "      <td>0</td>\n",
       "      <td>0</td>\n",
       "      <td>0</td>\n",
       "      <td>0</td>\n",
       "      <td>0</td>\n",
       "      <td>0</td>\n",
       "      <td>0</td>\n",
       "      <td>0</td>\n",
       "      <td>0</td>\n",
       "      <td>0</td>\n",
       "    </tr>\n",
       "    <tr>\n",
       "      <th>2</th>\n",
       "      <td>6</td>\n",
       "      <td>0</td>\n",
       "      <td>0</td>\n",
       "      <td>0</td>\n",
       "      <td>0</td>\n",
       "      <td>0</td>\n",
       "      <td>0</td>\n",
       "      <td>0</td>\n",
       "      <td>5</td>\n",
       "      <td>0</td>\n",
       "      <td>...</td>\n",
       "      <td>0</td>\n",
       "      <td>0</td>\n",
       "      <td>0</td>\n",
       "      <td>30</td>\n",
       "      <td>43</td>\n",
       "      <td>0</td>\n",
       "      <td>0</td>\n",
       "      <td>0</td>\n",
       "      <td>0</td>\n",
       "      <td>0</td>\n",
       "    </tr>\n",
       "    <tr>\n",
       "      <th>3</th>\n",
       "      <td>0</td>\n",
       "      <td>0</td>\n",
       "      <td>0</td>\n",
       "      <td>0</td>\n",
       "      <td>1</td>\n",
       "      <td>2</td>\n",
       "      <td>0</td>\n",
       "      <td>0</td>\n",
       "      <td>0</td>\n",
       "      <td>0</td>\n",
       "      <td>...</td>\n",
       "      <td>3</td>\n",
       "      <td>0</td>\n",
       "      <td>0</td>\n",
       "      <td>0</td>\n",
       "      <td>0</td>\n",
       "      <td>1</td>\n",
       "      <td>0</td>\n",
       "      <td>0</td>\n",
       "      <td>0</td>\n",
       "      <td>0</td>\n",
       "    </tr>\n",
       "    <tr>\n",
       "      <th>4</th>\n",
       "      <td>3</td>\n",
       "      <td>0</td>\n",
       "      <td>0</td>\n",
       "      <td>0</td>\n",
       "      <td>0</td>\n",
       "      <td>0</td>\n",
       "      <td>0</td>\n",
       "      <td>0</td>\n",
       "      <td>0</td>\n",
       "      <td>0</td>\n",
       "      <td>...</td>\n",
       "      <td>0</td>\n",
       "      <td>0</td>\n",
       "      <td>0</td>\n",
       "      <td>0</td>\n",
       "      <td>0</td>\n",
       "      <td>0</td>\n",
       "      <td>0</td>\n",
       "      <td>0</td>\n",
       "      <td>0</td>\n",
       "      <td>0</td>\n",
       "    </tr>\n",
       "  </tbody>\n",
       "</table>\n",
       "<p>5 rows × 785 columns</p>\n",
       "</div>"
      ],
      "text/plain": [
       "   label  pixel1  pixel2  pixel3  pixel4  pixel5  pixel6  pixel7  pixel8  \\\n",
       "0      2       0       0       0       0       0       0       0       0   \n",
       "1      9       0       0       0       0       0       0       0       0   \n",
       "2      6       0       0       0       0       0       0       0       5   \n",
       "3      0       0       0       0       1       2       0       0       0   \n",
       "4      3       0       0       0       0       0       0       0       0   \n",
       "\n",
       "   pixel9  ...  pixel775  pixel776  pixel777  pixel778  pixel779  pixel780  \\\n",
       "0       0  ...         0         0         0         0         0         0   \n",
       "1       0  ...         0         0         0         0         0         0   \n",
       "2       0  ...         0         0         0        30        43         0   \n",
       "3       0  ...         3         0         0         0         0         1   \n",
       "4       0  ...         0         0         0         0         0         0   \n",
       "\n",
       "   pixel781  pixel782  pixel783  pixel784  \n",
       "0         0         0         0         0  \n",
       "1         0         0         0         0  \n",
       "2         0         0         0         0  \n",
       "3         0         0         0         0  \n",
       "4         0         0         0         0  \n",
       "\n",
       "[5 rows x 785 columns]"
      ]
     },
     "execution_count": 5,
     "metadata": {},
     "output_type": "execute_result"
    }
   ],
   "source": [
    "df = pd.read_csv(\"fashion-mnist_train.csv\")\n",
    "df.head()"
   ]
  },
  {
   "cell_type": "code",
   "execution_count": 6,
   "id": "205b00a8-ca2b-4d5a-bf07-e4ab24f65404",
   "metadata": {},
   "outputs": [
    {
     "data": {
      "text/plain": [
       "(60000, 785)"
      ]
     },
     "execution_count": 6,
     "metadata": {},
     "output_type": "execute_result"
    }
   ],
   "source": [
    "df.shape"
   ]
  },
  {
   "cell_type": "code",
   "execution_count": 7,
   "id": "c626b7dd-1324-4b4e-b4bc-2470a756cc9f",
   "metadata": {},
   "outputs": [
    {
     "data": {
      "image/png": "[encoded data removed]",
      "text/plain": [
       "<Figure size 1000x1000 with 16 Axes>"
      ]
     },
     "metadata": {},
     "output_type": "display_data"
    }
   ],
   "source": [
    "# Create a 4x4 grid of images\n",
    "fig, axes = plt.subplots(4, 4, figsize=(10, 10))\n",
    "fig.suptitle(\"First 16 Images\", fontsize=16)\n",
    "\n",
    "# Plot the first 16 images from the dataset\n",
    "for i, ax in enumerate(axes.flat):\n",
    "    img = df.iloc[i, 1:].values.reshape(28, 28)  # Reshape to 28x28\n",
    "    ax.imshow(img, cmap=\"RdBu\")  # Display in grayscale\n",
    "    ax.axis('off')  # Remove axis for a cleaner look\n",
    "    ax.set_title(f\"Label: {df.iloc[i, 0]}\")  # Show the label\n",
    "\n",
    "plt.tight_layout(rect=[0, 0, 1, 0.96])  # Adjust layout to fit the title\n",
    "plt.show()"
   ]
  },
  {
   "cell_type": "code",
   "execution_count": 8,
   "id": "a60c2f8a-c4a4-447a-9d81-1ea35fd2edaa",
   "metadata": {},
   "outputs": [],
   "source": [
    "# train test split\n",
    "\n",
    "X = df.iloc[:, 1:].values\n",
    "y = df.iloc[:, 0].values"
   ]
  },
  {
   "cell_type": "code",
   "execution_count": 9,
   "id": "9b9dd8e7-4887-4a9b-8220-35f20e9a4033",
   "metadata": {},
   "outputs": [],
   "source": [
    "X_train, X_test, y_train, y_test = train_test_split(X, y, test_size=0.2, random_state=42)"
   ]
  },
  {
   "cell_type": "code",
   "execution_count": 10,
   "id": "48886782-1704-47ce-ae1b-e540376c3e27",
   "metadata": {},
   "outputs": [],
   "source": [
    "X_train = X_train/255.0\n",
    "X_test = X_test/255.0"
   ]
  },
  {
   "cell_type": "code",
   "execution_count": 11,
   "id": "da2e03d7-c579-4c5f-8026-f74182976a9c",
   "metadata": {},
   "outputs": [],
   "source": [
    "class CustomDataset(Dataset):\n",
    "\n",
    "  def __init__(self, features, labels):\n",
    "\n",
    "    # Convert to PyTorch tensors\n",
    "    self.features = torch.tensor(features, dtype=torch.float32).reshape(-1,1,28,28)\n",
    "    self.labels = torch.tensor(labels, dtype=torch.long)\n",
    "\n",
    "  def __len__(self):\n",
    "    return len(self.features)\n",
    "\n",
    "  def __getitem__(self, index):\n",
    "    return self.features[index], self.labels[index]"
   ]
  },
  {
   "cell_type": "code",
   "execution_count": 12,
   "id": "97a0f281-fdeb-4b3d-915d-eb731c7e93f6",
   "metadata": {},
   "outputs": [],
   "source": [
    "train_dataset = CustomDataset(X_train, y_train)\n",
    "test_dataset = CustomDataset(X_test, y_test)"
   ]
  },
  {
   "cell_type": "code",
   "execution_count": 13,
   "id": "e8042090-2f75-4fc1-9603-87dfd92afb48",
   "metadata": {},
   "outputs": [],
   "source": [
    "train_loader = DataLoader(train_dataset, batch_size=32, shuffle=True, pin_memory=True)\n",
    "test_loader = DataLoader(test_dataset, batch_size=32, shuffle=False, pin_memory=True)"
   ]
  },
  {
   "cell_type": "code",
   "execution_count": 14,
   "id": "130659aa-f209-4b15-902e-3cf3b658de34",
   "metadata": {},
   "outputs": [],
   "source": [
    "class MyNN(nn.Module):\n",
    "    def __init__(self, input_features):\n",
    "        super().__init__()\n",
    "\n",
    "        self.features = nn.Sequential(\n",
    "            nn.Conv2d(input_features, 32, kernel_size=3, padding='same'),\n",
    "            nn.ReLU(),\n",
    "            nn.BatchNorm2d(32),\n",
    "            nn.MaxPool2d(kernel_size=2, stride=2),\n",
    "\n",
    "            nn.Conv2d(32, 64, kernel_size=3, padding='same'),\n",
    "            nn.ReLU(),\n",
    "            nn.BatchNorm2d(64),\n",
    "            nn.MaxPool2d(kernel_size=2, stride=2)\n",
    "        )\n",
    "        self.classifier = nn.Sequential(\n",
    "            nn.Flatten(),\n",
    "            nn.Linear(64*7*7, 128),\n",
    "            nn.ReLU(),\n",
    "            nn.Dropout(p=0.4),\n",
    "\n",
    "            nn.Linear(128, 64),\n",
    "            nn.ReLU(),\n",
    "            nn.Dropout(p=0.4),\n",
    "\n",
    "            nn.Linear(64, 10)\n",
    "        )\n",
    "\n",
    "    def forward(self, x):\n",
    "        x = self.features(x)\n",
    "        x = self.classifier(x)\n",
    "\n",
    "        return x"
   ]
  },
  {
   "cell_type": "code",
   "execution_count": 17,
   "id": "66be8800-6409-4318-9d47-ac43de18470f",
   "metadata": {},
   "outputs": [
    {
     "data": {
      "text/plain": [
       "torch.Size([48000, 1, 28, 28])"
      ]
     },
     "execution_count": 17,
     "metadata": {},
     "output_type": "execute_result"
    }
   ],
   "source": [
    "train_dataset.features.shape"
   ]
  },
  {
   "cell_type": "code",
   "execution_count": 18,
   "id": "8c6ed095-0964-4cae-a966-bb471fdad2de",
   "metadata": {},
   "outputs": [],
   "source": [
    "model = MyNN(train_dataset.features.shape[1]).to(device)"
   ]
  },
  {
   "cell_type": "code",
   "execution_count": 19,
   "id": "6d2bbe33-d5fe-47ff-a3e9-26eed2f302cf",
   "metadata": {},
   "outputs": [
    {
     "data": {
      "text/plain": [
       "MyNN(\n",
       "  (features): Sequential(\n",
       "    (0): Conv2d(1, 32, kernel_size=(3, 3), stride=(1, 1), padding=same)\n",
       "    (1): ReLU()\n",
       "    (2): BatchNorm2d(32, eps=1e-05, momentum=0.1, affine=True, track_running_stats=True)\n",
       "    (3): MaxPool2d(kernel_size=2, stride=2, padding=0, dilation=1, ceil_mode=False)\n",
       "    (4): Conv2d(32, 64, kernel_size=(3, 3), stride=(1, 1), padding=same)\n",
       "    (5): ReLU()\n",
       "    (6): BatchNorm2d(64, eps=1e-05, momentum=0.1, affine=True, track_running_stats=True)\n",
       "    (7): MaxPool2d(kernel_size=2, stride=2, padding=0, dilation=1, ceil_mode=False)\n",
       "  )\n",
       "  (classifier): Sequential(\n",
       "    (0): Flatten(start_dim=1, end_dim=-1)\n",
       "    (1): Linear(in_features=3136, out_features=128, bias=True)\n",
       "    (2): ReLU()\n",
       "    (3): Dropout(p=0.4, inplace=False)\n",
       "    (4): Linear(in_features=128, out_features=64, bias=True)\n",
       "    (5): ReLU()\n",
       "    (6): Dropout(p=0.4, inplace=False)\n",
       "    (7): Linear(in_features=64, out_features=10, bias=True)\n",
       "  )\n",
       ")"
      ]
     },
     "execution_count": 19,
     "metadata": {},
     "output_type": "execute_result"
    }
   ],
   "source": [
    "model"
   ]
  },
  {
   "cell_type": "code",
   "execution_count": 20,
   "id": "b4559d06-f3ac-44f4-975c-cde67e5b3232",
   "metadata": {},
   "outputs": [],
   "source": [
    "loss_fc = nn.CrossEntropyLoss()\n",
    "optimizer = optim.SGD(model.parameters(), lr=0.01, weight_decay=1e-4)"
   ]
  },
  {
   "cell_type": "code",
   "execution_count": 21,
   "id": "f979a3a1-6b49-4f6d-b124-9e401e7abd35",
   "metadata": {},
   "outputs": [
    {
     "name": "stdout",
     "output_type": "stream",
     "text": [
      "Epoch: 1 , Loss: 0.6449234943389892\n",
      "Epoch: 2 , Loss: 0.3858393851369619\n",
      "Epoch: 3 , Loss: 0.32699158694346747\n",
      "Epoch: 4 , Loss: 0.29107362251480423\n",
      "Epoch: 5 , Loss: 0.26431918622056644\n",
      "Epoch: 6 , Loss: 0.24439699640373388\n",
      "Epoch: 7 , Loss: 0.23032772045830885\n",
      "Epoch: 8 , Loss: 0.213271941733857\n",
      "Epoch: 9 , Loss: 0.19921846278756858\n",
      "Epoch: 10 , Loss: 0.18903825015171122\n",
      "Epoch: 11 , Loss: 0.17527996308232346\n",
      "Epoch: 12 , Loss: 0.16642838805758706\n",
      "Epoch: 13 , Loss: 0.1572029812807838\n",
      "Epoch: 14 , Loss: 0.14812519571495553\n",
      "Epoch: 15 , Loss: 0.14280726297882695\n",
      "Epoch: 16 , Loss: 0.13163248528648788\n",
      "Epoch: 17 , Loss: 0.12679716644529254\n",
      "Epoch: 18 , Loss: 0.12260323818555723\n",
      "Epoch: 19 , Loss: 0.11188850237273922\n",
      "Epoch: 20 , Loss: 0.10962608162996669\n",
      "Epoch: 21 , Loss: 0.10346889894300451\n",
      "Epoch: 22 , Loss: 0.0978231205342648\n",
      "Epoch: 23 , Loss: 0.0921728694702809\n",
      "Epoch: 24 , Loss: 0.08608442765544169\n",
      "Epoch: 25 , Loss: 0.08441020527311291\n",
      "Epoch: 26 , Loss: 0.08183575232497727\n",
      "Epoch: 27 , Loss: 0.08189866945531685\n",
      "Epoch: 28 , Loss: 0.07299053188910087\n",
      "Epoch: 29 , Loss: 0.07491461980878375\n",
      "Epoch: 30 , Loss: 0.06997918623872101\n",
      "Epoch: 31 , Loss: 0.0659456380608026\n",
      "Epoch: 32 , Loss: 0.06060419999162938\n",
      "Epoch: 33 , Loss: 0.06087632115811963\n",
      "Epoch: 34 , Loss: 0.05606852652640373\n",
      "Epoch: 35 , Loss: 0.05605097912294635\n",
      "Epoch: 36 , Loss: 0.05468209142504687\n",
      "Epoch: 37 , Loss: 0.05015584683972702\n",
      "Epoch: 38 , Loss: 0.047940829751857865\n",
      "Epoch: 39 , Loss: 0.0495373272862004\n",
      "Epoch: 40 , Loss: 0.04757300216902028\n",
      "Epoch: 41 , Loss: 0.04705913718731608\n",
      "Epoch: 42 , Loss: 0.042424324738414725\n",
      "Epoch: 43 , Loss: 0.04397124784939661\n",
      "Epoch: 44 , Loss: 0.04081300412246492\n",
      "Epoch: 45 , Loss: 0.03670512166510646\n",
      "Epoch: 46 , Loss: 0.03815681138721023\n",
      "Epoch: 47 , Loss: 0.035944907959502115\n",
      "Epoch: 48 , Loss: 0.03465954936516694\n",
      "Epoch: 49 , Loss: 0.038584230362602584\n",
      "Epoch: 50 , Loss: 0.03617998426722261\n",
      "Epoch: 51 , Loss: 0.03299068580051971\n",
      "Epoch: 52 , Loss: 0.03246915739316319\n",
      "Epoch: 53 , Loss: 0.0295433680919438\n",
      "Epoch: 54 , Loss: 0.03242565170901313\n",
      "Epoch: 55 , Loss: 0.03105753098333662\n",
      "Epoch: 56 , Loss: 0.02963718291988698\n",
      "Epoch: 57 , Loss: 0.029656910330653773\n",
      "Epoch: 58 , Loss: 0.0294574636376686\n",
      "Epoch: 59 , Loss: 0.02763830968249628\n",
      "Epoch: 60 , Loss: 0.02818266700207338\n",
      "Epoch: 61 , Loss: 0.02579285956814177\n",
      "Epoch: 62 , Loss: 0.026760553067800175\n",
      "Epoch: 63 , Loss: 0.024831641030978062\n",
      "Epoch: 64 , Loss: 0.02386084336462591\n",
      "Epoch: 65 , Loss: 0.023622590574141667\n",
      "Epoch: 66 , Loss: 0.02518895703772311\n",
      "Epoch: 67 , Loss: 0.02418934669507871\n",
      "Epoch: 68 , Loss: 0.024595840771994212\n",
      "Epoch: 69 , Loss: 0.024026791154594017\n",
      "Epoch: 70 , Loss: 0.023164302265499523\n",
      "Epoch: 71 , Loss: 0.02212514653637633\n",
      "Epoch: 72 , Loss: 0.02159553613828393\n",
      "Epoch: 73 , Loss: 0.019840419690278697\n",
      "Epoch: 74 , Loss: 0.02158927036905637\n",
      "Epoch: 75 , Loss: 0.020435950155520913\n",
      "Epoch: 76 , Loss: 0.01790828557532859\n",
      "Epoch: 77 , Loss: 0.022589770780139892\n",
      "Epoch: 78 , Loss: 0.020502305681217727\n",
      "Epoch: 79 , Loss: 0.018850136664454113\n",
      "Epoch: 80 , Loss: 0.020646451870124715\n",
      "Epoch: 81 , Loss: 0.017591601759349942\n",
      "Epoch: 82 , Loss: 0.01825006599703041\n",
      "Epoch: 83 , Loss: 0.01934157915583516\n",
      "Epoch: 84 , Loss: 0.019170549587582627\n",
      "Epoch: 85 , Loss: 0.01689039732292167\n",
      "Epoch: 86 , Loss: 0.020816368998358183\n",
      "Epoch: 87 , Loss: 0.01955630615863811\n",
      "Epoch: 88 , Loss: 0.018640119928424913\n",
      "Epoch: 89 , Loss: 0.01463784724708906\n",
      "Epoch: 90 , Loss: 0.016691187147303936\n",
      "Epoch: 91 , Loss: 0.018146997777424758\n",
      "Epoch: 92 , Loss: 0.018351656578460846\n",
      "Epoch: 93 , Loss: 0.015570570262034986\n",
      "Epoch: 94 , Loss: 0.01684492484519891\n",
      "Epoch: 95 , Loss: 0.017877583780752805\n",
      "Epoch: 96 , Loss: 0.015982967823041084\n",
      "Epoch: 97 , Loss: 0.015835978074927273\n",
      "Epoch: 98 , Loss: 0.017002801068413342\n",
      "Epoch: 99 , Loss: 0.014221732695237733\n",
      "Epoch: 100 , Loss: 0.015251818966097593\n",
      "Total time of training is 10.314049152533213 Minutes!\n"
     ]
    }
   ],
   "source": [
    "# training loop\n",
    "import time\n",
    "start_time = time.time()\n",
    "\n",
    "epochs = 100\n",
    "\n",
    "for epoch in range(epochs):\n",
    "\n",
    "  total_epoch_loss = 0\n",
    "\n",
    "  for batch_features, batch_labels in train_loader:\n",
    "\n",
    "    # move data to gpu\n",
    "    batch_features, batch_labels = batch_features.to(device), batch_labels.to(device)\n",
    "\n",
    "    # forward pass\n",
    "    outputs = model(batch_features)\n",
    "\n",
    "    # calculate loss\n",
    "    loss = loss_fc(outputs, batch_labels)\n",
    "\n",
    "    # back pass\n",
    "    optimizer.zero_grad()\n",
    "    loss.backward()\n",
    "\n",
    "    # update grads\n",
    "    optimizer.step()\n",
    "\n",
    "    total_epoch_loss = total_epoch_loss + loss.item()\n",
    "\n",
    "  avg_loss = total_epoch_loss/len(train_loader)\n",
    "  print(f'Epoch: {epoch + 1} , Loss: {avg_loss}')\n",
    "\n",
    "end_time = time.time()\n",
    "print(f\"Total time of training is {(end_time - start_time)/60} Minutes!\")"
   ]
  },
  {
   "cell_type": "code",
   "execution_count": 22,
   "id": "7ee24a20-1ee2-41b8-8d8d-f5e9ffc2ed48",
   "metadata": {},
   "outputs": [
    {
     "data": {
      "text/plain": [
       "MyNN(\n",
       "  (features): Sequential(\n",
       "    (0): Conv2d(1, 32, kernel_size=(3, 3), stride=(1, 1), padding=same)\n",
       "    (1): ReLU()\n",
       "    (2): BatchNorm2d(32, eps=1e-05, momentum=0.1, affine=True, track_running_stats=True)\n",
       "    (3): MaxPool2d(kernel_size=2, stride=2, padding=0, dilation=1, ceil_mode=False)\n",
       "    (4): Conv2d(32, 64, kernel_size=(3, 3), stride=(1, 1), padding=same)\n",
       "    (5): ReLU()\n",
       "    (6): BatchNorm2d(64, eps=1e-05, momentum=0.1, affine=True, track_running_stats=True)\n",
       "    (7): MaxPool2d(kernel_size=2, stride=2, padding=0, dilation=1, ceil_mode=False)\n",
       "  )\n",
       "  (classifier): Sequential(\n",
       "    (0): Flatten(start_dim=1, end_dim=-1)\n",
       "    (1): Linear(in_features=3136, out_features=128, bias=True)\n",
       "    (2): ReLU()\n",
       "    (3): Dropout(p=0.4, inplace=False)\n",
       "    (4): Linear(in_features=128, out_features=64, bias=True)\n",
       "    (5): ReLU()\n",
       "    (6): Dropout(p=0.4, inplace=False)\n",
       "    (7): Linear(in_features=64, out_features=10, bias=True)\n",
       "  )\n",
       ")"
      ]
     },
     "execution_count": 22,
     "metadata": {},
     "output_type": "execute_result"
    }
   ],
   "source": [
    "model.eval()"
   ]
  },
  {
   "cell_type": "code",
   "execution_count": 23,
   "id": "fe76d973-e16d-4dd3-a5ae-1000f2153815",
   "metadata": {},
   "outputs": [
    {
     "name": "stdout",
     "output_type": "stream",
     "text": [
      "0.9234166666666667\n"
     ]
    }
   ],
   "source": [
    "# evaluation on test data\n",
    "total = 0\n",
    "correct = 0\n",
    "\n",
    "with torch.no_grad():\n",
    "\n",
    "  for batch_features, batch_labels in test_loader:\n",
    "\n",
    "    # move data to gpu\n",
    "    batch_features, batch_labels = batch_features.to(device), batch_labels.to(device)\n",
    "\n",
    "    outputs = model(batch_features)\n",
    "\n",
    "    _, predicted = torch.max(outputs, 1)\n",
    "\n",
    "    total = total + batch_labels.shape[0]\n",
    "\n",
    "    correct = correct + (predicted == batch_labels).sum().item()\n",
    "\n",
    "print(correct/total)"
   ]
  },
  {
   "cell_type": "code",
   "execution_count": 24,
   "id": "2da27e02-fe7f-44a0-9a26-2dea38c54841",
   "metadata": {},
   "outputs": [
    {
     "name": "stdout",
     "output_type": "stream",
     "text": [
      "0.9997916666666666\n"
     ]
    }
   ],
   "source": [
    "# evaluation on training data\n",
    "total = 0\n",
    "correct = 0\n",
    "\n",
    "with torch.no_grad():\n",
    "\n",
    "  for batch_features, batch_labels in train_loader:\n",
    "\n",
    "    # move data to gpu\n",
    "    batch_features, batch_labels = batch_features.to(device), batch_labels.to(device)\n",
    "\n",
    "    outputs = model(batch_features)\n",
    "\n",
    "    _, predicted = torch.max(outputs, 1)\n",
    "\n",
    "    total = total + batch_labels.shape[0]\n",
    "\n",
    "    correct = correct + (predicted == batch_labels).sum().item()\n",
    "\n",
    "print(correct/total)"
   ]
  },
  {
   "cell_type": "code",
   "execution_count": 25,
   "id": "96403cdb-2f39-4603-815e-6dc8c818d13d",
   "metadata": {},
   "outputs": [],
   "source": [
    "# yes there is little bit overfitting"
   ]
  },
  {
   "cell_type": "code",
   "execution_count": null,
   "id": "0a97aee3-096a-41d1-bf72-e2672a848da8",
   "metadata": {},
   "outputs": [],
   "source": []
  }
 ],
 "metadata": {
  "kernelspec": {
   "display_name": "Python 3 (ipykernel)",
   "language": "python",
   "name": "python3"
  },
  "language_info": {
   "codemirror_mode": {
    "name": "ipython",
    "version": 3
   },
   "file_extension": ".py",
   "mimetype": "text/x-python",
   "name": "python",
   "nbconvert_exporter": "python",
   "pygments_lexer": "ipython3",
   "version": "3.12.1"
  }
 },
 "nbformat": 4,
 "nbformat_minor": 5
}
