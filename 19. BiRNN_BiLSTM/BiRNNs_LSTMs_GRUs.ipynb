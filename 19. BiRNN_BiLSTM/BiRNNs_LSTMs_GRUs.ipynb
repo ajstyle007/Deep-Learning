{
 "cells": [
  {
   "cell_type": "markdown",
   "id": "580d2958-ce82-42c3-b686-6b9622245c53",
   "metadata": {},
   "source": [
    "#1️⃣ What Are Bidirectional RNNs, LSTMs, and GRUs?\n",
    "\n",
    "- `Bidirectional RNN (BiRNN)`: Processes the input sequence from both directions, improving performance in many NLP tasks.\n",
    "- `Bidirectional LSTM (BiLSTM)`: Similar to BiRNN but with LSTM units that handle long-term dependencies better.\n",
    "- `Bidirectional GRU (BiGRU)`: Uses GRU units, which are computationally efficient alternatives to LSTMs."
   ]
  },
  {
   "cell_type": "code",
   "execution_count": 3,
   "id": "11ce64e7-ac41-401c-a974-ac648f7b0ceb",
   "metadata": {},
   "outputs": [],
   "source": [
    "import  torch\n",
    "from torch import nn"
   ]
  },
  {
   "cell_type": "markdown",
   "id": "6710587c-6b2b-4f82-b101-e6e0cedc689a",
   "metadata": {},
   "source": [
    "- Setting bidirectional=True doubles the output size because we have both forward and backward hidden states."
   ]
  },
  {
   "cell_type": "markdown",
   "id": "b4ad6a4a-6645-4218-bc0d-b30f67a275a1",
   "metadata": {},
   "source": [
    "## Bidirectional RNN:"
   ]
  },
  {
   "cell_type": "code",
   "execution_count": 4,
   "id": "6817643c-c6c3-4be5-a90e-ec3d525a4a8e",
   "metadata": {},
   "outputs": [],
   "source": [
    "class BiRNN(nn.Module):\n",
    "    def __init__(self, input_size=1, hidden_size=64, num_layers=2, output_size=1):\n",
    "        super(BiRNN, self).__init__()\n",
    "        self.rnn = nn.RNN(input_size, hidden_size, num_layers, bidirectional=True, batch_first=True)\n",
    "        self.fc = nn.Linear(hidden_size * 2, output_size)  # Multiply by 2 for bidirectional\n",
    "        self.sigmoid = nn.Sigmoid()  \n",
    "\n",
    "    def forward(self, x):\n",
    "        out, _ = self.rnn(x)  # (batch, seq_len, hidden_size*2)\n",
    "        out = out[:, -1, :]   # Last time step output\n",
    "        out = self.fc(out)\n",
    "        return self.sigmoid(out)\n",
    "\n",
    "# Instantiate model\n",
    "bi_rnn_model = BiRNN()"
   ]
  },
  {
   "cell_type": "markdown",
   "id": "bc54c796-1422-4923-8a3c-3c0b62cc3bfc",
   "metadata": {},
   "source": [
    "## Bidirectional LSTM:"
   ]
  },
  {
   "cell_type": "code",
   "execution_count": 5,
   "id": "52094860-fbfe-4f9a-8cea-24e88345afb7",
   "metadata": {},
   "outputs": [],
   "source": [
    "class BiLSTM(nn.Module):\n",
    "    def __init__(self, input_size=1, hidden_size=64, num_layers=2, output_size=1):\n",
    "        super(BiLSTM, self).__init__()\n",
    "        self.lstm = nn.LSTM(input_size, hidden_size, num_layers, bidirectional=True, batch_first=True)\n",
    "        self.fc = nn.Linear(hidden_size * 2, output_size)\n",
    "        self.sigmoid = nn.Sigmoid()  \n",
    "\n",
    "    def forward(self, x):\n",
    "        out, _ = self.lstm(x)\n",
    "        out = out[:, -1, :]\n",
    "        out = self.fc(out)\n",
    "        return self.sigmoid(out)\n",
    "\n",
    "# Instantiate model\n",
    "bi_lstm_model = BiLSTM()"
   ]
  },
  {
   "cell_type": "markdown",
   "id": "1d5f57e0-ab7c-4a5d-9147-881fc93b3262",
   "metadata": {},
   "source": [
    "## Bidirectional GRU:"
   ]
  },
  {
   "cell_type": "code",
   "execution_count": 6,
   "id": "c1413ff5-fa05-4245-bfe0-c63ad9a9238f",
   "metadata": {},
   "outputs": [],
   "source": [
    "class BiGRU(nn.Module):\n",
    "    def __init__(self, input_size=1, hidden_size=64, num_layers=2, output_size=1):\n",
    "        super(BiGRU, self).__init__()\n",
    "        self.gru = nn.GRU(input_size, hidden_size, num_layers, bidirectional=True, batch_first=True)\n",
    "        self.fc = nn.Linear(hidden_size * 2, output_size)\n",
    "        self.sigmoid = nn.Sigmoid()  \n",
    "\n",
    "    def forward(self, x):\n",
    "        out, _ = self.gru(x)\n",
    "        out = out[:, -1, :]\n",
    "        out = self.fc(out)\n",
    "        return self.sigmoid(out)\n",
    "\n",
    "# Instantiate model\n",
    "bi_gru_model = BiGRU()"
   ]
  },
  {
   "cell_type": "code",
   "execution_count": null,
   "id": "c447995e-743d-4a25-b2c1-46722cce3e92",
   "metadata": {},
   "outputs": [],
   "source": []
  }
 ],
 "metadata": {
  "kernelspec": {
   "display_name": "Python 3 (ipykernel)",
   "language": "python",
   "name": "python3"
  },
  "language_info": {
   "codemirror_mode": {
    "name": "ipython",
    "version": 3
   },
   "file_extension": ".py",
   "mimetype": "text/x-python",
   "name": "python",
   "nbconvert_exporter": "python",
   "pygments_lexer": "ipython3",
   "version": "3.12.1"
  }
 },
 "nbformat": 4,
 "nbformat_minor": 5
}
