{
 "cells": [
  {
   "cell_type": "code",
   "execution_count": 1,
   "id": "cbc9c8af-8264-4e8d-9bba-bf0dff076c4c",
   "metadata": {},
   "outputs": [],
   "source": [
    "import pandas as pd\n",
    "import numpy as np\n",
    "import matplotlib.pyplot as plt\n",
    "\n",
    "import torch\n",
    "from torch import nn\n",
    "from torch.utils.data import Dataset, DataLoader\n",
    "from torchvision.transforms import ToTensor\n",
    "from torchvision import datasets, transforms"
   ]
  },
  {
   "cell_type": "code",
   "execution_count": 2,
   "id": "07afb74e-0c8f-4375-ba0c-8b7e0c0a1055",
   "metadata": {},
   "outputs": [],
   "source": [
    "# Define transforms (resizing, normalization, etc.)\n",
    "transform = transforms.Compose([\n",
    "    transforms.Resize((224, 224)),  # Resize to 256x256 for CNNs\n",
    "    transforms.ToTensor(),  # Convert image to tensor\n",
    "    transforms.Normalize([0.485, 0.456, 0.406], [0.229, 0.224, 0.225])  # Normalize\n",
    "])"
   ]
  },
  {
   "cell_type": "code",
   "execution_count": 3,
   "id": "445a3bb6-d585-4e23-b508-402aeabc8b16",
   "metadata": {},
   "outputs": [],
   "source": [
    "# Load dataset\n",
    "train_dataset = datasets.ImageFolder(root=\"dogs_vs_cats/train\", transform=transform)\n",
    "test_dataset = datasets.ImageFolder(root=\"dogs_vs_cats/test\", transform=transform)"
   ]
  },
  {
   "cell_type": "code",
   "execution_count": 4,
   "id": "082f8b5d-9fcc-4fff-86d6-d6dcb019e0dc",
   "metadata": {},
   "outputs": [
    {
     "data": {
      "text/plain": [
       "Dataset ImageFolder\n",
       "    Number of datapoints: 20000\n",
       "    Root location: dogs_vs_cats/train\n",
       "    StandardTransform\n",
       "Transform: Compose(\n",
       "               Resize(size=(224, 224), interpolation=bilinear, max_size=None, antialias=True)\n",
       "               ToTensor()\n",
       "               Normalize(mean=[0.485, 0.456, 0.406], std=[0.229, 0.224, 0.225])\n",
       "           )"
      ]
     },
     "execution_count": 4,
     "metadata": {},
     "output_type": "execute_result"
    }
   ],
   "source": [
    "train_dataset"
   ]
  },
  {
   "cell_type": "code",
   "execution_count": 5,
   "id": "999dfaa2-4fad-49e3-b78d-57966a90024b",
   "metadata": {},
   "outputs": [
    {
     "data": {
      "text/plain": [
       "Dataset ImageFolder\n",
       "    Number of datapoints: 5000\n",
       "    Root location: dogs_vs_cats/test\n",
       "    StandardTransform\n",
       "Transform: Compose(\n",
       "               Resize(size=(224, 224), interpolation=bilinear, max_size=None, antialias=True)\n",
       "               ToTensor()\n",
       "               Normalize(mean=[0.485, 0.456, 0.406], std=[0.229, 0.224, 0.225])\n",
       "           )"
      ]
     },
     "execution_count": 5,
     "metadata": {},
     "output_type": "execute_result"
    }
   ],
   "source": [
    "test_dataset"
   ]
  },
  {
   "cell_type": "code",
   "execution_count": 6,
   "id": "ac770de2-a48f-44b4-b335-bb5c91f167ad",
   "metadata": {},
   "outputs": [],
   "source": [
    "# Create DataLoaders\n",
    "Batch_Size = 32\n",
    "\n",
    "train_dataloader = DataLoader(train_dataset, batch_size=Batch_Size, shuffle=True, num_workers=2)\n",
    "test_dataloader = DataLoader(test_dataset, batch_size= Batch_Size, shuffle=True, num_workers=2)"
   ]
  },
  {
   "cell_type": "code",
   "execution_count": 7,
   "id": "659ef61f-500a-4fb7-90a7-2ee1010ce532",
   "metadata": {},
   "outputs": [
    {
     "data": {
      "text/plain": [
       "'cuda'"
      ]
     },
     "execution_count": 7,
     "metadata": {},
     "output_type": "execute_result"
    }
   ],
   "source": [
    "device = \"cuda\" if torch.cuda.is_available() else \"cpu\"\n",
    "device"
   ]
  },
  {
   "cell_type": "code",
   "execution_count": 8,
   "id": "2d644bd9-cd52-45c5-830e-f89bc5ddcae1",
   "metadata": {},
   "outputs": [],
   "source": [
    "# device = torch.device(\"cpu\")"
   ]
  },
  {
   "cell_type": "code",
   "execution_count": 9,
   "id": "60289f0c-340e-4baf-a42a-336fcb74a418",
   "metadata": {},
   "outputs": [],
   "source": [
    "# creating CNN Model\n",
    "class Dogs_vs_Cats(nn.Module):\n",
    "    def __init__(self, input_channels):\n",
    "        super().__init__()\n",
    "\n",
    "        self.features = nn.Sequential(\n",
    "            nn.Conv2d(input_channels, 32, kernel_size=3, padding=\"same\"), \n",
    "            nn.ReLU(),\n",
    "            nn.BatchNorm2d(32),\n",
    "            nn.MaxPool2d(kernel_size=2, stride=2, padding=0),\n",
    "\n",
    "            nn.Conv2d(32, 64, kernel_size=3, padding=\"same\"), \n",
    "            nn.ReLU(),\n",
    "            nn.BatchNorm2d(64),\n",
    "            nn.MaxPool2d(kernel_size=2, stride=2, padding=0),\n",
    "\n",
    "            nn.Conv2d(64, 128, kernel_size=3, padding=\"same\"), \n",
    "            nn.ReLU(),\n",
    "            nn.BatchNorm2d(128),\n",
    "            nn.MaxPool2d(kernel_size=2, stride=2, padding=0)\n",
    "        )\n",
    "\n",
    "        self.classifier = nn.Sequential(\n",
    "            nn.Flatten(),\n",
    "            nn.Linear(128*28*28, 128), \n",
    "            nn.ReLU(),\n",
    "\n",
    "            nn.Linear(128, 64),\n",
    "            nn.ReLU(),\n",
    "\n",
    "            nn.Linear(64, 1),\n",
    "            nn.Sigmoid()\n",
    "        )\n",
    "        \n",
    "    def forward(self, x):\n",
    "        x = self.features(x)\n",
    "        x = self.classifier(x)\n",
    "\n",
    "        return x"
   ]
  },
  {
   "cell_type": "code",
   "execution_count": 10,
   "id": "4896a99b-e7b8-48c2-994f-8789059350ef",
   "metadata": {},
   "outputs": [],
   "source": [
    "# export CUDA_LAUNCH_BLOCKING=1"
   ]
  },
  {
   "cell_type": "code",
   "execution_count": 11,
   "id": "0d2dee3d-e5e5-4690-9da8-108a7b3e0a23",
   "metadata": {},
   "outputs": [],
   "source": [
    "model = Dogs_vs_Cats(input_channels=3).to(device)"
   ]
  },
  {
   "cell_type": "code",
   "execution_count": 12,
   "id": "95e9bcef-3b32-4371-af4a-fcb0e7b5bdd4",
   "metadata": {},
   "outputs": [
    {
     "data": {
      "text/plain": [
       "Dogs_vs_Cats(\n",
       "  (features): Sequential(\n",
       "    (0): Conv2d(3, 32, kernel_size=(3, 3), stride=(1, 1), padding=same)\n",
       "    (1): ReLU()\n",
       "    (2): BatchNorm2d(32, eps=1e-05, momentum=0.1, affine=True, track_running_stats=True)\n",
       "    (3): MaxPool2d(kernel_size=2, stride=2, padding=0, dilation=1, ceil_mode=False)\n",
       "    (4): Conv2d(32, 64, kernel_size=(3, 3), stride=(1, 1), padding=same)\n",
       "    (5): ReLU()\n",
       "    (6): BatchNorm2d(64, eps=1e-05, momentum=0.1, affine=True, track_running_stats=True)\n",
       "    (7): MaxPool2d(kernel_size=2, stride=2, padding=0, dilation=1, ceil_mode=False)\n",
       "    (8): Conv2d(64, 128, kernel_size=(3, 3), stride=(1, 1), padding=same)\n",
       "    (9): ReLU()\n",
       "    (10): BatchNorm2d(128, eps=1e-05, momentum=0.1, affine=True, track_running_stats=True)\n",
       "    (11): MaxPool2d(kernel_size=2, stride=2, padding=0, dilation=1, ceil_mode=False)\n",
       "  )\n",
       "  (classifier): Sequential(\n",
       "    (0): Flatten(start_dim=1, end_dim=-1)\n",
       "    (1): Linear(in_features=100352, out_features=128, bias=True)\n",
       "    (2): ReLU()\n",
       "    (3): Linear(in_features=128, out_features=64, bias=True)\n",
       "    (4): ReLU()\n",
       "    (5): Linear(in_features=64, out_features=1, bias=True)\n",
       "    (6): Sigmoid()\n",
       "  )\n",
       ")"
      ]
     },
     "execution_count": 12,
     "metadata": {},
     "output_type": "execute_result"
    }
   ],
   "source": [
    "model"
   ]
  },
  {
   "cell_type": "code",
   "execution_count": 13,
   "id": "ccb8ea92-7c02-41f2-aac2-0548862932a3",
   "metadata": {},
   "outputs": [],
   "source": [
    "from torchsummary import summary"
   ]
  },
  {
   "cell_type": "code",
   "execution_count": 14,
   "id": "b7825879-43d3-4efc-aee8-b6daec9d1257",
   "metadata": {},
   "outputs": [],
   "source": [
    "# Print summary\n",
    "# summary(model, input_size=(3, 254, 254))"
   ]
  },
  {
   "cell_type": "code",
   "execution_count": 15,
   "id": "b3482265-9290-49d4-bbd7-a988dab2913a",
   "metadata": {},
   "outputs": [],
   "source": [
    "loss_fc = nn.BCELoss()\n",
    "optimizer = torch.optim.Adam(model.parameters(), lr=0.01)"
   ]
  },
  {
   "cell_type": "code",
   "execution_count": 16,
   "id": "73c5f821-60c0-4e43-8d78-12da257b087b",
   "metadata": {},
   "outputs": [
    {
     "name": "stdout",
     "output_type": "stream",
     "text": [
      "Epoch: 1 , Loss: 49.93129072780609\n",
      "Epoch: 2 , Loss: 50.0\n",
      "Epoch: 3 , Loss: 50.0\n",
      "Epoch: 4 , Loss: 50.0\n",
      "Epoch: 5 , Loss: 50.0\n",
      "Epoch: 6 , Loss: 50.0\n",
      "Epoch: 7 , Loss: 50.0\n",
      "Epoch: 8 , Loss: 50.0\n",
      "Epoch: 9 , Loss: 50.0\n",
      "Epoch: 10 , Loss: 50.0\n",
      "Total time of training is 22.203921457131703 Minutes!\n"
     ]
    }
   ],
   "source": [
    "# training loop\n",
    "import time\n",
    "start_time = time.time()\n",
    "\n",
    "epochs = 10\n",
    "\n",
    "for epoch in range(epochs):\n",
    "\n",
    "  total_epoch_loss = 0\n",
    "\n",
    "  for batch_features, batch_labels in train_dataloader:\n",
    "\n",
    "    # move data to gpu\n",
    "    batch_features, batch_labels = batch_features.to(device), batch_labels.to(device)\n",
    "\n",
    "    batch_labels = batch_labels.view(-1,1).float() \n",
    "\n",
    "    # forward pass\n",
    "    outputs = model(batch_features)\n",
    "\n",
    "    # calculate loss\n",
    "    loss = loss_fc(outputs, batch_labels)\n",
    "\n",
    "    # back pass\n",
    "    optimizer.zero_grad()\n",
    "    loss.backward()\n",
    "\n",
    "    # update grads\n",
    "    optimizer.step()\n",
    "\n",
    "    total_epoch_loss = total_epoch_loss + loss.item()\n",
    "\n",
    "  avg_loss = total_epoch_loss/len(train_dataloader)\n",
    "  print(f'Epoch: {epoch + 1} , Loss: {avg_loss}')\n",
    "\n",
    "end_time = time.time()\n",
    "print(f\"Total time of training is {(end_time - start_time)/60} Minutes!\")"
   ]
  },
  {
   "cell_type": "code",
   "execution_count": 17,
   "id": "b822871e-3ca7-45ee-a32c-bdff97420ee6",
   "metadata": {},
   "outputs": [
    {
     "data": {
      "text/plain": [
       "Dogs_vs_Cats(\n",
       "  (features): Sequential(\n",
       "    (0): Conv2d(3, 32, kernel_size=(3, 3), stride=(1, 1), padding=same)\n",
       "    (1): ReLU()\n",
       "    (2): BatchNorm2d(32, eps=1e-05, momentum=0.1, affine=True, track_running_stats=True)\n",
       "    (3): MaxPool2d(kernel_size=2, stride=2, padding=0, dilation=1, ceil_mode=False)\n",
       "    (4): Conv2d(32, 64, kernel_size=(3, 3), stride=(1, 1), padding=same)\n",
       "    (5): ReLU()\n",
       "    (6): BatchNorm2d(64, eps=1e-05, momentum=0.1, affine=True, track_running_stats=True)\n",
       "    (7): MaxPool2d(kernel_size=2, stride=2, padding=0, dilation=1, ceil_mode=False)\n",
       "    (8): Conv2d(64, 128, kernel_size=(3, 3), stride=(1, 1), padding=same)\n",
       "    (9): ReLU()\n",
       "    (10): BatchNorm2d(128, eps=1e-05, momentum=0.1, affine=True, track_running_stats=True)\n",
       "    (11): MaxPool2d(kernel_size=2, stride=2, padding=0, dilation=1, ceil_mode=False)\n",
       "  )\n",
       "  (classifier): Sequential(\n",
       "    (0): Flatten(start_dim=1, end_dim=-1)\n",
       "    (1): Linear(in_features=100352, out_features=128, bias=True)\n",
       "    (2): ReLU()\n",
       "    (3): Linear(in_features=128, out_features=64, bias=True)\n",
       "    (4): ReLU()\n",
       "    (5): Linear(in_features=64, out_features=1, bias=True)\n",
       "    (6): Sigmoid()\n",
       "  )\n",
       ")"
      ]
     },
     "execution_count": 17,
     "metadata": {},
     "output_type": "execute_result"
    }
   ],
   "source": [
    "model.eval()"
   ]
  },
  {
   "cell_type": "code",
   "execution_count": 18,
   "id": "9364eb9e-07d3-4e8c-8b39-5bf213c3e257",
   "metadata": {},
   "outputs": [
    {
     "name": "stdout",
     "output_type": "stream",
     "text": [
      "0.5\n"
     ]
    }
   ],
   "source": [
    "# evaluation on test data\n",
    "total = 0\n",
    "correct = 0\n",
    "\n",
    "with torch.no_grad():\n",
    "\n",
    "  for batch_features, batch_labels in test_dataloader:\n",
    "\n",
    "    # move data to gpu\n",
    "    batch_features, batch_labels = batch_features.to(device), batch_labels.to(device)\n",
    "\n",
    "    outputs = model(batch_features)\n",
    "\n",
    "    _, predicted = torch.max(outputs, 1)\n",
    "\n",
    "    total = total + batch_labels.shape[0]\n",
    "\n",
    "    correct = correct + (predicted == batch_labels).sum().item()\n",
    "\n",
    "print(correct/total)"
   ]
  },
  {
   "cell_type": "markdown",
   "id": "df91ae43-a8b4-43f9-a4b3-c27951d2328c",
   "metadata": {},
   "source": [
    "## After reducing overfitting and underfitting"
   ]
  },
  {
   "cell_type": "code",
   "execution_count": 24,
   "id": "f9df1801-cd1c-4bde-ac4d-668838e6d686",
   "metadata": {},
   "outputs": [],
   "source": [
    "# creating CNN Model\n",
    "class Dogs_vs_Cats_New(nn.Module):\n",
    "    def __init__(self, input_channels):\n",
    "        super().__init__()\n",
    "\n",
    "        self.features = nn.Sequential(\n",
    "            nn.Conv2d(input_channels, 32, kernel_size=3, padding=\"same\"), \n",
    "            nn.ReLU(),\n",
    "            nn.BatchNorm2d(32),\n",
    "            nn.MaxPool2d(kernel_size=2, stride=2, padding=0),\n",
    "\n",
    "            nn.Conv2d(32, 64, kernel_size=3, padding=\"same\"), \n",
    "            nn.ReLU(),\n",
    "            nn.BatchNorm2d(64),\n",
    "            nn.MaxPool2d(kernel_size=2, stride=2, padding=0),\n",
    "\n",
    "            nn.Conv2d(64, 128, kernel_size=3, padding=\"same\"), \n",
    "            nn.ReLU(),\n",
    "            nn.BatchNorm2d(128),\n",
    "            nn.MaxPool2d(kernel_size=2, stride=2, padding=0)\n",
    "        )\n",
    "\n",
    "        self.classifier = nn.Sequential(\n",
    "            nn.Flatten(),\n",
    "            nn.Linear(128*28*28, 128), \n",
    "            nn.ReLU(),\n",
    "            nn.Dropout(0.3), \n",
    "\n",
    "            nn.Linear(128, 64),\n",
    "            nn.ReLU(),\n",
    "            nn.Dropout(0.3), \n",
    "\n",
    "            nn.Linear(64, 1),\n",
    "            nn.Sigmoid()\n",
    "        )\n",
    "        \n",
    "    def forward(self, x):\n",
    "        x = self.features(x)\n",
    "        x = self.classifier(x)\n",
    "\n",
    "        return x"
   ]
  },
  {
   "cell_type": "code",
   "execution_count": 25,
   "id": "c3eadea3-592c-4719-b83c-c01b76b60c7e",
   "metadata": {},
   "outputs": [],
   "source": [
    "model1 = Dogs_vs_Cats_New(input_channels=3).to(device)"
   ]
  },
  {
   "cell_type": "code",
   "execution_count": 26,
   "id": "76b86478-eaed-4ff3-b559-f0d6e58895be",
   "metadata": {},
   "outputs": [
    {
     "data": {
      "text/plain": [
       "Dogs_vs_Cats_New(\n",
       "  (features): Sequential(\n",
       "    (0): Conv2d(3, 32, kernel_size=(3, 3), stride=(1, 1), padding=same)\n",
       "    (1): ReLU()\n",
       "    (2): BatchNorm2d(32, eps=1e-05, momentum=0.1, affine=True, track_running_stats=True)\n",
       "    (3): MaxPool2d(kernel_size=2, stride=2, padding=0, dilation=1, ceil_mode=False)\n",
       "    (4): Conv2d(32, 64, kernel_size=(3, 3), stride=(1, 1), padding=same)\n",
       "    (5): ReLU()\n",
       "    (6): BatchNorm2d(64, eps=1e-05, momentum=0.1, affine=True, track_running_stats=True)\n",
       "    (7): MaxPool2d(kernel_size=2, stride=2, padding=0, dilation=1, ceil_mode=False)\n",
       "    (8): Conv2d(64, 128, kernel_size=(3, 3), stride=(1, 1), padding=same)\n",
       "    (9): ReLU()\n",
       "    (10): BatchNorm2d(128, eps=1e-05, momentum=0.1, affine=True, track_running_stats=True)\n",
       "    (11): MaxPool2d(kernel_size=2, stride=2, padding=0, dilation=1, ceil_mode=False)\n",
       "  )\n",
       "  (classifier): Sequential(\n",
       "    (0): Flatten(start_dim=1, end_dim=-1)\n",
       "    (1): Linear(in_features=100352, out_features=128, bias=True)\n",
       "    (2): ReLU()\n",
       "    (3): Dropout(p=0.3, inplace=False)\n",
       "    (4): Linear(in_features=128, out_features=64, bias=True)\n",
       "    (5): ReLU()\n",
       "    (6): Dropout(p=0.3, inplace=False)\n",
       "    (7): Linear(in_features=64, out_features=1, bias=True)\n",
       "    (8): Sigmoid()\n",
       "  )\n",
       ")"
      ]
     },
     "execution_count": 26,
     "metadata": {},
     "output_type": "execute_result"
    }
   ],
   "source": [
    "model1"
   ]
  },
  {
   "cell_type": "code",
   "execution_count": 27,
   "id": "059d00bd-244a-4045-8d38-9c013f4f97e9",
   "metadata": {},
   "outputs": [],
   "source": [
    "loss_fc = nn.BCELoss()\n",
    "optimizer = torch.optim.Adam(model1.parameters(), lr=0.01)"
   ]
  },
  {
   "cell_type": "code",
   "execution_count": 55,
   "id": "b399545f-b088-4602-b2a0-8ecb754e7b6d",
   "metadata": {},
   "outputs": [
    {
     "name": "stdout",
     "output_type": "stream",
     "text": [
      "Epoch 1/10 - Loss: 50.0000\n",
      "Epoch 2/10 - Loss: 50.0000\n",
      "Epoch 3/10 - Loss: 50.0000\n",
      "Epoch 4/10 - Loss: 50.0000\n",
      "Epoch 5/10 - Loss: 50.0000\n",
      "Epoch 6/10 - Loss: 50.0000\n",
      "Epoch 7/10 - Loss: 50.0000\n",
      "Epoch 8/10 - Loss: 50.0000\n",
      "Epoch 9/10 - Loss: 50.0000\n",
      "Epoch 10/10 - Loss: 50.0000\n",
      "Total training time: 14.33 minutes\n"
     ]
    }
   ],
   "source": [
    "import time\n",
    "\n",
    "# Start timing\n",
    "start_time = time.time()\n",
    "\n",
    "epochs = 10\n",
    "\n",
    "train_loss_values1 = []  # Stores average loss per epoch\n",
    "epoch_count1 = []\n",
    "\n",
    "for epoch in range(epochs):\n",
    "    total_epoch_loss = 0  # Reset total loss for the epoch\n",
    "    num_batches = 0  # Track number of batches\n",
    "\n",
    "    for batch_features, batch_labels in train_dataloader:\n",
    "        # Move data to GPU\n",
    "        batch_features, batch_labels = batch_features.to(device), batch_labels.to(device)\n",
    "\n",
    "        # Ensure correct label shape based on task\n",
    "        batch_labels = batch_labels.view(-1, 1).float()  # For regression\n",
    "        # batch_labels = batch_labels.long()  # Uncomment for classification\n",
    "\n",
    "        # Forward pass\n",
    "        outputs = model1(batch_features)\n",
    "\n",
    "        # Compute loss\n",
    "        loss = loss_fc(outputs, batch_labels)\n",
    "\n",
    "        # Backward pass\n",
    "        optimizer.zero_grad()\n",
    "        loss.backward()\n",
    "        optimizer.step()\n",
    "\n",
    "        # Accumulate total loss\n",
    "        total_epoch_loss += loss.item()\n",
    "        num_batches += 1\n",
    "\n",
    "    # Compute average loss per epoch\n",
    "    avg_epoch_loss = total_epoch_loss / num_batches\n",
    "    train_loss_values1.append(avg_epoch_loss)\n",
    "    epoch_count1.append(epoch + 1)\n",
    "\n",
    "    print(f\"Epoch {epoch + 1}/{epochs} - Loss: {avg_epoch_loss:.4f}\")\n",
    "\n",
    "# End timing\n",
    "end_time = time.time()\n",
    "print(f\"Total training time: {(end_time - start_time) / 60:.2f} minutes\")"
   ]
  },
  {
   "cell_type": "code",
   "execution_count": 57,
   "id": "51ee49e7-b7d3-48b8-9e92-49142c1e147c",
   "metadata": {},
   "outputs": [
    {
     "name": "stdout",
     "output_type": "stream",
     "text": [
      "Test Accuracy: 15.9760\n"
     ]
    }
   ],
   "source": [
    "model1.eval()\n",
    "# Evaluation on test data\n",
    "test_loss_values1 = []\n",
    "total = 0\n",
    "correct = 0\n",
    "\n",
    "with torch.no_grad():\n",
    "    for batch_features, batch_labels in test_dataloader:\n",
    "        # Move data to GPU\n",
    "        batch_features, batch_labels = batch_features.to(device), batch_labels.to(device)\n",
    "\n",
    "        # Ensure batch_labels is of correct type\n",
    "        batch_labels = batch_labels.view(-1,1).float()  # For classification\n",
    "        # batch_labels = batch_labels.view(-1, 1).float()  # For regression\n",
    "\n",
    "        outputs = model1(batch_features)\n",
    "\n",
    "        test_loss = loss_fc(outputs, batch_labels)\n",
    "        test_loss_values1.append(test_loss.item())\n",
    "\n",
    "        _, predicted = torch.max(outputs, 1)  # Get class prediction for classification\n",
    "\n",
    "        total += batch_labels.shape[0]\n",
    "        correct += (predicted == batch_labels).sum().item()\n",
    "\n",
    "    accuracy1 = correct / total  # Compute accuracy after loop\n",
    "\n",
    "print(f\"Test Accuracy: {accuracy1:.4f}\")"
   ]
  },
  {
   "cell_type": "code",
   "execution_count": 60,
   "id": "7cd6cac1-8fbf-4806-b28d-f28c60a92c5f",
   "metadata": {},
   "outputs": [
    {
     "data": {
      "image/png": "[encoded data removed]",
      "text/plain": [
       "<Figure size 640x480 with 1 Axes>"
      ]
     },
     "metadata": {},
     "output_type": "display_data"
    }
   ],
   "source": [
    "# Plot the loss curves\n",
    "plt.plot(train_loss_values1, label=\"training loss\")\n",
    "plt.plot(test_loss_values1, label=\"testing loss\")\n",
    "plt.title(\"Training and test loss curves\")\n",
    "plt.ylabel(\"Loss\")\n",
    "plt.xlabel(\"Epochs\")\n",
    "plt.legend()\n",
    "plt.show()"
   ]
  },
  {
   "cell_type": "code",
   "execution_count": null,
   "id": "014a24d0-00bb-4247-ba2f-f31cbfad157f",
   "metadata": {},
   "outputs": [],
   "source": []
  }
 ],
 "metadata": {
  "kernelspec": {
   "display_name": "Python 3 (ipykernel)",
   "language": "python",
   "name": "python3"
  },
  "language_info": {
   "codemirror_mode": {
    "name": "ipython",
    "version": 3
   },
   "file_extension": ".py",
   "mimetype": "text/x-python",
   "name": "python",
   "nbconvert_exporter": "python",
   "pygments_lexer": "ipython3",
   "version": "3.12.1"
  }
 },
 "nbformat": 4,
 "nbformat_minor": 5
}
