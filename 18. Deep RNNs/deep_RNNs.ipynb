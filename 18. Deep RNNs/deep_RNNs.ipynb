{
 "cells": [
  {
   "cell_type": "code",
   "execution_count": 2,
   "id": "16d3e48b-74de-416d-8e91-6bcf402ac1bb",
   "metadata": {},
   "outputs": [],
   "source": [
    "import torch\n",
    "import torch.nn as nn\n",
    "import torch.optim as optim\n",
    "import numpy as np"
   ]
  },
  {
   "cell_type": "code",
   "execution_count": 3,
   "id": "847b088f-3e26-4723-a12e-33a5ce2fc961",
   "metadata": {},
   "outputs": [
    {
     "data": {
      "text/plain": [
       "'cpu'"
      ]
     },
     "execution_count": 3,
     "metadata": {},
     "output_type": "execute_result"
    }
   ],
   "source": [
    "device = \"cuda\" if torch.cuda.is_available() else \"cpu\"\n",
    "device"
   ]
  },
  {
   "cell_type": "code",
   "execution_count": 4,
   "id": "dd000ba2-742f-4026-976e-9f0307ecaa0a",
   "metadata": {},
   "outputs": [],
   "source": [
    "# Deep RNNs"
   ]
  },
  {
   "cell_type": "code",
   "execution_count": 6,
   "id": "77175a93-25c1-4145-9897-7fd5ae6fb67b",
   "metadata": {},
   "outputs": [],
   "source": [
    "class DeepRNN(nn.Module):\n",
    "    def __init__(self, input_size=1, hidden_size=64, num_layers=3, output_size=1):\n",
    "        super(DeepRNN, self).__init__()\n",
    "        self.lstm = nn.LSTM(input_size, hidden_size, num_layers, batch_first=True)\n",
    "        self.fc = nn.Linear(hidden_size, output_size)\n",
    "        self.sigmoid = nn.Sigmoid()\n",
    "\n",
    "    def forward(self, x):\n",
    "        out, _ = self.lstm(x)\n",
    "        out = out[:, -1, :]  # Take the last time step output\n",
    "        out = self.fc(out)\n",
    "        out = self.sigmoid(out)\n",
    "        return out\n",
    "\n",
    "model = DeepRNN()"
   ]
  },
  {
   "cell_type": "code",
   "execution_count": 7,
   "id": "ca79e1f6-56c6-418c-b844-e03babb3ff0b",
   "metadata": {},
   "outputs": [],
   "source": [
    "# Deep LSTMs"
   ]
  },
  {
   "cell_type": "code",
   "execution_count": 8,
   "id": "584e8db2-fd68-4a2e-939b-2996c0ff2b80",
   "metadata": {},
   "outputs": [],
   "source": [
    "class DeepLSTM(nn.Module):\n",
    "    def __init__(self, input_size=1, hidden_size=64, num_layers=3, output_size=1):\n",
    "        super(DeepLSTM, self).__init__()\n",
    "        self.lstm = nn.LSTM(input_size, hidden_size, num_layers, batch_first=True)\n",
    "        self.fc = nn.Linear(hidden_size, output_size)\n",
    "        self.sigmoid = nn.Sigmoid()  # For binary classification\n",
    "\n",
    "    def forward(self, x):\n",
    "        out, _ = self.lstm(x)  # (batch, seq_len, hidden_size)\n",
    "        out = out[:, -1, :]  # Get last time step output\n",
    "        out = self.fc(out)\n",
    "        return self.sigmoid(out)  # Binary output\n",
    "\n",
    "# Instantiate model\n",
    "lstm_model = DeepLSTM()"
   ]
  },
  {
   "cell_type": "code",
   "execution_count": 9,
   "id": "2e1e3b86-0fbe-4e37-933c-d8491a89c3c5",
   "metadata": {},
   "outputs": [],
   "source": [
    "# Deep GRUs"
   ]
  },
  {
   "cell_type": "code",
   "execution_count": 10,
   "id": "42305a71-3c0b-4f04-acb9-12b9f42f6c3b",
   "metadata": {},
   "outputs": [],
   "source": [
    "class DeepGRU(nn.Module):\n",
    "    def __init__(self, input_size=1, hidden_size=64, num_layers=3, output_size=1):\n",
    "        super(DeepGRU, self).__init__()\n",
    "        self.gru = nn.GRU(input_size, hidden_size, num_layers, batch_first=True)\n",
    "        self.fc = nn.Linear(hidden_size, output_size)\n",
    "        self.sigmoid = nn.Sigmoid()  \n",
    "\n",
    "    def forward(self, x):\n",
    "        out, _ = self.gru(x)  \n",
    "        out = out[:, -1, :]  \n",
    "        out = self.fc(out)\n",
    "        return self.sigmoid(out)\n",
    "\n",
    "# Instantiate model\n",
    "gru_model = DeepGRU()"
   ]
  },
  {
   "cell_type": "code",
   "execution_count": null,
   "id": "7f3b5118-5337-47fa-8227-6f78346fd58b",
   "metadata": {},
   "outputs": [],
   "source": []
  }
 ],
 "metadata": {
  "kernelspec": {
   "display_name": "Python 3 (ipykernel)",
   "language": "python",
   "name": "python3"
  },
  "language_info": {
   "codemirror_mode": {
    "name": "ipython",
    "version": 3
   },
   "file_extension": ".py",
   "mimetype": "text/x-python",
   "name": "python",
   "nbconvert_exporter": "python",
   "pygments_lexer": "ipython3",
   "version": "3.12.1"
  }
 },
 "nbformat": 4,
 "nbformat_minor": 5
}
