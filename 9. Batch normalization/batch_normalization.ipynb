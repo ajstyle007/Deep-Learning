{
 "cells": [
  {
   "cell_type": "code",
   "execution_count": 536,
   "id": "ebc6cdd3-47ab-45b0-8f03-be5fe9849703",
   "metadata": {},
   "outputs": [],
   "source": [
    "import pandas as pd\n",
    "import numpy as np\n",
    "import matplotlib.pyplot as plt\n",
    "\n",
    "import torch \n",
    "from torch import nn"
   ]
  },
  {
   "cell_type": "code",
   "execution_count": 537,
   "id": "b7c87768-ac08-4330-9fc1-44efcdb3eff0",
   "metadata": {},
   "outputs": [],
   "source": [
    "df = pd.read_csv(\"concertriccir2.csv\")"
   ]
  },
  {
   "cell_type": "code",
   "execution_count": 538,
   "id": "69e91d85-23f7-4d90-99af-b83a5b621844",
   "metadata": {},
   "outputs": [
    {
     "data": {
      "text/html": [
       "<div>\n",
       "<style scoped>\n",
       "    .dataframe tbody tr th:only-of-type {\n",
       "        vertical-align: middle;\n",
       "    }\n",
       "\n",
       "    .dataframe tbody tr th {\n",
       "        vertical-align: top;\n",
       "    }\n",
       "\n",
       "    .dataframe thead th {\n",
       "        text-align: right;\n",
       "    }\n",
       "</style>\n",
       "<table border=\"1\" class=\"dataframe\">\n",
       "  <thead>\n",
       "    <tr style=\"text-align: right;\">\n",
       "      <th></th>\n",
       "      <th>7.003345706103683010e-01</th>\n",
       "      <th>-2.470675778972781789e-01</th>\n",
       "      <th>0.000000000000000000e+00</th>\n",
       "    </tr>\n",
       "  </thead>\n",
       "  <tbody>\n",
       "    <tr>\n",
       "      <th>0</th>\n",
       "      <td>-3.950019</td>\n",
       "      <td>2.740080</td>\n",
       "      <td>1.0</td>\n",
       "    </tr>\n",
       "    <tr>\n",
       "      <th>1</th>\n",
       "      <td>0.150222</td>\n",
       "      <td>-2.157638</td>\n",
       "      <td>1.0</td>\n",
       "    </tr>\n",
       "    <tr>\n",
       "      <th>2</th>\n",
       "      <td>-1.672050</td>\n",
       "      <td>-0.941519</td>\n",
       "      <td>1.0</td>\n",
       "    </tr>\n",
       "    <tr>\n",
       "      <th>3</th>\n",
       "      <td>2.560483</td>\n",
       "      <td>-1.846577</td>\n",
       "      <td>1.0</td>\n",
       "    </tr>\n",
       "    <tr>\n",
       "      <th>4</th>\n",
       "      <td>-1.724979</td>\n",
       "      <td>3.463930</td>\n",
       "      <td>1.0</td>\n",
       "    </tr>\n",
       "  </tbody>\n",
       "</table>\n",
       "</div>"
      ],
      "text/plain": [
       "   7.003345706103683010e-01  -2.470675778972781789e-01  \\\n",
       "0                 -3.950019                   2.740080   \n",
       "1                  0.150222                  -2.157638   \n",
       "2                 -1.672050                  -0.941519   \n",
       "3                  2.560483                  -1.846577   \n",
       "4                 -1.724979                   3.463930   \n",
       "\n",
       "   0.000000000000000000e+00  \n",
       "0                       1.0  \n",
       "1                       1.0  \n",
       "2                       1.0  \n",
       "3                       1.0  \n",
       "4                       1.0  "
      ]
     },
     "execution_count": 538,
     "metadata": {},
     "output_type": "execute_result"
    }
   ],
   "source": [
    "df.head()"
   ]
  },
  {
   "cell_type": "code",
   "execution_count": 539,
   "id": "298d2d63-400c-4e4b-add3-184942c1361b",
   "metadata": {},
   "outputs": [],
   "source": [
    "df.rename(columns={\"7.003345706103683010e-01\" : \"A\", \"-2.470675778972781789e-01\" : \"B\", \"0.000000000000000000e+00\" : \"C\"}, inplace=True)"
   ]
  },
  {
   "cell_type": "code",
   "execution_count": 540,
   "id": "b2dc6b1c-d182-4e8d-a68f-927b7359e8ee",
   "metadata": {},
   "outputs": [
    {
     "data": {
      "text/html": [
       "<div>\n",
       "<style scoped>\n",
       "    .dataframe tbody tr th:only-of-type {\n",
       "        vertical-align: middle;\n",
       "    }\n",
       "\n",
       "    .dataframe tbody tr th {\n",
       "        vertical-align: top;\n",
       "    }\n",
       "\n",
       "    .dataframe thead th {\n",
       "        text-align: right;\n",
       "    }\n",
       "</style>\n",
       "<table border=\"1\" class=\"dataframe\">\n",
       "  <thead>\n",
       "    <tr style=\"text-align: right;\">\n",
       "      <th></th>\n",
       "      <th>A</th>\n",
       "      <th>B</th>\n",
       "      <th>C</th>\n",
       "    </tr>\n",
       "  </thead>\n",
       "  <tbody>\n",
       "    <tr>\n",
       "      <th>0</th>\n",
       "      <td>-3.950019</td>\n",
       "      <td>2.740080</td>\n",
       "      <td>1.0</td>\n",
       "    </tr>\n",
       "    <tr>\n",
       "      <th>1</th>\n",
       "      <td>0.150222</td>\n",
       "      <td>-2.157638</td>\n",
       "      <td>1.0</td>\n",
       "    </tr>\n",
       "    <tr>\n",
       "      <th>2</th>\n",
       "      <td>-1.672050</td>\n",
       "      <td>-0.941519</td>\n",
       "      <td>1.0</td>\n",
       "    </tr>\n",
       "    <tr>\n",
       "      <th>3</th>\n",
       "      <td>2.560483</td>\n",
       "      <td>-1.846577</td>\n",
       "      <td>1.0</td>\n",
       "    </tr>\n",
       "    <tr>\n",
       "      <th>4</th>\n",
       "      <td>-1.724979</td>\n",
       "      <td>3.463930</td>\n",
       "      <td>1.0</td>\n",
       "    </tr>\n",
       "  </tbody>\n",
       "</table>\n",
       "</div>"
      ],
      "text/plain": [
       "          A         B    C\n",
       "0 -3.950019  2.740080  1.0\n",
       "1  0.150222 -2.157638  1.0\n",
       "2 -1.672050 -0.941519  1.0\n",
       "3  2.560483 -1.846577  1.0\n",
       "4 -1.724979  3.463930  1.0"
      ]
     },
     "execution_count": 540,
     "metadata": {},
     "output_type": "execute_result"
    }
   ],
   "source": [
    "df.head()"
   ]
  },
  {
   "cell_type": "code",
   "execution_count": 541,
   "id": "e866da21-dbd8-44cc-915d-a513831dc397",
   "metadata": {},
   "outputs": [
    {
     "data": {
      "image/png": "[encoded data removed]",
      "text/plain": [
       "<Figure size 640x480 with 1 Axes>"
      ]
     },
     "metadata": {},
     "output_type": "display_data"
    }
   ],
   "source": [
    "plt.scatter(df[\"A\"], df[\"B\"], c= df[\"C\"])\n",
    "plt.show()"
   ]
  },
  {
   "cell_type": "code",
   "execution_count": 542,
   "id": "b622612b-126c-47c6-b237-2df01e57c0e5",
   "metadata": {},
   "outputs": [],
   "source": [
    "X = df.iloc[:,0:2].values\n",
    "y = df.iloc[:,-1].values"
   ]
  },
  {
   "cell_type": "code",
   "execution_count": 543,
   "id": "d9703861-8ccd-42c7-8197-e77a5a9e34d4",
   "metadata": {},
   "outputs": [],
   "source": [
    "# convert data to tensors\n",
    "X_ten = torch.from_numpy(X).type(torch.float)\n",
    "y_ten = torch.from_numpy(y).type(torch.float)"
   ]
  },
  {
   "cell_type": "code",
   "execution_count": 544,
   "id": "def9e8f1-cfa4-47c7-b729-6f443cd9eb03",
   "metadata": {},
   "outputs": [
    {
     "data": {
      "text/plain": [
       "'cpu'"
      ]
     },
     "execution_count": 544,
     "metadata": {},
     "output_type": "execute_result"
    }
   ],
   "source": [
    "device = \"cuda\" if torch.cuda.is_available() else \"cpu\"\n",
    "device"
   ]
  },
  {
   "cell_type": "code",
   "execution_count": 545,
   "id": "1b7a7fbb-b69f-41f6-a4ee-1fb1f0b0dcc8",
   "metadata": {},
   "outputs": [],
   "source": [
    "class without_batch_norm(nn.Module):\n",
    "    def __init__(self, num_inputs=2, num_class=1):\n",
    "        super().__init__()\n",
    "        self.network = nn.Sequential(\n",
    "            nn.Linear(num_inputs, 2),\n",
    "            nn.ReLU(),\n",
    "            nn.Linear(2, 2),\n",
    "            nn.ReLU(),\n",
    "            nn.Linear(2, num_class),\n",
    "            nn.Sigmoid()\n",
    "        )\n",
    "\n",
    "    def forward(self, x):\n",
    "        return self.network(x)\n",
    "model = without_batch_norm().to(device)"
   ]
  },
  {
   "cell_type": "code",
   "execution_count": 546,
   "id": "cf18036f-d818-4470-8053-1436e6f73f98",
   "metadata": {},
   "outputs": [
    {
     "data": {
      "text/plain": [
       "without_batch_norm(\n",
       "  (network): Sequential(\n",
       "    (0): Linear(in_features=2, out_features=2, bias=True)\n",
       "    (1): ReLU()\n",
       "    (2): Linear(in_features=2, out_features=2, bias=True)\n",
       "    (3): ReLU()\n",
       "    (4): Linear(in_features=2, out_features=1, bias=True)\n",
       "    (5): Sigmoid()\n",
       "  )\n",
       ")"
      ]
     },
     "execution_count": 546,
     "metadata": {},
     "output_type": "execute_result"
    }
   ],
   "source": [
    "model"
   ]
  },
  {
   "cell_type": "code",
   "execution_count": 547,
   "id": "ab95ee5e-9ebe-47cf-936c-60a7b91a90d3",
   "metadata": {},
   "outputs": [
    {
     "data": {
      "text/plain": [
       "torch.Size([499, 2])"
      ]
     },
     "execution_count": 547,
     "metadata": {},
     "output_type": "execute_result"
    }
   ],
   "source": [
    "X_ten.shape"
   ]
  },
  {
   "cell_type": "code",
   "execution_count": 548,
   "id": "982621af-31d5-4408-aae7-849f4af46031",
   "metadata": {},
   "outputs": [],
   "source": [
    "from torchinfo import summary"
   ]
  },
  {
   "cell_type": "code",
   "execution_count": 549,
   "id": "34161db7-3b87-4f74-b79a-c4789e680fc9",
   "metadata": {},
   "outputs": [
    {
     "data": {
      "text/plain": [
       "==========================================================================================\n",
       "Layer (type:depth-idx)                   Output Shape              Param #\n",
       "==========================================================================================\n",
       "without_batch_norm                       [499, 1]                  --\n",
       "├─Sequential: 1-1                        [499, 1]                  --\n",
       "│    └─Linear: 2-1                       [499, 2]                  6\n",
       "│    └─ReLU: 2-2                         [499, 2]                  --\n",
       "│    └─Linear: 2-3                       [499, 2]                  6\n",
       "│    └─ReLU: 2-4                         [499, 2]                  --\n",
       "│    └─Linear: 2-5                       [499, 1]                  3\n",
       "│    └─Sigmoid: 2-6                      [499, 1]                  --\n",
       "==========================================================================================\n",
       "Total params: 15\n",
       "Trainable params: 15\n",
       "Non-trainable params: 0\n",
       "Total mult-adds (Units.MEGABYTES): 0.01\n",
       "==========================================================================================\n",
       "Input size (MB): 0.00\n",
       "Forward/backward pass size (MB): 0.02\n",
       "Params size (MB): 0.00\n",
       "Estimated Total Size (MB): 0.02\n",
       "=========================================================================================="
      ]
     },
     "execution_count": 549,
     "metadata": {},
     "output_type": "execute_result"
    }
   ],
   "source": [
    "model_summary = summary(model = model, input_size=X_ten.shape)\n",
    "model_summary"
   ]
  },
  {
   "cell_type": "code",
   "execution_count": 550,
   "id": "cf0e7838-0683-4c75-8a32-6e0a5792cffa",
   "metadata": {},
   "outputs": [
    {
     "data": {
      "text/plain": [
       "==========================================================================================\n",
       "Layer (type:depth-idx)                   Output Shape              Param #\n",
       "==========================================================================================\n",
       "without_batch_norm                       [499, 1]                  --\n",
       "├─Sequential: 1-1                        [499, 1]                  --\n",
       "│    └─Linear: 2-1                       [499, 2]                  6\n",
       "│    └─ReLU: 2-2                         [499, 2]                  --\n",
       "│    └─Linear: 2-3                       [499, 2]                  6\n",
       "│    └─ReLU: 2-4                         [499, 2]                  --\n",
       "│    └─Linear: 2-5                       [499, 1]                  3\n",
       "│    └─Sigmoid: 2-6                      [499, 1]                  --\n",
       "==========================================================================================\n",
       "Total params: 15\n",
       "Trainable params: 15\n",
       "Non-trainable params: 0\n",
       "Total mult-adds (Units.MEGABYTES): 0.01\n",
       "==========================================================================================\n",
       "Input size (MB): 0.00\n",
       "Forward/backward pass size (MB): 0.02\n",
       "Params size (MB): 0.00\n",
       "Estimated Total Size (MB): 0.02\n",
       "=========================================================================================="
      ]
     },
     "execution_count": 550,
     "metadata": {},
     "output_type": "execute_result"
    }
   ],
   "source": [
    "model_summary1 = summary(model = model, input_size=(499,2), col_names=(\"output_size\", \"num_params\"))\n",
    "model_summary1"
   ]
  },
  {
   "cell_type": "code",
   "execution_count": 551,
   "id": "653917ba-2bd1-4c88-8ac6-82edfd89cbea",
   "metadata": {},
   "outputs": [
    {
     "data": {
      "text/plain": [
       "torch.Size([499, 2])"
      ]
     },
     "execution_count": 551,
     "metadata": {},
     "output_type": "execute_result"
    }
   ],
   "source": [
    "X_ten.shape"
   ]
  },
  {
   "cell_type": "code",
   "execution_count": 552,
   "id": "3f840da8-6b70-4c9f-a4b5-7f73e9e65768",
   "metadata": {},
   "outputs": [],
   "source": [
    "# loss_fc and optimizer\n",
    "loss_fc = nn.BCELoss() \n",
    "\n",
    "optimizer = torch.optim.Adam(params = model.parameters(),\n",
    "                            lr = 0.001)"
   ]
  },
  {
   "cell_type": "code",
   "execution_count": 553,
   "id": "5bd86098-9f9a-4166-beaa-ae284758595f",
   "metadata": {},
   "outputs": [
    {
     "name": "stdout",
     "output_type": "stream",
     "text": [
      "Epoch: 0 | Loss: 0.7147746682167053 | Accuracy: 0.4989979863166809\n",
      "Epoch: 5 | Loss: 0.7129932045936584 | Accuracy: 0.4989979863166809\n",
      "Epoch: 10 | Loss: 0.7113334536552429 | Accuracy: 0.4989979863166809\n",
      "Epoch: 15 | Loss: 0.7097963690757751 | Accuracy: 0.4989979863166809\n",
      "Epoch: 20 | Loss: 0.7083805203437805 | Accuracy: 0.4989979863166809\n",
      "Epoch: 25 | Loss: 0.7070814371109009 | Accuracy: 0.4989979863166809\n",
      "Epoch: 30 | Loss: 0.7058930397033691 | Accuracy: 0.4989979863166809\n",
      "Epoch: 35 | Loss: 0.7048076391220093 | Accuracy: 0.4989979863166809\n",
      "Epoch: 40 | Loss: 0.7038170695304871 | Accuracy: 0.4989979863166809\n",
      "Epoch: 45 | Loss: 0.7029130458831787 | Accuracy: 0.4989979863166809\n",
      "Epoch: 50 | Loss: 0.7020872831344604 | Accuracy: 0.4989979863166809\n",
      "Epoch: 55 | Loss: 0.7013319730758667 | Accuracy: 0.4989979863166809\n",
      "Epoch: 60 | Loss: 0.7006403803825378 | Accuracy: 0.4989979863166809\n",
      "Epoch: 65 | Loss: 0.700005829334259 | Accuracy: 0.4989979863166809\n",
      "Epoch: 70 | Loss: 0.6994227766990662 | Accuracy: 0.4989979863166809\n",
      "Epoch: 75 | Loss: 0.6988862752914429 | Accuracy: 0.4989979863166809\n",
      "Epoch: 80 | Loss: 0.6983919143676758 | Accuracy: 0.4989979863166809\n",
      "Epoch: 85 | Loss: 0.697935938835144 | Accuracy: 0.4989979863166809\n",
      "Epoch: 90 | Loss: 0.6975148916244507 | Accuracy: 0.4989979863166809\n",
      "Epoch: 95 | Loss: 0.6971260905265808 | Accuracy: 0.4989979863166809\n",
      "Epoch: 100 | Loss: 0.6967668533325195 | Accuracy: 0.4989979863166809\n",
      "Epoch: 105 | Loss: 0.6964349150657654 | Accuracy: 0.4989979863166809\n",
      "Epoch: 110 | Loss: 0.6961286664009094 | Accuracy: 0.4989979863166809\n",
      "Epoch: 115 | Loss: 0.6958460211753845 | Accuracy: 0.4989979863166809\n",
      "Epoch: 120 | Loss: 0.6955856680870056 | Accuracy: 0.4989979863166809\n",
      "Epoch: 125 | Loss: 0.6953462958335876 | Accuracy: 0.4989979863166809\n",
      "Epoch: 130 | Loss: 0.6951267123222351 | Accuracy: 0.4989979863166809\n",
      "Epoch: 135 | Loss: 0.6949254870414734 | Accuracy: 0.4989979863166809\n",
      "Epoch: 140 | Loss: 0.6947419047355652 | Accuracy: 0.4989979863166809\n",
      "Epoch: 145 | Loss: 0.6945746541023254 | Accuracy: 0.4989979863166809\n",
      "Epoch: 150 | Loss: 0.6944230198860168 | Accuracy: 0.4989979863166809\n",
      "Epoch: 155 | Loss: 0.6942859888076782 | Accuracy: 0.4989979863166809\n",
      "Epoch: 160 | Loss: 0.6941626071929932 | Accuracy: 0.4989979863166809\n",
      "Epoch: 165 | Loss: 0.69405198097229 | Accuracy: 0.4989979863166809\n",
      "Epoch: 170 | Loss: 0.6939532160758972 | Accuracy: 0.4989979863166809\n",
      "Epoch: 175 | Loss: 0.6938656568527222 | Accuracy: 0.4990100562572479\n",
      "Epoch: 180 | Loss: 0.6937880516052246 | Accuracy: 0.49902209639549255\n",
      "Epoch: 185 | Loss: 0.6937198638916016 | Accuracy: 0.4990622401237488\n",
      "Epoch: 190 | Loss: 0.6936600208282471 | Accuracy: 0.4991024136543274\n",
      "Epoch: 195 | Loss: 0.6936079859733582 | Accuracy: 0.4991787075996399\n",
      "Epoch: 200 | Loss: 0.6935627460479736 | Accuracy: 0.49925100803375244\n",
      "Epoch: 205 | Loss: 0.693523645401001 | Accuracy: 0.49932730197906494\n",
      "Epoch: 210 | Loss: 0.6934900879859924 | Accuracy: 0.4993795156478882\n",
      "Epoch: 215 | Loss: 0.6934611797332764 | Accuracy: 0.4994477927684784\n",
      "Epoch: 220 | Loss: 0.6934365630149841 | Accuracy: 0.499504029750824\n",
      "Epoch: 225 | Loss: 0.6934154629707336 | Accuracy: 0.49959638714790344\n",
      "Epoch: 230 | Loss: 0.6933974623680115 | Accuracy: 0.499656617641449\n",
      "Epoch: 235 | Loss: 0.6933822631835938 | Accuracy: 0.4996887445449829\n",
      "Epoch: 240 | Loss: 0.6933692097663879 | Accuracy: 0.4997570216655731\n",
      "Epoch: 245 | Loss: 0.6933580040931702 | Accuracy: 0.4997931718826294\n",
      "Epoch: 250 | Loss: 0.6933484077453613 | Accuracy: 0.49981728196144104\n",
      "Epoch: 255 | Loss: 0.6933401226997375 | Accuracy: 0.4998534023761749\n",
      "Epoch: 260 | Loss: 0.693332850933075 | Accuracy: 0.4998694658279419\n",
      "Epoch: 265 | Loss: 0.6933265328407288 | Accuracy: 0.49988552927970886\n",
      "Epoch: 270 | Loss: 0.6933208703994751 | Accuracy: 0.49990159273147583\n",
      "Epoch: 275 | Loss: 0.6933157444000244 | Accuracy: 0.49992167949676514\n",
      "Epoch: 280 | Loss: 0.6933110952377319 | Accuracy: 0.4999457895755768\n",
      "Epoch: 285 | Loss: 0.6933068633079529 | Accuracy: 0.49996185302734375\n",
      "Epoch: 290 | Loss: 0.6933028697967529 | Accuracy: 0.4999738931655884\n",
      "Epoch: 295 | Loss: 0.6932991743087769 | Accuracy: 0.4999738931655884\n",
      "Epoch: 300 | Loss: 0.6932956576347351 | Accuracy: 0.49998193979263306\n",
      "Epoch: 305 | Loss: 0.6932923197746277 | Accuracy: 0.49998193979263306\n",
      "Epoch: 310 | Loss: 0.6932891607284546 | Accuracy: 0.499985933303833\n",
      "Epoch: 315 | Loss: 0.693286120891571 | Accuracy: 0.4999939799308777\n",
      "Epoch: 320 | Loss: 0.6932830214500427 | Accuracy: 0.5000020265579224\n",
      "Epoch: 325 | Loss: 0.6932801008224487 | Accuracy: 0.5000100135803223\n",
      "Epoch: 330 | Loss: 0.69327712059021 | Accuracy: 0.5000100135803223\n",
      "Epoch: 335 | Loss: 0.6932742595672607 | Accuracy: 0.5000100135803223\n",
      "Epoch: 340 | Loss: 0.6932714581489563 | Accuracy: 0.5000100135803223\n",
      "Epoch: 345 | Loss: 0.6932685375213623 | Accuracy: 0.5000180602073669\n",
      "Epoch: 350 | Loss: 0.6932658553123474 | Accuracy: 0.5000180602073669\n",
      "Epoch: 355 | Loss: 0.6932631134986877 | Accuracy: 0.5000261068344116\n",
      "Epoch: 360 | Loss: 0.6932603120803833 | Accuracy: 0.5000261068344116\n",
      "Epoch: 365 | Loss: 0.6932575106620789 | Accuracy: 0.5000261068344116\n",
      "Epoch: 370 | Loss: 0.6932546496391296 | Accuracy: 0.5000261068344116\n",
      "Epoch: 375 | Loss: 0.6932517290115356 | Accuracy: 0.5000421404838562\n",
      "Epoch: 380 | Loss: 0.6932489275932312 | Accuracy: 0.5000461935997009\n",
      "Epoch: 385 | Loss: 0.6932461261749268 | Accuracy: 0.5000461935997009\n",
      "Epoch: 390 | Loss: 0.6932432651519775 | Accuracy: 0.5000461935997009\n",
      "Epoch: 395 | Loss: 0.6932403445243835 | Accuracy: 0.5000461935997009\n",
      "Epoch: 400 | Loss: 0.6932377219200134 | Accuracy: 0.5000461935997009\n",
      "Epoch: 405 | Loss: 0.6932350397109985 | Accuracy: 0.5000501871109009\n",
      "Epoch: 410 | Loss: 0.6932322978973389 | Accuracy: 0.5000501871109009\n",
      "Epoch: 415 | Loss: 0.693229615688324 | Accuracy: 0.5000461935997009\n",
      "Epoch: 420 | Loss: 0.6932269930839539 | Accuracy: 0.5000461935997009\n",
      "Epoch: 425 | Loss: 0.693224310874939 | Accuracy: 0.5000421404838562\n",
      "Epoch: 430 | Loss: 0.6932216882705688 | Accuracy: 0.5000421404838562\n",
      "Epoch: 435 | Loss: 0.6932188272476196 | Accuracy: 0.5000421404838562\n",
      "Epoch: 440 | Loss: 0.69321608543396 | Accuracy: 0.5000421404838562\n",
      "Epoch: 445 | Loss: 0.6932132244110107 | Accuracy: 0.5000421404838562\n",
      "Epoch: 450 | Loss: 0.6932104825973511 | Accuracy: 0.5000461935997009\n",
      "Epoch: 455 | Loss: 0.6932076215744019 | Accuracy: 0.5000501871109009\n",
      "Epoch: 460 | Loss: 0.6932049989700317 | Accuracy: 0.5000501871109009\n",
      "Epoch: 465 | Loss: 0.6932021975517273 | Accuracy: 0.5000501871109009\n",
      "Epoch: 470 | Loss: 0.6931994557380676 | Accuracy: 0.5000501871109009\n",
      "Epoch: 475 | Loss: 0.6931967735290527 | Accuracy: 0.5000501871109009\n",
      "Epoch: 480 | Loss: 0.6931940913200378 | Accuracy: 0.5000501871109009\n",
      "Epoch: 485 | Loss: 0.693191409111023 | Accuracy: 0.5000501871109009\n",
      "Epoch: 490 | Loss: 0.693188488483429 | Accuracy: 0.5000501871109009\n",
      "Epoch: 495 | Loss: 0.6931855082511902 | Accuracy: 0.5000542402267456\n"
     ]
    }
   ],
   "source": [
    "# building a training and evaluation loop\n",
    "\n",
    "epochs = 500\n",
    "\n",
    "train_loss_values1 = []\n",
    "test_loss_values1 = []\n",
    "epoch_count1 = []\n",
    "accuracy1 = []\n",
    "\n",
    "for epoch in range(epochs):\n",
    "\n",
    "  model.train()\n",
    "\n",
    "  # forward pass\n",
    "  y_logits = model(X_ten).squeeze()\n",
    "  y_pred = torch.round(torch.sigmoid(y_logits))\n",
    "\n",
    "  # calculate the loss/accuarcy\n",
    "  loss = loss_fc(y_logits, y_ten)\n",
    "\n",
    "  optimizer.zero_grad()\n",
    "  loss.backward()\n",
    "  optimizer.step()\n",
    "\n",
    "  # testing\n",
    "  model.eval()\n",
    "  with torch.inference_mode():\n",
    "\n",
    "    # forward pass\n",
    "    test_logits = model(X_ten).squeeze()\n",
    "    test_pred = torch.round(torch.sigmoid(test_logits))\n",
    "\n",
    "    # calculate the loss/accuarcy\n",
    "    test_loss = loss_fc(test_logits, y_ten)\n",
    "\n",
    "    predicted = model.forward(X_ten)\n",
    "    predicted = (predicted > 0.5).float()\n",
    "    acc = (predicted == y_ten).float().mean()\n",
    "\n",
    "\n",
    "# lets print out what is happening\n",
    "    if epoch % 5 == 0:\n",
    "        epoch_count1.append(epoch)\n",
    "        train_loss_values1.append(loss.detach().numpy())\n",
    "        test_loss_values1.append(test_loss.detach().numpy())\n",
    "        accuracy1.append(acc.item())\n",
    "        print(f\"Epoch: {epoch} | Loss: {loss} | Accuracy: {acc.item()}\")"
   ]
  },
  {
   "cell_type": "markdown",
   "id": "80c40474-1cb8-4267-88b5-c0039ac2865b",
   "metadata": {},
   "source": [
    "## After batch normalization"
   ]
  },
  {
   "cell_type": "code",
   "execution_count": 554,
   "id": "58f3a4b2-6f54-4414-af66-a36aa4d2c9ce",
   "metadata": {},
   "outputs": [],
   "source": [
    "class Batch_Norm(nn.Module):\n",
    "    def __init__(self, num_inputs=2, num_class=1):\n",
    "        super().__init__()\n",
    "\n",
    "        self.network = nn.Sequential(\n",
    "            nn.Linear(num_inputs, 3),\n",
    "            nn.BatchNorm1d(num_features=3, affine=False),\n",
    "            nn.ReLU(),\n",
    "            nn.Linear(3, 2),\n",
    "            nn.BatchNorm1d(num_features=2, affine=False),\n",
    "            nn.ReLU(),\n",
    "            nn.Linear(2, num_class),\n",
    "            nn.Sigmoid()\n",
    "        )\n",
    "\n",
    "    def forward(self, x):\n",
    "        return self.network(x)\n",
    "        \n",
    "model1 = Batch_Norm().to(device)"
   ]
  },
  {
   "cell_type": "code",
   "execution_count": 555,
   "id": "12e5e8d6-ceca-4929-850c-ea0adf0df0e8",
   "metadata": {},
   "outputs": [
    {
     "data": {
      "text/plain": [
       "Batch_Norm(\n",
       "  (network): Sequential(\n",
       "    (0): Linear(in_features=2, out_features=3, bias=True)\n",
       "    (1): BatchNorm1d(3, eps=1e-05, momentum=0.1, affine=False, track_running_stats=True)\n",
       "    (2): ReLU()\n",
       "    (3): Linear(in_features=3, out_features=2, bias=True)\n",
       "    (4): BatchNorm1d(2, eps=1e-05, momentum=0.1, affine=False, track_running_stats=True)\n",
       "    (5): ReLU()\n",
       "    (6): Linear(in_features=2, out_features=1, bias=True)\n",
       "    (7): Sigmoid()\n",
       "  )\n",
       ")"
      ]
     },
     "execution_count": 555,
     "metadata": {},
     "output_type": "execute_result"
    }
   ],
   "source": [
    "model1"
   ]
  },
  {
   "cell_type": "code",
   "execution_count": 556,
   "id": "59c11150-cdb1-41a3-81c8-24d70d611deb",
   "metadata": {},
   "outputs": [
    {
     "data": {
      "text/plain": [
       "==========================================================================================\n",
       "Layer (type:depth-idx)                   Output Shape              Param #\n",
       "==========================================================================================\n",
       "Batch_Norm                               [499, 1]                  --\n",
       "├─Sequential: 1-1                        [499, 1]                  --\n",
       "│    └─Linear: 2-1                       [499, 3]                  9\n",
       "│    └─BatchNorm1d: 2-2                  [499, 3]                  --\n",
       "│    └─ReLU: 2-3                         [499, 3]                  --\n",
       "│    └─Linear: 2-4                       [499, 2]                  8\n",
       "│    └─BatchNorm1d: 2-5                  [499, 2]                  --\n",
       "│    └─ReLU: 2-6                         [499, 2]                  --\n",
       "│    └─Linear: 2-7                       [499, 1]                  3\n",
       "│    └─Sigmoid: 2-8                      [499, 1]                  --\n",
       "==========================================================================================\n",
       "Total params: 20\n",
       "Trainable params: 20\n",
       "Non-trainable params: 0\n",
       "Total mult-adds (Units.MEGABYTES): 0.01\n",
       "==========================================================================================\n",
       "Input size (MB): 0.00\n",
       "Forward/backward pass size (MB): 0.02\n",
       "Params size (MB): 0.00\n",
       "Estimated Total Size (MB): 0.03\n",
       "=========================================================================================="
      ]
     },
     "execution_count": 556,
     "metadata": {},
     "output_type": "execute_result"
    }
   ],
   "source": [
    "summary(model1, input_size=X_ten.shape) "
   ]
  },
  {
   "cell_type": "code",
   "execution_count": 557,
   "id": "56e87ac9-9db8-40ec-9924-f2ec4a4ee6a4",
   "metadata": {},
   "outputs": [
    {
     "name": "stdout",
     "output_type": "stream",
     "text": [
      "network.1.running_mean: Buffer = tensor([0., 0., 0.])\n",
      "network.1.running_var: Buffer = tensor([1., 1., 1.])\n",
      "network.1.num_batches_tracked: Buffer = 0\n",
      "network.4.running_mean: Buffer = tensor([0., 0.])\n",
      "network.4.running_var: Buffer = tensor([1., 1.])\n",
      "network.4.num_batches_tracked: Buffer = 0\n"
     ]
    }
   ],
   "source": [
    "for name, buffer in model1.named_buffers():\n",
    "    print(f\"{name}: Buffer = {buffer}\")"
   ]
  },
  {
   "cell_type": "code",
   "execution_count": 558,
   "id": "8cbf81a2-fb4f-405b-98b5-7b7619075c9c",
   "metadata": {},
   "outputs": [],
   "source": [
    "# loss_fc and optimizer\n",
    "loss_fc = nn.BCELoss() \n",
    "\n",
    "optimizer = torch.optim.Adam(params = model1.parameters(),\n",
    "                            lr = 0.001)"
   ]
  },
  {
   "cell_type": "code",
   "execution_count": 559,
   "id": "d559fe05-4655-4271-9382-634b5a6115ea",
   "metadata": {},
   "outputs": [
    {
     "name": "stdout",
     "output_type": "stream",
     "text": [
      "Epoch: 0 | Loss: 0.6831098198890686 | Accuracy: 0.5000542402267456\n",
      "Epoch: 5 | Loss: 0.6816980242729187 | Accuracy: 0.5000542402267456\n",
      "Epoch: 10 | Loss: 0.6802771091461182 | Accuracy: 0.5000542402267456\n",
      "Epoch: 15 | Loss: 0.6788845658302307 | Accuracy: 0.5000542402267456\n",
      "Epoch: 20 | Loss: 0.6775370836257935 | Accuracy: 0.5000542402267456\n",
      "Epoch: 25 | Loss: 0.6761975884437561 | Accuracy: 0.5000542402267456\n",
      "Epoch: 30 | Loss: 0.674878716468811 | Accuracy: 0.5000542402267456\n",
      "Epoch: 35 | Loss: 0.673619270324707 | Accuracy: 0.5000542402267456\n",
      "Epoch: 40 | Loss: 0.6724053621292114 | Accuracy: 0.5000542402267456\n",
      "Epoch: 45 | Loss: 0.6712502837181091 | Accuracy: 0.5000542402267456\n",
      "Epoch: 50 | Loss: 0.6702029705047607 | Accuracy: 0.5000542402267456\n",
      "Epoch: 55 | Loss: 0.669238805770874 | Accuracy: 0.5000542402267456\n",
      "Epoch: 60 | Loss: 0.6683470010757446 | Accuracy: 0.5000542402267456\n",
      "Epoch: 65 | Loss: 0.6674644351005554 | Accuracy: 0.5000542402267456\n",
      "Epoch: 70 | Loss: 0.6665890216827393 | Accuracy: 0.5000542402267456\n",
      "Epoch: 75 | Loss: 0.6657334566116333 | Accuracy: 0.5000542402267456\n",
      "Epoch: 80 | Loss: 0.664881706237793 | Accuracy: 0.5000542402267456\n",
      "Epoch: 85 | Loss: 0.6640560030937195 | Accuracy: 0.5000542402267456\n",
      "Epoch: 90 | Loss: 0.6632558703422546 | Accuracy: 0.5000542402267456\n",
      "Epoch: 95 | Loss: 0.6624645590782166 | Accuracy: 0.5000542402267456\n",
      "Epoch: 100 | Loss: 0.6616755723953247 | Accuracy: 0.5000542402267456\n",
      "Epoch: 105 | Loss: 0.6608861088752747 | Accuracy: 0.5000542402267456\n",
      "Epoch: 110 | Loss: 0.660081684589386 | Accuracy: 0.5000542402267456\n",
      "Epoch: 115 | Loss: 0.6592628359794617 | Accuracy: 0.5000542402267456\n",
      "Epoch: 120 | Loss: 0.6584188342094421 | Accuracy: 0.5000542402267456\n",
      "Epoch: 125 | Loss: 0.6575585007667542 | Accuracy: 0.5000542402267456\n",
      "Epoch: 130 | Loss: 0.6566752195358276 | Accuracy: 0.5000542402267456\n",
      "Epoch: 135 | Loss: 0.6557738780975342 | Accuracy: 0.5000542402267456\n",
      "Epoch: 140 | Loss: 0.6548346877098083 | Accuracy: 0.5000542402267456\n",
      "Epoch: 145 | Loss: 0.6538856625556946 | Accuracy: 0.5000542402267456\n",
      "Epoch: 150 | Loss: 0.6529185175895691 | Accuracy: 0.5000542402267456\n",
      "Epoch: 155 | Loss: 0.6519374847412109 | Accuracy: 0.5000542402267456\n",
      "Epoch: 160 | Loss: 0.6509459018707275 | Accuracy: 0.5000542402267456\n",
      "Epoch: 165 | Loss: 0.6499123573303223 | Accuracy: 0.5000542402267456\n",
      "Epoch: 170 | Loss: 0.6488457322120667 | Accuracy: 0.5000542402267456\n",
      "Epoch: 175 | Loss: 0.6477655172348022 | Accuracy: 0.5000542402267456\n",
      "Epoch: 180 | Loss: 0.6466677188873291 | Accuracy: 0.5000542402267456\n",
      "Epoch: 185 | Loss: 0.6455470323562622 | Accuracy: 0.5000542402267456\n",
      "Epoch: 190 | Loss: 0.6444215178489685 | Accuracy: 0.5000542402267456\n",
      "Epoch: 195 | Loss: 0.6432992219924927 | Accuracy: 0.5000542402267456\n",
      "Epoch: 200 | Loss: 0.6421700119972229 | Accuracy: 0.5000542402267456\n",
      "Epoch: 205 | Loss: 0.6410344839096069 | Accuracy: 0.5000542402267456\n",
      "Epoch: 210 | Loss: 0.6398885846138 | Accuracy: 0.5000542402267456\n",
      "Epoch: 215 | Loss: 0.6387309432029724 | Accuracy: 0.5000542402267456\n",
      "Epoch: 220 | Loss: 0.6375518441200256 | Accuracy: 0.5000542402267456\n",
      "Epoch: 225 | Loss: 0.6363470554351807 | Accuracy: 0.5000542402267456\n",
      "Epoch: 230 | Loss: 0.6351176500320435 | Accuracy: 0.5000542402267456\n",
      "Epoch: 235 | Loss: 0.6338355541229248 | Accuracy: 0.5000542402267456\n",
      "Epoch: 240 | Loss: 0.6324860453605652 | Accuracy: 0.5000542402267456\n",
      "Epoch: 245 | Loss: 0.6310546398162842 | Accuracy: 0.5000542402267456\n",
      "Epoch: 250 | Loss: 0.6294911503791809 | Accuracy: 0.5000542402267456\n",
      "Epoch: 255 | Loss: 0.62778240442276 | Accuracy: 0.5000542402267456\n",
      "Epoch: 260 | Loss: 0.6258817315101624 | Accuracy: 0.5000542402267456\n",
      "Epoch: 265 | Loss: 0.6238755583763123 | Accuracy: 0.5000542402267456\n",
      "Epoch: 270 | Loss: 0.6221292018890381 | Accuracy: 0.5000542402267456\n",
      "Epoch: 275 | Loss: 0.6206247806549072 | Accuracy: 0.5000542402267456\n",
      "Epoch: 280 | Loss: 0.6192070841789246 | Accuracy: 0.5000542402267456\n",
      "Epoch: 285 | Loss: 0.6177544593811035 | Accuracy: 0.5000542402267456\n",
      "Epoch: 290 | Loss: 0.6162920594215393 | Accuracy: 0.5000542402267456\n",
      "Epoch: 295 | Loss: 0.6148244738578796 | Accuracy: 0.5000542402267456\n",
      "Epoch: 300 | Loss: 0.6133638024330139 | Accuracy: 0.5000542402267456\n",
      "Epoch: 305 | Loss: 0.6119394898414612 | Accuracy: 0.5000542402267456\n",
      "Epoch: 310 | Loss: 0.6105764508247375 | Accuracy: 0.5000542402267456\n",
      "Epoch: 315 | Loss: 0.6092424392700195 | Accuracy: 0.5000542402267456\n",
      "Epoch: 320 | Loss: 0.607994794845581 | Accuracy: 0.5000542402267456\n",
      "Epoch: 325 | Loss: 0.6067732572555542 | Accuracy: 0.5000542402267456\n",
      "Epoch: 330 | Loss: 0.6056437492370605 | Accuracy: 0.5000542402267456\n",
      "Epoch: 335 | Loss: 0.6046239733695984 | Accuracy: 0.5000542402267456\n",
      "Epoch: 340 | Loss: 0.6036916971206665 | Accuracy: 0.5000542402267456\n",
      "Epoch: 345 | Loss: 0.602849006652832 | Accuracy: 0.5000542402267456\n",
      "Epoch: 350 | Loss: 0.602051854133606 | Accuracy: 0.5000542402267456\n",
      "Epoch: 355 | Loss: 0.6012643575668335 | Accuracy: 0.5000542402267456\n",
      "Epoch: 360 | Loss: 0.6005467772483826 | Accuracy: 0.5000542402267456\n",
      "Epoch: 365 | Loss: 0.5999093651771545 | Accuracy: 0.5000542402267456\n",
      "Epoch: 370 | Loss: 0.5993073582649231 | Accuracy: 0.5000542402267456\n",
      "Epoch: 375 | Loss: 0.5987250208854675 | Accuracy: 0.5000542402267456\n",
      "Epoch: 380 | Loss: 0.5981494784355164 | Accuracy: 0.5000542402267456\n",
      "Epoch: 385 | Loss: 0.5975868105888367 | Accuracy: 0.5000542402267456\n",
      "Epoch: 390 | Loss: 0.5970385074615479 | Accuracy: 0.5000542402267456\n",
      "Epoch: 395 | Loss: 0.5965054035186768 | Accuracy: 0.5000542402267456\n",
      "Epoch: 400 | Loss: 0.5959837436676025 | Accuracy: 0.5000542402267456\n",
      "Epoch: 405 | Loss: 0.5954728722572327 | Accuracy: 0.5000542402267456\n",
      "Epoch: 410 | Loss: 0.5949735045433044 | Accuracy: 0.5000542402267456\n",
      "Epoch: 415 | Loss: 0.5944862961769104 | Accuracy: 0.5000542402267456\n",
      "Epoch: 420 | Loss: 0.5940096974372864 | Accuracy: 0.5000542402267456\n",
      "Epoch: 425 | Loss: 0.5935418009757996 | Accuracy: 0.5000542402267456\n",
      "Epoch: 430 | Loss: 0.5930837392807007 | Accuracy: 0.5000542402267456\n",
      "Epoch: 435 | Loss: 0.5926362872123718 | Accuracy: 0.5000542402267456\n",
      "Epoch: 440 | Loss: 0.592193603515625 | Accuracy: 0.5000542402267456\n",
      "Epoch: 445 | Loss: 0.5917582511901855 | Accuracy: 0.5000542402267456\n",
      "Epoch: 450 | Loss: 0.5913310050964355 | Accuracy: 0.5000542402267456\n",
      "Epoch: 455 | Loss: 0.5909097194671631 | Accuracy: 0.5000542402267456\n",
      "Epoch: 460 | Loss: 0.590499222278595 | Accuracy: 0.5000542402267456\n",
      "Epoch: 465 | Loss: 0.5900922417640686 | Accuracy: 0.5000542402267456\n",
      "Epoch: 470 | Loss: 0.5896928906440735 | Accuracy: 0.5000542402267456\n",
      "Epoch: 475 | Loss: 0.5892999172210693 | Accuracy: 0.5000542402267456\n",
      "Epoch: 480 | Loss: 0.5889135599136353 | Accuracy: 0.5000542402267456\n",
      "Epoch: 485 | Loss: 0.5885328054428101 | Accuracy: 0.5000542402267456\n",
      "Epoch: 490 | Loss: 0.588157594203949 | Accuracy: 0.5000542402267456\n",
      "Epoch: 495 | Loss: 0.5877869725227356 | Accuracy: 0.5000542402267456\n"
     ]
    }
   ],
   "source": [
    "# building a training and evaluation loop\n",
    "\n",
    "epochs = 500\n",
    "\n",
    "train_loss_values = []\n",
    "test_loss_values = []\n",
    "epoch_count = []\n",
    "accuracy2 = []\n",
    "\n",
    "for epoch in range(epochs):\n",
    "\n",
    "  model1.train()\n",
    "\n",
    "  # forward pass\n",
    "  y_logits = model1(X_ten).squeeze()\n",
    "  y_pred = torch.round(torch.sigmoid(y_logits))\n",
    "\n",
    "  # calculate the loss/accuarcy\n",
    "  loss = loss_fc(y_logits, y_ten)\n",
    "\n",
    "  optimizer.zero_grad()\n",
    "  loss.backward()\n",
    "  optimizer.step()\n",
    "\n",
    "  # testing\n",
    "  model1.eval()\n",
    "  with torch.inference_mode():\n",
    "\n",
    "    # forward pass\n",
    "    test_logits = model1(X_ten).squeeze()\n",
    "    test_pred = torch.round(torch.sigmoid(test_logits))\n",
    "\n",
    "    # calculate the loss/accuarcy\n",
    "    test_loss = loss_fc(test_logits, y_ten)\n",
    "\n",
    "    predicted = model.forward(X_ten)\n",
    "    predicted = (predicted > 0.5).float()\n",
    "    acc2 = (predicted == y_ten).float().mean()\n",
    "\n",
    "\n",
    "# lets print out what is happening\n",
    "    if epoch % 5 == 0:\n",
    "        epoch_count.append(epoch)\n",
    "        train_loss_values.append(loss.detach().numpy())\n",
    "        test_loss_values.append(test_loss.detach().numpy())\n",
    "        accuracy2.append(acc2.item())\n",
    "        print(f\"Epoch: {epoch} | Loss: {loss} | Accuracy: {acc2.item()}\")\n",
    "        # print(f'Accuracy: {accuracy.item()}')"
   ]
  },
  {
   "cell_type": "code",
   "execution_count": 560,
   "id": "bf5051e4-c53b-4146-8d17-200dd3b96835",
   "metadata": {},
   "outputs": [
    {
     "data": {
      "image/png": "[encoded data removed]",
      "text/plain": [
       "<Figure size 640x480 with 1 Axes>"
      ]
     },
     "metadata": {},
     "output_type": "display_data"
    }
   ],
   "source": [
    "# Plot the loss curves\n",
    "plt.plot(epoch_count, train_loss_values, label=\"loss for with Batch Norm\")\n",
    "plt.plot(epoch_count1, test_loss_values1, label=\"loss for without Batch Norm\")\n",
    "plt.title(\"Training and test loss curves\")\n",
    "plt.ylabel(\"Loss\")\n",
    "plt.xlabel(\"Epochs\")\n",
    "plt.legend()\n",
    "plt.show()"
   ]
  },
  {
   "cell_type": "code",
   "execution_count": 561,
   "id": "03cc2c7c-ba8f-4867-bba0-0c6db1f38c5d",
   "metadata": {},
   "outputs": [
    {
     "data": {
      "image/png": "[encoded data removed]",
      "text/plain": [
       "<Figure size 640x480 with 1 Axes>"
      ]
     },
     "metadata": {},
     "output_type": "display_data"
    }
   ],
   "source": [
    "# Plot the loss curves\n",
    "plt.plot(epoch_count, accuracy1, label=\"Accuracy for without Batch Norm\")\n",
    "plt.plot(epoch_count1, accuracy2, label=\"Accuracy for with Batch Norm\")\n",
    "plt.title(\"Training and test accuracy curves\")\n",
    "plt.ylabel(\"Accuracy\")\n",
    "plt.xlabel(\"Epochs\")\n",
    "plt.legend()\n",
    "plt.show()"
   ]
  },
  {
   "cell_type": "code",
   "execution_count": null,
   "id": "80a3d492-7ced-4d04-9d73-e1dd047c9316",
   "metadata": {},
   "outputs": [],
   "source": []
  }
 ],
 "metadata": {
  "kernelspec": {
   "display_name": "Python 3 (ipykernel)",
   "language": "python",
   "name": "python3"
  },
  "language_info": {
   "codemirror_mode": {
    "name": "ipython",
    "version": 3
   },
   "file_extension": ".py",
   "mimetype": "text/x-python",
   "name": "python",
   "nbconvert_exporter": "python",
   "pygments_lexer": "ipython3",
   "version": "3.12.1"
  }
 },
 "nbformat": 4,
 "nbformat_minor": 5
}
