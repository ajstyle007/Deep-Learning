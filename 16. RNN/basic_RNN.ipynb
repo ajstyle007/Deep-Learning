{
 "cells": [
  {
   "cell_type": "code",
   "execution_count": 1,
   "id": "a71cc8c4-6c4b-44a1-aadf-4d32086537d0",
   "metadata": {},
   "outputs": [],
   "source": [
    "import torch\n",
    "from torch import nn\n",
    "import numpy as np"
   ]
  },
  {
   "cell_type": "code",
   "execution_count": 2,
   "id": "81033419-4727-49e3-b2df-253f069f6150",
   "metadata": {},
   "outputs": [],
   "source": [
    "from tokenizers import Tokenizer\n",
    "from tokenizers.models import WordLevel\n",
    "from tokenizers.pre_tokenizers import Whitespace"
   ]
  },
  {
   "cell_type": "code",
   "execution_count": 3,
   "id": "3025b967-ac00-467a-bb4a-0bcbc02c9ab9",
   "metadata": {},
   "outputs": [],
   "source": [
    "docs = ['go india',\n",
    "\t\t'india india',\n",
    "\t\t'hip hip hurray',\n",
    "\t\t'jeetega bhai jeetega india jeetega',\n",
    "\t\t'bharat mata ki jai',\n",
    "\t\t'kohli kohli',\n",
    "\t\t'sachin sachin',\n",
    "\t\t'dhoni dhoni',\n",
    "\t\t'modi ji ki jai',\n",
    "\t\t'inquilab zindabad']"
   ]
  },
  {
   "cell_type": "code",
   "execution_count": 4,
   "id": "eed01004-e633-4999-81d2-76709f577fbc",
   "metadata": {},
   "outputs": [],
   "source": [
    "tokenizer = Tokenizer(WordLevel(unk_token=\"<unk>\"))\n",
    "tokenizer.pre_tokenizer = Whitespace()"
   ]
  },
  {
   "cell_type": "code",
   "execution_count": 5,
   "id": "6a056f0b-dcee-450e-a840-b07aa521b8b9",
   "metadata": {},
   "outputs": [],
   "source": [
    "tokenizer.train_from_iterator(docs)"
   ]
  },
  {
   "cell_type": "code",
   "execution_count": 6,
   "id": "aa4fffb8-e6d5-45dc-b118-0dc6d594742a",
   "metadata": {},
   "outputs": [
    {
     "data": {
      "text/plain": [
       "list"
      ]
     },
     "execution_count": 6,
     "metadata": {},
     "output_type": "execute_result"
    }
   ],
   "source": [
    "type(docs)"
   ]
  },
  {
   "cell_type": "code",
   "execution_count": 7,
   "id": "02187764-2062-49c0-a502-8aa04f3f3735",
   "metadata": {},
   "outputs": [
    {
     "name": "stdout",
     "output_type": "stream",
     "text": [
      "{'sachin': 7, 'ji': 13, 'bhai': 8, 'zindabad': 16, 'hurray': 11, 'jai': 4, 'india': 0, 'inquilab': 12, 'ki': 5, 'dhoni': 2, 'kohli': 6, 'go': 10, 'bharat': 9, 'modi': 15, 'jeetega': 1, 'mata': 14, 'hip': 3}\n"
     ]
    }
   ],
   "source": [
    "vocab = tokenizer.get_vocab()\n",
    "print(vocab)"
   ]
  },
  {
   "cell_type": "code",
   "execution_count": 8,
   "id": "4f848d94-76ed-4ff7-ab07-944a536406b1",
   "metadata": {},
   "outputs": [
    {
     "name": "stdout",
     "output_type": "stream",
     "text": [
      "17\n"
     ]
    }
   ],
   "source": [
    "print(tokenizer.get_vocab_size())"
   ]
  },
  {
   "cell_type": "code",
   "execution_count": 9,
   "id": "c27a2c87-b97d-49c2-8e42-3d23d91884fc",
   "metadata": {},
   "outputs": [
    {
     "name": "stdout",
     "output_type": "stream",
     "text": [
      "Counter({'india': 4, 'jeetega': 3, 'hip': 2, 'ki': 2, 'jai': 2, 'kohli': 2, 'sachin': 2, 'dhoni': 2, 'go': 1, 'hurray': 1, 'bhai': 1, 'bharat': 1, 'mata': 1, 'modi': 1, 'ji': 1, 'inquilab': 1, 'zindabad': 1})\n"
     ]
    }
   ],
   "source": [
    "from collections import Counter\n",
    "word_counts = Counter(word for doc in docs for word in doc.split())\n",
    "print(word_counts)"
   ]
  },
  {
   "cell_type": "code",
   "execution_count": 10,
   "id": "54e04550-aee0-4602-8553-86e667d0c377",
   "metadata": {},
   "outputs": [
    {
     "name": "stdout",
     "output_type": "stream",
     "text": [
      "[[10, 0], [0, 0], [3, 3, 11], [1, 8, 1, 0, 1], [9, 14, 5, 4], [6, 6], [7, 7], [2, 2], [15, 13, 5, 4], [12, 16]]\n"
     ]
    }
   ],
   "source": [
    "# Convert texts to sequences of token IDs\n",
    "sequences = [tokenizer.encode(doc).ids for doc in docs]\n",
    "\n",
    "# Output sequences\n",
    "print(sequences)"
   ]
  },
  {
   "cell_type": "code",
   "execution_count": 11,
   "id": "7ca096ae-f499-4abd-9093-7665c117a56a",
   "metadata": {},
   "outputs": [],
   "source": [
    "import torch.nn.functional as F"
   ]
  },
  {
   "cell_type": "code",
   "execution_count": 12,
   "id": "24368c4a-3887-4920-bfd8-b891b45a9cf2",
   "metadata": {},
   "outputs": [],
   "source": [
    "# Step 1: Tokenize and Integer Encode the Text\n",
    "# Create a vocabulary from the dataset\n",
    "all_words = \" \".join(docs).split()\n",
    "vocab = {word: idx+1 for idx, (word, _) in enumerate(Counter(all_words).items())}"
   ]
  },
  {
   "cell_type": "code",
   "execution_count": 13,
   "id": "a6cb94bc-bb7b-4556-a527-8f21f7d09fca",
   "metadata": {},
   "outputs": [
    {
     "data": {
      "text/plain": [
       "['go',\n",
       " 'india',\n",
       " 'india',\n",
       " 'india',\n",
       " 'hip',\n",
       " 'hip',\n",
       " 'hurray',\n",
       " 'jeetega',\n",
       " 'bhai',\n",
       " 'jeetega',\n",
       " 'india',\n",
       " 'jeetega',\n",
       " 'bharat',\n",
       " 'mata',\n",
       " 'ki',\n",
       " 'jai',\n",
       " 'kohli',\n",
       " 'kohli',\n",
       " 'sachin',\n",
       " 'sachin',\n",
       " 'dhoni',\n",
       " 'dhoni',\n",
       " 'modi',\n",
       " 'ji',\n",
       " 'ki',\n",
       " 'jai',\n",
       " 'inquilab',\n",
       " 'zindabad']"
      ]
     },
     "execution_count": 13,
     "metadata": {},
     "output_type": "execute_result"
    }
   ],
   "source": [
    "all_words"
   ]
  },
  {
   "cell_type": "code",
   "execution_count": 14,
   "id": "bb08ec07-cc59-44d2-80e2-62e7a1977491",
   "metadata": {},
   "outputs": [
    {
     "data": {
      "text/plain": [
       "{'go': 1,\n",
       " 'india': 2,\n",
       " 'hip': 3,\n",
       " 'hurray': 4,\n",
       " 'jeetega': 5,\n",
       " 'bhai': 6,\n",
       " 'bharat': 7,\n",
       " 'mata': 8,\n",
       " 'ki': 9,\n",
       " 'jai': 10,\n",
       " 'kohli': 11,\n",
       " 'sachin': 12,\n",
       " 'dhoni': 13,\n",
       " 'modi': 14,\n",
       " 'ji': 15,\n",
       " 'inquilab': 16,\n",
       " 'zindabad': 17}"
      ]
     },
     "execution_count": 14,
     "metadata": {},
     "output_type": "execute_result"
    }
   ],
   "source": [
    "vocab"
   ]
  },
  {
   "cell_type": "code",
   "execution_count": 15,
   "id": "272de809-974f-4d41-a292-8c08ebe62b90",
   "metadata": {},
   "outputs": [],
   "source": [
    "# Integer encode the documents\n",
    "encoded_docs = [[vocab[word] for word in doc.split()] for doc in docs]"
   ]
  },
  {
   "cell_type": "code",
   "execution_count": 16,
   "id": "c7827883-e2a0-4146-9118-089c522f66fb",
   "metadata": {},
   "outputs": [
    {
     "data": {
      "text/plain": [
       "[[1, 2],\n",
       " [2, 2],\n",
       " [3, 3, 4],\n",
       " [5, 6, 5, 2, 5],\n",
       " [7, 8, 9, 10],\n",
       " [11, 11],\n",
       " [12, 12],\n",
       " [13, 13],\n",
       " [14, 15, 9, 10],\n",
       " [16, 17]]"
      ]
     },
     "execution_count": 16,
     "metadata": {},
     "output_type": "execute_result"
    }
   ],
   "source": [
    "encoded_docs"
   ]
  },
  {
   "cell_type": "code",
   "execution_count": 17,
   "id": "225ce44d-74f2-4e89-b944-1179f538a35e",
   "metadata": {},
   "outputs": [],
   "source": [
    "# Step 2: Pad Sequences using torch.nn.functional.pad\n",
    "# Find the maximum length of sequences for padding\n",
    "max_len = max(len(seq) for seq in encoded_docs)"
   ]
  },
  {
   "cell_type": "code",
   "execution_count": 18,
   "id": "8c4d16c9-c266-4b84-b5cc-e31a21f72d46",
   "metadata": {},
   "outputs": [
    {
     "data": {
      "text/plain": [
       "5"
      ]
     },
     "execution_count": 18,
     "metadata": {},
     "output_type": "execute_result"
    }
   ],
   "source": [
    "max_len"
   ]
  },
  {
   "cell_type": "code",
   "execution_count": 19,
   "id": "1f43de33-637b-4738-a987-1d8857ab8d3f",
   "metadata": {},
   "outputs": [
    {
     "data": {
      "text/plain": [
       "[[1, 2, 0, 0, 0],\n",
       " [2, 2, 0, 0, 0],\n",
       " [3, 3, 4, 0, 0],\n",
       " [5, 6, 5, 2, 5],\n",
       " [7, 8, 9, 10, 0],\n",
       " [11, 11, 0, 0, 0],\n",
       " [12, 12, 0, 0, 0],\n",
       " [13, 13, 0, 0, 0],\n",
       " [14, 15, 9, 10, 0],\n",
       " [16, 17, 0, 0, 0]]"
      ]
     },
     "execution_count": 19,
     "metadata": {},
     "output_type": "execute_result"
    }
   ],
   "source": [
    "# Pad the sequences manually\n",
    "padded_docs = [seq + [0] * (max_len - len(seq)) for seq in encoded_docs]\n",
    "padded_docs"
   ]
  },
  {
   "cell_type": "code",
   "execution_count": 20,
   "id": "c7596938-aa1a-4f0a-8a58-52aa1f0f46fd",
   "metadata": {},
   "outputs": [],
   "source": [
    "# Convert to tensor\n",
    "padded_docs_tensor = torch.tensor(padded_docs)"
   ]
  },
  {
   "cell_type": "code",
   "execution_count": 21,
   "id": "d91faa3d-f634-42d0-8fae-2b2dcbf3584b",
   "metadata": {},
   "outputs": [
    {
     "data": {
      "text/plain": [
       "tensor([[ 1,  2,  0,  0,  0],\n",
       "        [ 2,  2,  0,  0,  0],\n",
       "        [ 3,  3,  4,  0,  0],\n",
       "        [ 5,  6,  5,  2,  5],\n",
       "        [ 7,  8,  9, 10,  0],\n",
       "        [11, 11,  0,  0,  0],\n",
       "        [12, 12,  0,  0,  0],\n",
       "        [13, 13,  0,  0,  0],\n",
       "        [14, 15,  9, 10,  0],\n",
       "        [16, 17,  0,  0,  0]])"
      ]
     },
     "execution_count": 21,
     "metadata": {},
     "output_type": "execute_result"
    }
   ],
   "source": [
    "padded_docs_tensor"
   ]
  },
  {
   "cell_type": "code",
   "execution_count": 22,
   "id": "ff0fc1f1-e3e1-4c20-8753-d0bfb27118e5",
   "metadata": {},
   "outputs": [],
   "source": [
    "import pandas as pd"
   ]
  },
  {
   "cell_type": "code",
   "execution_count": 87,
   "id": "89c46751-1f6e-44b1-b3fd-02148990dac3",
   "metadata": {},
   "outputs": [],
   "source": [
    "df = pd.read_csv(\"IMDB Dataset.csv\", chunksize=30000)"
   ]
  },
  {
   "cell_type": "code",
   "execution_count": 88,
   "id": "bfd53eda-aaa9-4b94-ad81-25930220b8c5",
   "metadata": {},
   "outputs": [],
   "source": [
    "df = df.get_chunk()"
   ]
  },
  {
   "cell_type": "code",
   "execution_count": 89,
   "id": "6f444ca9-6bf7-4532-9a04-906aeaf7eb04",
   "metadata": {},
   "outputs": [
    {
     "data": {
      "text/html": [
       "<div>\n",
       "<style scoped>\n",
       "    .dataframe tbody tr th:only-of-type {\n",
       "        vertical-align: middle;\n",
       "    }\n",
       "\n",
       "    .dataframe tbody tr th {\n",
       "        vertical-align: top;\n",
       "    }\n",
       "\n",
       "    .dataframe thead th {\n",
       "        text-align: right;\n",
       "    }\n",
       "</style>\n",
       "<table border=\"1\" class=\"dataframe\">\n",
       "  <thead>\n",
       "    <tr style=\"text-align: right;\">\n",
       "      <th></th>\n",
       "      <th>review</th>\n",
       "      <th>sentiment</th>\n",
       "    </tr>\n",
       "  </thead>\n",
       "  <tbody>\n",
       "    <tr>\n",
       "      <th>0</th>\n",
       "      <td>One of the other reviewers has mentioned that ...</td>\n",
       "      <td>positive</td>\n",
       "    </tr>\n",
       "    <tr>\n",
       "      <th>1</th>\n",
       "      <td>A wonderful little production. &lt;br /&gt;&lt;br /&gt;The...</td>\n",
       "      <td>positive</td>\n",
       "    </tr>\n",
       "    <tr>\n",
       "      <th>2</th>\n",
       "      <td>I thought this was a wonderful way to spend ti...</td>\n",
       "      <td>positive</td>\n",
       "    </tr>\n",
       "    <tr>\n",
       "      <th>3</th>\n",
       "      <td>Basically there's a family where a little boy ...</td>\n",
       "      <td>negative</td>\n",
       "    </tr>\n",
       "    <tr>\n",
       "      <th>4</th>\n",
       "      <td>Petter Mattei's \"Love in the Time of Money\" is...</td>\n",
       "      <td>positive</td>\n",
       "    </tr>\n",
       "  </tbody>\n",
       "</table>\n",
       "</div>"
      ],
      "text/plain": [
       "                                              review sentiment\n",
       "0  One of the other reviewers has mentioned that ...  positive\n",
       "1  A wonderful little production. <br /><br />The...  positive\n",
       "2  I thought this was a wonderful way to spend ti...  positive\n",
       "3  Basically there's a family where a little boy ...  negative\n",
       "4  Petter Mattei's \"Love in the Time of Money\" is...  positive"
      ]
     },
     "execution_count": 89,
     "metadata": {},
     "output_type": "execute_result"
    }
   ],
   "source": [
    "df.head()"
   ]
  },
  {
   "cell_type": "code",
   "execution_count": 90,
   "id": "3f828454-9214-43b6-83ff-25df91f2a546",
   "metadata": {},
   "outputs": [
    {
     "data": {
      "text/plain": [
       "(30000, 2)"
      ]
     },
     "execution_count": 90,
     "metadata": {},
     "output_type": "execute_result"
    }
   ],
   "source": [
    "df.shape"
   ]
  },
  {
   "cell_type": "code",
   "execution_count": 91,
   "id": "d51afd17-fe35-416d-9936-81cc26fbdf35",
   "metadata": {},
   "outputs": [
    {
     "data": {
      "text/plain": [
       "array(['positive', 'negative'], dtype=object)"
      ]
     },
     "execution_count": 91,
     "metadata": {},
     "output_type": "execute_result"
    }
   ],
   "source": [
    "df[\"sentiment\"].unique()"
   ]
  },
  {
   "cell_type": "code",
   "execution_count": 92,
   "id": "93846580-77c8-46a9-ba7d-64df749b8b79",
   "metadata": {},
   "outputs": [],
   "source": [
    "mapping_dict = {'positive': 1, 'negative': 0}\n",
    "df['sentiment'] = df['sentiment'].map(mapping_dict)"
   ]
  },
  {
   "cell_type": "code",
   "execution_count": 93,
   "id": "170d4050-0e9c-475a-883a-125c6bb79b69",
   "metadata": {},
   "outputs": [
    {
     "data": {
      "text/html": [
       "<div>\n",
       "<style scoped>\n",
       "    .dataframe tbody tr th:only-of-type {\n",
       "        vertical-align: middle;\n",
       "    }\n",
       "\n",
       "    .dataframe tbody tr th {\n",
       "        vertical-align: top;\n",
       "    }\n",
       "\n",
       "    .dataframe thead th {\n",
       "        text-align: right;\n",
       "    }\n",
       "</style>\n",
       "<table border=\"1\" class=\"dataframe\">\n",
       "  <thead>\n",
       "    <tr style=\"text-align: right;\">\n",
       "      <th></th>\n",
       "      <th>review</th>\n",
       "      <th>sentiment</th>\n",
       "    </tr>\n",
       "  </thead>\n",
       "  <tbody>\n",
       "    <tr>\n",
       "      <th>0</th>\n",
       "      <td>One of the other reviewers has mentioned that ...</td>\n",
       "      <td>1</td>\n",
       "    </tr>\n",
       "    <tr>\n",
       "      <th>1</th>\n",
       "      <td>A wonderful little production. &lt;br /&gt;&lt;br /&gt;The...</td>\n",
       "      <td>1</td>\n",
       "    </tr>\n",
       "    <tr>\n",
       "      <th>2</th>\n",
       "      <td>I thought this was a wonderful way to spend ti...</td>\n",
       "      <td>1</td>\n",
       "    </tr>\n",
       "    <tr>\n",
       "      <th>3</th>\n",
       "      <td>Basically there's a family where a little boy ...</td>\n",
       "      <td>0</td>\n",
       "    </tr>\n",
       "    <tr>\n",
       "      <th>4</th>\n",
       "      <td>Petter Mattei's \"Love in the Time of Money\" is...</td>\n",
       "      <td>1</td>\n",
       "    </tr>\n",
       "  </tbody>\n",
       "</table>\n",
       "</div>"
      ],
      "text/plain": [
       "                                              review  sentiment\n",
       "0  One of the other reviewers has mentioned that ...          1\n",
       "1  A wonderful little production. <br /><br />The...          1\n",
       "2  I thought this was a wonderful way to spend ti...          1\n",
       "3  Basically there's a family where a little boy ...          0\n",
       "4  Petter Mattei's \"Love in the Time of Money\" is...          1"
      ]
     },
     "execution_count": 93,
     "metadata": {},
     "output_type": "execute_result"
    }
   ],
   "source": [
    "df.head()"
   ]
  },
  {
   "cell_type": "code",
   "execution_count": 94,
   "id": "af8a1475-c6cb-4420-adbf-6412851f625e",
   "metadata": {},
   "outputs": [],
   "source": [
    "import re\n",
    "# Function to preprocess and tokenize reviews\n",
    "def preprocess_text(text):\n",
    "    text = text.lower()  # Convert text to lowercase\n",
    "    text = re.sub(r'[^a-zA-Z\\s]', '', text)  # Remove any non-alphabetical characters\n",
    "    return text.split()  # Tokenize by whitespace"
   ]
  },
  {
   "cell_type": "code",
   "execution_count": 95,
   "id": "615ae949-f175-4bf0-8496-fdb588958eeb",
   "metadata": {},
   "outputs": [],
   "source": [
    "# Apply preprocessing\n",
    "df['processed_reviews'] = df['review'].apply(preprocess_text)"
   ]
  },
  {
   "cell_type": "code",
   "execution_count": 96,
   "id": "ff5b1286-d0a3-48e4-994f-40c6addab8bd",
   "metadata": {},
   "outputs": [
    {
     "data": {
      "text/html": [
       "<div>\n",
       "<style scoped>\n",
       "    .dataframe tbody tr th:only-of-type {\n",
       "        vertical-align: middle;\n",
       "    }\n",
       "\n",
       "    .dataframe tbody tr th {\n",
       "        vertical-align: top;\n",
       "    }\n",
       "\n",
       "    .dataframe thead th {\n",
       "        text-align: right;\n",
       "    }\n",
       "</style>\n",
       "<table border=\"1\" class=\"dataframe\">\n",
       "  <thead>\n",
       "    <tr style=\"text-align: right;\">\n",
       "      <th></th>\n",
       "      <th>review</th>\n",
       "      <th>sentiment</th>\n",
       "      <th>processed_reviews</th>\n",
       "    </tr>\n",
       "  </thead>\n",
       "  <tbody>\n",
       "    <tr>\n",
       "      <th>0</th>\n",
       "      <td>One of the other reviewers has mentioned that ...</td>\n",
       "      <td>1</td>\n",
       "      <td>[one, of, the, other, reviewers, has, mentione...</td>\n",
       "    </tr>\n",
       "    <tr>\n",
       "      <th>1</th>\n",
       "      <td>A wonderful little production. &lt;br /&gt;&lt;br /&gt;The...</td>\n",
       "      <td>1</td>\n",
       "      <td>[a, wonderful, little, production, br, br, the...</td>\n",
       "    </tr>\n",
       "    <tr>\n",
       "      <th>2</th>\n",
       "      <td>I thought this was a wonderful way to spend ti...</td>\n",
       "      <td>1</td>\n",
       "      <td>[i, thought, this, was, a, wonderful, way, to,...</td>\n",
       "    </tr>\n",
       "    <tr>\n",
       "      <th>3</th>\n",
       "      <td>Basically there's a family where a little boy ...</td>\n",
       "      <td>0</td>\n",
       "      <td>[basically, theres, a, family, where, a, littl...</td>\n",
       "    </tr>\n",
       "    <tr>\n",
       "      <th>4</th>\n",
       "      <td>Petter Mattei's \"Love in the Time of Money\" is...</td>\n",
       "      <td>1</td>\n",
       "      <td>[petter, matteis, love, in, the, time, of, mon...</td>\n",
       "    </tr>\n",
       "  </tbody>\n",
       "</table>\n",
       "</div>"
      ],
      "text/plain": [
       "                                              review  sentiment  \\\n",
       "0  One of the other reviewers has mentioned that ...          1   \n",
       "1  A wonderful little production. <br /><br />The...          1   \n",
       "2  I thought this was a wonderful way to spend ti...          1   \n",
       "3  Basically there's a family where a little boy ...          0   \n",
       "4  Petter Mattei's \"Love in the Time of Money\" is...          1   \n",
       "\n",
       "                                   processed_reviews  \n",
       "0  [one, of, the, other, reviewers, has, mentione...  \n",
       "1  [a, wonderful, little, production, br, br, the...  \n",
       "2  [i, thought, this, was, a, wonderful, way, to,...  \n",
       "3  [basically, theres, a, family, where, a, littl...  \n",
       "4  [petter, matteis, love, in, the, time, of, mon...  "
      ]
     },
     "execution_count": 96,
     "metadata": {},
     "output_type": "execute_result"
    }
   ],
   "source": [
    "df.head()"
   ]
  },
  {
   "cell_type": "code",
   "execution_count": 97,
   "id": "da630727-9704-41ec-b552-e9e0bff40c63",
   "metadata": {},
   "outputs": [],
   "source": [
    "# Create a vocabulary (assign unique integer to each word)\n",
    "all_words = [word for review in df['processed_reviews'] for word in review]\n",
    "vocab = {word: idx+1 for idx, (word, _) in enumerate(Counter(all_words).items())}  # Start indexing from 1"
   ]
  },
  {
   "cell_type": "code",
   "execution_count": 98,
   "id": "506cc2aa-09ed-422e-aec2-ecec3770323b",
   "metadata": {},
   "outputs": [],
   "source": [
    "# Function to convert text to integer sequence\n",
    "def encode_reviews(reviews):\n",
    "    return [[vocab.get(word, 0) for word in review] for review in reviews]  # 0 is used for unknown words"
   ]
  },
  {
   "cell_type": "code",
   "execution_count": 99,
   "id": "c20e0b86-26aa-4695-bcd5-3954f4668203",
   "metadata": {},
   "outputs": [],
   "source": [
    "# Integer encode the reviews\n",
    "encoded_reviews = encode_reviews(df['processed_reviews'])"
   ]
  },
  {
   "cell_type": "code",
   "execution_count": 100,
   "id": "43a88f5d-b046-4079-a7ae-e2de0e15d461",
   "metadata": {},
   "outputs": [
    {
     "name": "stdout",
     "output_type": "stream",
     "text": [
      "[[1, 2, 3, 4, 5, 6, 7, 8, 9, 10, 11, 12, 13, 14, 15, 16, 17, 18, 19, 20, 21, 22, 23, 24, 25, 26, 27, 28, 3, 29, 30, 8, 31, 32, 33, 12, 34, 35, 36, 37, 38, 39, 2, 40, 41, 42, 43, 19, 44, 3, 45, 46, 47, 32, 21, 22, 48, 49, 50, 51, 3, 52, 53, 54, 55, 21, 50, 56, 57, 58, 26, 59, 60, 61, 62, 54, 40, 35, 22, 63, 43, 3, 64, 65, 2, 3, 66, 28, 67, 22, 68, 12, 20, 8, 22, 3, 69, 70, 60, 3, 71, 72, 73, 74, 75, 67, 76, 77, 78, 79, 80, 81, 82, 83, 2, 3, 84, 85, 86, 3, 87, 88, 89, 90, 37, 91, 92, 93, 94, 22, 48, 95, 78, 3, 96, 97, 80, 22, 98, 60, 99, 100, 101, 102, 103, 104, 105, 37, 106, 107, 108, 109, 110, 111, 37, 112, 113, 18, 114, 115, 116, 28, 117, 118, 119, 3, 120, 121, 2, 3, 50, 22, 122, 60, 3, 123, 8, 67, 124, 85, 4, 125, 126, 127, 128, 129, 130, 131, 51, 132, 133, 128, 134, 128, 135, 136, 137, 138, 3, 29, 13, 117, 139, 140, 31, 32, 20, 93, 141, 67, 34, 142, 117, 143, 119, 117, 34, 144, 51, 67, 145, 20, 117, 146, 147, 117, 148, 49, 149, 51, 12, 37, 150, 151, 60, 3, 95, 152, 2, 153, 40, 48, 11, 40, 145, 154, 155, 156, 157, 15, 158, 159, 51, 49, 160, 161, 157, 162, 78, 163, 37, 164, 165, 26, 67, 166, 167, 168, 169, 161, 170, 171, 172, 84, 173, 122, 60, 174, 175, 2, 176, 177, 54, 84, 178, 10, 12, 179, 180, 181, 182, 26, 24, 22, 183, 184, 185, 179, 186, 164, 43, 187, 26, 188, 189, 190], [49, 191, 192, 193, 28, 28, 3, 194, 195, 22, 196, 197, 196, 198, 199, 37, 200, 49, 201, 37, 202, 203, 204, 2, 205, 60, 3, 206, 207, 28, 28, 3, 208, 18, 209, 166, 210, 211, 212, 48, 213, 6, 150, 86, 3, 214, 145, 215, 6, 86, 3, 216, 217, 218, 219, 179, 186, 220, 221, 3, 222, 223, 224, 225, 3, 226, 60, 227, 228, 229, 48, 213, 22, 67, 166, 230, 3, 10, 145, 67, 22, 49, 231, 232, 37, 233, 207, 49, 234, 193, 33, 1, 2, 3, 235, 236, 2, 237, 37, 238, 239, 28, 28, 3, 205, 240, 241, 98, 26, 3, 192, 242, 3, 243, 2, 3, 244, 41, 245, 246, 65, 3, 247, 248, 249, 250, 251, 252, 253, 67, 254, 78, 255, 256, 37, 255, 257, 258, 26, 3, 39, 259, 260, 37, 261, 37, 3, 262, 258, 2, 174, 263, 26, 264, 265, 266, 267, 268, 18, 269, 166, 270]]\n"
     ]
    }
   ],
   "source": [
    "print(encoded_reviews[:2])"
   ]
  },
  {
   "cell_type": "code",
   "execution_count": 101,
   "id": "1b9b5e46-de1d-44a3-9164-f38b1eab8048",
   "metadata": {},
   "outputs": [],
   "source": [
    "# Set max_len to the maximum sequence length you want\n",
    "max_len = max(len(seq) for seq in encoded_reviews)  # Get the maximum length of reviews"
   ]
  },
  {
   "cell_type": "code",
   "execution_count": 102,
   "id": "ed64b05d-9d57-4d7f-ab5b-d47da91e2f33",
   "metadata": {},
   "outputs": [],
   "source": [
    "# Function to manually pad sequences\n",
    "def pad_sequences(sequences, max_len):\n",
    "    padded_sequences = []\n",
    "    for seq in sequences:\n",
    "        padded_seq = seq + [0] * (max_len - len(seq))  # Pad with zeros if sequence is shorter than max_len\n",
    "        padded_sequences.append(padded_seq)\n",
    "    return torch.tensor(padded_sequences).float()"
   ]
  },
  {
   "cell_type": "code",
   "execution_count": 103,
   "id": "5de198d5-ee39-483e-8458-06526c35865c",
   "metadata": {},
   "outputs": [],
   "source": [
    "# Apply padding\n",
    "padded_reviews_tensor = pad_sequences(encoded_reviews, max_len)"
   ]
  },
  {
   "cell_type": "code",
   "execution_count": 104,
   "id": "f3efa660-a155-4356-958c-14b620f9f538",
   "metadata": {},
   "outputs": [
    {
     "name": "stdout",
     "output_type": "stream",
     "text": [
      "tensor([[  1.,   2.,   3.,  ...,   0.,   0.,   0.],\n",
      "        [ 49., 191., 192.,  ...,   0.,   0.,   0.]])\n"
     ]
    }
   ],
   "source": [
    "# Show some padded sequences\n",
    "print(padded_reviews_tensor[:2])"
   ]
  },
  {
   "cell_type": "code",
   "execution_count": 105,
   "id": "2d5a0382-cb2b-43e8-b67d-0d0e8eb700ec",
   "metadata": {},
   "outputs": [],
   "source": [
    "class SimpleRNN(nn.Module):\n",
    "    def __init__(self, input_size, hidden_size, output_size):\n",
    "        super(SimpleRNN, self).__init__()\n",
    "        self.hidden_size = hidden_size\n",
    "        self.rnn = nn.RNN(input_size, hidden_size, batch_first=True)\n",
    "        self.fc = nn.Linear(hidden_size, output_size)\n",
    "\n",
    "    def forward(self, x):\n",
    "        out, _ = self.rnn(x)\n",
    "        out = self.fc(out[:, -1, :])  # Use the last output for classification\n",
    "        return out\n",
    "\n",
    "\n",
    "# Model parameters\n",
    "input_size = 1  # Single feature per token (since we're using integer encoding)\n",
    "hidden_size = 128  # Number of hidden units in the RNN\n",
    "output_size = 1  # Output size (binary classification)\n",
    "\n",
    "# Create model instance\n",
    "model = SimpleRNN(input_size, hidden_size, output_size)"
   ]
  },
  {
   "cell_type": "code",
   "execution_count": 106,
   "id": "52b8f21f-7c54-4124-bd37-e3655b5811cc",
   "metadata": {},
   "outputs": [],
   "source": [
    "from torch.utils.data import DataLoader, TensorDataset\n",
    "\n",
    "# Convert sentiment labels to tensor\n",
    "labels = torch.tensor(df['sentiment'].values)"
   ]
  },
  {
   "cell_type": "code",
   "execution_count": 107,
   "id": "8fb9c9ac-22ca-409d-a56d-cfbb0451ac22",
   "metadata": {},
   "outputs": [],
   "source": [
    "# Create a DataLoader\n",
    "dataset = TensorDataset(padded_reviews_tensor, labels)\n",
    "dataloader = DataLoader(dataset, batch_size=32, shuffle=True)"
   ]
  },
  {
   "cell_type": "code",
   "execution_count": 108,
   "id": "ac8b446c-49b5-45cc-92bd-65def81e864e",
   "metadata": {},
   "outputs": [],
   "source": [
    "# Define loss and optimizer\n",
    "criterion = nn.BCEWithLogitsLoss()\n",
    "optimizer = torch.optim.Adam(model.parameters(), lr=0.001)"
   ]
  },
  {
   "cell_type": "code",
   "execution_count": 109,
   "id": "9b916156-8def-480a-bb06-dc528c31691a",
   "metadata": {},
   "outputs": [],
   "source": [
    "# Function to calculate accuracy\n",
    "def calculate_accuracy(predictions, labels):\n",
    "    # Apply sigmoid to output logits to get probabilities\n",
    "    predicted_probs = torch.sigmoid(predictions)\n",
    "    # Convert probabilities to class labels (0 or 1) using a threshold of 0.5\n",
    "    predicted_classes = (predicted_probs > 0.5).float()\n",
    "    # Compare predicted classes to true labels and calculate accuracy\n",
    "    correct_predictions = (predicted_classes == labels).float()\n",
    "    accuracy = correct_predictions.sum() / len(correct_predictions)\n",
    "    return accuracy"
   ]
  },
  {
   "cell_type": "code",
   "execution_count": 110,
   "id": "fce39b1e-d4a1-4a23-b59c-68a44ffc574c",
   "metadata": {},
   "outputs": [
    {
     "name": "stdout",
     "output_type": "stream",
     "text": [
      "Epoch [1/10], Loss: 0.6935, Accuracy: 37.50%\n",
      "Epoch [2/10], Loss: 0.6791, Accuracy: 68.75%\n",
      "Epoch [3/10], Loss: 0.6997, Accuracy: 43.75%\n",
      "Epoch [4/10], Loss: 0.6814, Accuracy: 56.25%\n",
      "Epoch [5/10], Loss: 0.7072, Accuracy: 43.75%\n",
      "Epoch [6/10], Loss: 0.7323, Accuracy: 31.25%\n",
      "Epoch [7/10], Loss: 0.6996, Accuracy: 43.75%\n",
      "Epoch [8/10], Loss: 0.6909, Accuracy: 62.50%\n",
      "Epoch [9/10], Loss: 0.6709, Accuracy: 68.75%\n",
      "Epoch [10/10], Loss: 0.8058, Accuracy: 18.75%\n"
     ]
    }
   ],
   "source": [
    "# Training loop\n",
    "num_epochs = 10\n",
    "for epoch in range(num_epochs):\n",
    "    for batch_data, batch_labels in dataloader:\n",
    "        # Ensure labels are of type float32\n",
    "        batch_labels = batch_labels.float()\n",
    "\n",
    "        # Forward pass\n",
    "        outputs = model(batch_data.unsqueeze(-1))  # Add feature dimension\n",
    "        loss = criterion(outputs.squeeze(), batch_labels)  # Squeeze output to match label shape\n",
    "        \n",
    "        # Backward pass\n",
    "        optimizer.zero_grad()\n",
    "        loss.backward()\n",
    "        optimizer.step()\n",
    "        \n",
    "        # Calculate accuracy\n",
    "        accuracy = calculate_accuracy(outputs.squeeze(), batch_labels)\n",
    "    \n",
    "    print(f\"Epoch [{epoch+1}/{num_epochs}], Loss: {loss.item():.4f}, Accuracy: {accuracy.item()*100:.2f}%\")"
   ]
  },
  {
   "cell_type": "markdown",
   "id": "4ad41c26-c74a-48cb-a357-e4004e05b14a",
   "metadata": {},
   "source": [
    " "
   ]
  }
 ],
 "metadata": {
  "kernelspec": {
   "display_name": "Python 3 (ipykernel)",
   "language": "python",
   "name": "python3"
  },
  "language_info": {
   "codemirror_mode": {
    "name": "ipython",
    "version": 3
   },
   "file_extension": ".py",
   "mimetype": "text/x-python",
   "name": "python",
   "nbconvert_exporter": "python",
   "pygments_lexer": "ipython3",
   "version": "3.12.1"
  }
 },
 "nbformat": 4,
 "nbformat_minor": 5
}
