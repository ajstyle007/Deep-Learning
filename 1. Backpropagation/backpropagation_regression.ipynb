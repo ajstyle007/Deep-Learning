{
 "cells": [
  {
   "cell_type": "code",
   "execution_count": 195,
   "id": "2af2d369-0fe9-4d75-b778-ef5fc177b7ad",
   "metadata": {},
   "outputs": [],
   "source": [
    "import numpy as np\n",
    "import pandas as pd"
   ]
  },
  {
   "cell_type": "code",
   "execution_count": 196,
   "id": "3ec7c7c3-c998-4c33-b1ec-e711dc8e947d",
   "metadata": {},
   "outputs": [],
   "source": [
    "df = pd.DataFrame([[8,8,4], [7,9,5], [6,10,6], [5,12,7]], columns=[\"cgpa\", \"profile_score\", \"lpa\"])"
   ]
  },
  {
   "cell_type": "code",
   "execution_count": 197,
   "id": "276eb9f4-3a4a-4687-86c5-9e29bb9c46a8",
   "metadata": {},
   "outputs": [
    {
     "data": {
      "text/html": [
       "<div>\n",
       "<style scoped>\n",
       "    .dataframe tbody tr th:only-of-type {\n",
       "        vertical-align: middle;\n",
       "    }\n",
       "\n",
       "    .dataframe tbody tr th {\n",
       "        vertical-align: top;\n",
       "    }\n",
       "\n",
       "    .dataframe thead th {\n",
       "        text-align: right;\n",
       "    }\n",
       "</style>\n",
       "<table border=\"1\" class=\"dataframe\">\n",
       "  <thead>\n",
       "    <tr style=\"text-align: right;\">\n",
       "      <th></th>\n",
       "      <th>cgpa</th>\n",
       "      <th>profile_score</th>\n",
       "      <th>lpa</th>\n",
       "    </tr>\n",
       "  </thead>\n",
       "  <tbody>\n",
       "    <tr>\n",
       "      <th>0</th>\n",
       "      <td>8</td>\n",
       "      <td>8</td>\n",
       "      <td>4</td>\n",
       "    </tr>\n",
       "    <tr>\n",
       "      <th>1</th>\n",
       "      <td>7</td>\n",
       "      <td>9</td>\n",
       "      <td>5</td>\n",
       "    </tr>\n",
       "    <tr>\n",
       "      <th>2</th>\n",
       "      <td>6</td>\n",
       "      <td>10</td>\n",
       "      <td>6</td>\n",
       "    </tr>\n",
       "    <tr>\n",
       "      <th>3</th>\n",
       "      <td>5</td>\n",
       "      <td>12</td>\n",
       "      <td>7</td>\n",
       "    </tr>\n",
       "  </tbody>\n",
       "</table>\n",
       "</div>"
      ],
      "text/plain": [
       "   cgpa  profile_score  lpa\n",
       "0     8              8    4\n",
       "1     7              9    5\n",
       "2     6             10    6\n",
       "3     5             12    7"
      ]
     },
     "execution_count": 197,
     "metadata": {},
     "output_type": "execute_result"
    }
   ],
   "source": [
    "df"
   ]
  },
  {
   "cell_type": "code",
   "execution_count": 198,
   "id": "bb25a357-c903-4976-9bce-43dc3bb65242",
   "metadata": {},
   "outputs": [],
   "source": [
    "def initialize_parameters(layer_dim):\n",
    "    np.random.seed(42)\n",
    "    parameters = {}\n",
    "    L = len(layer_dim)\n",
    "\n",
    "    for i in range(1, L):\n",
    "        parameters[\"W\" + str(i)] = np.ones((layer_dim[i-1], layer_dim[i]))*0.1\n",
    "        parameters[\"b\" + str(i)] = np.zeros((layer_dim[i], 1))\n",
    "\n",
    "    return parameters"
   ]
  },
  {
   "cell_type": "markdown",
   "id": "5bfc5d5e-8fc5-44eb-bea0-de3e11d10e40",
   "metadata": {},
   "source": [
    "### understanding"
   ]
  },
  {
   "cell_type": "code",
   "execution_count": 199,
   "id": "6b259414-98a7-49b6-a286-a4a96420e972",
   "metadata": {},
   "outputs": [
    {
     "data": {
      "text/plain": [
       "{'W1': array([[0.1, 0.1],\n",
       "        [0.1, 0.1]])}"
      ]
     },
     "execution_count": 199,
     "metadata": {},
     "output_type": "execute_result"
    }
   ],
   "source": [
    "layer_dim1 = [2,2,1]\n",
    "parameters = {}\n",
    "parameters[\"W\" + str(1)] = np.ones((layer_dim1[1-1], layer_dim1[1]))*0.1\n",
    "parameters"
   ]
  },
  {
   "cell_type": "code",
   "execution_count": 200,
   "id": "ecb2b640-8d61-4c97-a8b7-f5d38f1966bc",
   "metadata": {},
   "outputs": [
    {
     "data": {
      "text/plain": [
       "{'W1': array([[0.1, 0.1],\n",
       "        [0.1, 0.1]]),\n",
       " 'b1': array([[0.],\n",
       "        [0.]])}"
      ]
     },
     "execution_count": 200,
     "metadata": {},
     "output_type": "execute_result"
    }
   ],
   "source": [
    "parameters[\"b\" + str(1)] = np.zeros((layer_dim1[1], 1))\n",
    "parameters"
   ]
  },
  {
   "cell_type": "code",
   "execution_count": 201,
   "id": "f224f568-d500-4866-9bd7-b4fb5759bc0c",
   "metadata": {},
   "outputs": [
    {
     "data": {
      "text/plain": [
       "{'W1': array([[0.1, 0.1],\n",
       "        [0.1, 0.1]]),\n",
       " 'b1': array([[0.],\n",
       "        [0.]]),\n",
       " 'W2': array([[0.1],\n",
       "        [0.1]]),\n",
       " 'b2': array([[0.]])}"
      ]
     },
     "execution_count": 201,
     "metadata": {},
     "output_type": "execute_result"
    }
   ],
   "source": [
    "parameters[\"W\" + str(2)] = np.ones((layer_dim1[2-1], layer_dim1[2]))*0.1\n",
    "parameters[\"b\" + str(2)] = np.zeros((layer_dim1[2], 1))\n",
    "parameters"
   ]
  },
  {
   "cell_type": "code",
   "execution_count": 202,
   "id": "fac7b77a-6698-4811-bf39-37c262f4fa72",
   "metadata": {},
   "outputs": [],
   "source": [
    "def linear_forward(A_pre, W, b):\n",
    "\n",
    "    z = np.dot(W.T, A_pre) + b\n",
    "\n",
    "    return z"
   ]
  },
  {
   "cell_type": "markdown",
   "id": "5c7dd1c1-aaaf-4ab4-815c-409c86f1188a",
   "metadata": {},
   "source": [
    "### forward loop"
   ]
  },
  {
   "cell_type": "code",
   "execution_count": 203,
   "id": "3c3067e7-0735-446b-b3e3-0a19a1c7c19c",
   "metadata": {},
   "outputs": [],
   "source": [
    "def L_layer_forward(X, parameters): \n",
    "    A = X\n",
    "    L = len(parameters) // 2 ## number of layers in the neural network\n",
    "\n",
    "    for i in range(1, L+1):\n",
    "        A_pre = A   # A_pre is the input\n",
    "        W1 = parameters[\"W\" + str(i)]\n",
    "        b1 = parameters[\"b\" + str(i)]\n",
    "\n",
    "        print(\"A\" + str(i-1) + \": \", A_pre)\n",
    "        print(\"W\" + str(i) + \": \", W1)\n",
    "        print(\"b\" + str(i) + \": \", b1)\n",
    "        print(\"--\"*20)\n",
    "\n",
    "        A = linear_forward(A_pre, W1, b1)\n",
    "        print(\"A\" + str(i) + \": \", A )\n",
    "        print(\"**\"*20)\n",
    "    return A, A_pre"
   ]
  },
  {
   "cell_type": "code",
   "execution_count": 204,
   "id": "9fe3fc67-6acc-4ab8-bde7-61237b11e531",
   "metadata": {},
   "outputs": [],
   "source": [
    "X = df.iloc[:,0:2].values[0].reshape(2,1)\n",
    "y = df.iloc[:,-1].values[0]"
   ]
  },
  {
   "cell_type": "markdown",
   "id": "89337ea5-bfa5-4b83-91c4-8b9f4eaca112",
   "metadata": {},
   "source": [
    "### understanding of code"
   ]
  },
  {
   "cell_type": "code",
   "execution_count": 205,
   "id": "2c013e91-9b91-4ab4-8e78-6051994629eb",
   "metadata": {},
   "outputs": [
    {
     "data": {
      "text/plain": [
       "array([[8],\n",
       "       [8]], dtype=int64)"
      ]
     },
     "execution_count": 205,
     "metadata": {},
     "output_type": "execute_result"
    }
   ],
   "source": [
    "X"
   ]
  },
  {
   "cell_type": "code",
   "execution_count": 206,
   "id": "6f456aa8-074c-40cd-9b69-f858cdcd6a88",
   "metadata": {},
   "outputs": [
    {
     "data": {
      "text/plain": [
       "4"
      ]
     },
     "execution_count": 206,
     "metadata": {},
     "output_type": "execute_result"
    }
   ],
   "source": [
    "y"
   ]
  },
  {
   "cell_type": "code",
   "execution_count": 207,
   "id": "ea5d8816-e282-4570-b7ea-472d4d379278",
   "metadata": {},
   "outputs": [
    {
     "data": {
      "text/plain": [
       "2"
      ]
     },
     "execution_count": 207,
     "metadata": {},
     "output_type": "execute_result"
    }
   ],
   "source": [
    "len(parameters)//2"
   ]
  },
  {
   "cell_type": "code",
   "execution_count": 208,
   "id": "d99d7529-322e-429e-b0b9-f31c465e74e5",
   "metadata": {},
   "outputs": [
    {
     "data": {
      "text/plain": [
       "(array([[0.1],\n",
       "        [0.1]]),\n",
       " array([[0.]]))"
      ]
     },
     "execution_count": 208,
     "metadata": {},
     "output_type": "execute_result"
    }
   ],
   "source": [
    "A_p = X\n",
    "W9 = parameters[\"W\" + str(2)]\n",
    "b9 = parameters[\"b\" + str(2)]\n",
    "W9, b9"
   ]
  },
  {
   "cell_type": "code",
   "execution_count": 209,
   "id": "cc41483e-e2a8-4577-a64b-8f1e90b93cd1",
   "metadata": {},
   "outputs": [
    {
     "name": "stdout",
     "output_type": "stream",
     "text": [
      "A1:  [[8]\n",
      " [8]]\n",
      "W2:  [[0.1]\n",
      " [0.1]]\n",
      "b2:  [[0.]]\n",
      "----------------------------------------\n"
     ]
    }
   ],
   "source": [
    "print(\"A\" + str(2-1) + \": \", A_p)\n",
    "print(\"W\" + str(2) + \": \", W9)\n",
    "print(\"b\" + str(2) + \": \", b9)\n",
    "print(\"--\"*20)"
   ]
  },
  {
   "cell_type": "code",
   "execution_count": 210,
   "id": "16688a6b-f6e8-4c23-81c9-0184ca171fd5",
   "metadata": {},
   "outputs": [
    {
     "name": "stdout",
     "output_type": "stream",
     "text": [
      "A2:  [[1.6]]\n",
      "****************************************\n"
     ]
    }
   ],
   "source": [
    "A = linear_forward(A_p, W9, b9)\n",
    "print(\"A\" + str(2) + \": \", A )\n",
    "print(\"**\"*20)"
   ]
  },
  {
   "cell_type": "markdown",
   "id": "3b11ac3f-86f7-41ea-9c6a-ce9d3e93e68b",
   "metadata": {},
   "source": [
    "## First student"
   ]
  },
  {
   "cell_type": "code",
   "execution_count": 211,
   "id": "9fc4552a-a071-44ff-86de-04b463f0a2aa",
   "metadata": {},
   "outputs": [
    {
     "name": "stdout",
     "output_type": "stream",
     "text": [
      "A0:  [[8]\n",
      " [8]]\n",
      "W1:  [[0.1 0.1]\n",
      " [0.1 0.1]]\n",
      "b1:  [[0.]\n",
      " [0.]]\n",
      "----------------------------------------\n",
      "A1:  [[1.6]\n",
      " [1.6]]\n",
      "****************************************\n",
      "A1:  [[1.6]\n",
      " [1.6]]\n",
      "W2:  [[0.1]\n",
      " [0.1]]\n",
      "b2:  [[0.]]\n",
      "----------------------------------------\n",
      "A2:  [[0.32]]\n",
      "****************************************\n"
     ]
    }
   ],
   "source": [
    "X = df.iloc[:,0:2].values[0].reshape(2,1)\n",
    "y = df.iloc[:,-1].values[0]\n",
    "\n",
    "# parameters initialization\n",
    "parameters = initialize_parameters([2,2,1])\n",
    "\n",
    "y_hat , A1 = L_layer_forward(X, parameters)"
   ]
  },
  {
   "cell_type": "code",
   "execution_count": 212,
   "id": "4291918a-57e4-4396-bf46-9cfb6bec3df7",
   "metadata": {},
   "outputs": [],
   "source": [
    "# A0 -> is the input\n",
    "# A1, A2 are the out of the notes after forward propagation"
   ]
  },
  {
   "cell_type": "code",
   "execution_count": 213,
   "id": "975a71e8-1464-4b28-84c3-bc8570afbe24",
   "metadata": {},
   "outputs": [],
   "source": [
    "# calculate the loss (y-y-hat)**2"
   ]
  },
  {
   "cell_type": "code",
   "execution_count": 214,
   "id": "785a2d69-df63-42fd-8e31-34dcf507cae0",
   "metadata": {},
   "outputs": [
    {
     "data": {
      "text/plain": [
       "array([[13.5424]])"
      ]
     },
     "execution_count": 214,
     "metadata": {},
     "output_type": "execute_result"
    }
   ],
   "source": [
    "(y - y_hat)**2"
   ]
  },
  {
   "cell_type": "markdown",
   "id": "8a2f21ec-707b-4418-bf82-cad05bf25f11",
   "metadata": {},
   "source": [
    "### updaing the parameters"
   ]
  },
  {
   "cell_type": "code",
   "execution_count": 215,
   "id": "266559c2-e3f8-4d7d-9a44-840d3b033762",
   "metadata": {},
   "outputs": [],
   "source": [
    "# rule is\n",
    "# W_new = W_old - lr*(derivative of loss wrt W_old)"
   ]
  },
  {
   "cell_type": "code",
   "execution_count": 216,
   "id": "785ffb0a-7311-402d-b403-ff52f2cfaed5",
   "metadata": {},
   "outputs": [
    {
     "name": "stderr",
     "output_type": "stream",
     "text": [
      "C:\\Users\\kumar\\AppData\\Local\\Temp\\ipykernel_17012\\1378376096.py:2: DeprecationWarning: Conversion of an array with ndim > 0 to a scalar is deprecated, and will error in future. Ensure you extract a single element from your array before performing this operation. (Deprecated NumPy 1.25.)\n",
      "  parameters[\"W2\"][0][0] = parameters[\"W2\"][0][0] - 0.001*(-2 * (y-y_hat) * A1[0][0])\n",
      "C:\\Users\\kumar\\AppData\\Local\\Temp\\ipykernel_17012\\1378376096.py:3: DeprecationWarning: Conversion of an array with ndim > 0 to a scalar is deprecated, and will error in future. Ensure you extract a single element from your array before performing this operation. (Deprecated NumPy 1.25.)\n",
      "  parameters[\"W2\"][1][0] = parameters[\"W2\"][1][0] - 0.001*(-2 * (y-y_hat) * A1[1][0])\n",
      "C:\\Users\\kumar\\AppData\\Local\\Temp\\ipykernel_17012\\1378376096.py:4: DeprecationWarning: Conversion of an array with ndim > 0 to a scalar is deprecated, and will error in future. Ensure you extract a single element from your array before performing this operation. (Deprecated NumPy 1.25.)\n",
      "  parameters[\"b2\"][0][0] = parameters[\"b2\"][0][0] - 0.001*(-2 * (y-y_hat))\n",
      "C:\\Users\\kumar\\AppData\\Local\\Temp\\ipykernel_17012\\1378376096.py:6: DeprecationWarning: Conversion of an array with ndim > 0 to a scalar is deprecated, and will error in future. Ensure you extract a single element from your array before performing this operation. (Deprecated NumPy 1.25.)\n",
      "  parameters[\"W1\"][0][0] = parameters[\"W1\"][0][0] - 0.001*(-2 * (y-y_hat) * parameters[\"W2\"][0][0] * X[0][0])\n",
      "C:\\Users\\kumar\\AppData\\Local\\Temp\\ipykernel_17012\\1378376096.py:7: DeprecationWarning: Conversion of an array with ndim > 0 to a scalar is deprecated, and will error in future. Ensure you extract a single element from your array before performing this operation. (Deprecated NumPy 1.25.)\n",
      "  parameters[\"W1\"][0][1] = parameters[\"W1\"][0][1] - 0.001*(-2 * (y-y_hat) * parameters[\"W2\"][0][0] * X[1][0])\n",
      "C:\\Users\\kumar\\AppData\\Local\\Temp\\ipykernel_17012\\1378376096.py:8: DeprecationWarning: Conversion of an array with ndim > 0 to a scalar is deprecated, and will error in future. Ensure you extract a single element from your array before performing this operation. (Deprecated NumPy 1.25.)\n",
      "  parameters[\"b1\"][0][0] = parameters[\"b1\"][0][0] - 0.001*(-2 * (y-y_hat) * parameters[\"W2\"][0][0])\n",
      "C:\\Users\\kumar\\AppData\\Local\\Temp\\ipykernel_17012\\1378376096.py:10: DeprecationWarning: Conversion of an array with ndim > 0 to a scalar is deprecated, and will error in future. Ensure you extract a single element from your array before performing this operation. (Deprecated NumPy 1.25.)\n",
      "  parameters[\"W1\"][1][0] = parameters[\"W1\"][1][0] - 0.001*(-2 * (y-y_hat) * parameters[\"W2\"][1][0] * X[0][0])\n",
      "C:\\Users\\kumar\\AppData\\Local\\Temp\\ipykernel_17012\\1378376096.py:11: DeprecationWarning: Conversion of an array with ndim > 0 to a scalar is deprecated, and will error in future. Ensure you extract a single element from your array before performing this operation. (Deprecated NumPy 1.25.)\n",
      "  parameters[\"W1\"][1][1] = parameters[\"W1\"][1][1] - 0.001*(-2 * (y-y_hat) * parameters[\"W2\"][1][0] * X[1][0])\n",
      "C:\\Users\\kumar\\AppData\\Local\\Temp\\ipykernel_17012\\1378376096.py:12: DeprecationWarning: Conversion of an array with ndim > 0 to a scalar is deprecated, and will error in future. Ensure you extract a single element from your array before performing this operation. (Deprecated NumPy 1.25.)\n",
      "  parameters[\"b1\"][1][0] = parameters[\"b1\"][1][0] - 0.001*(-2 * (y-y_hat) * parameters[\"W2\"][1][0])\n"
     ]
    }
   ],
   "source": [
    "def update_parameters(y, y_hat, parameters, X, A1):\n",
    "    parameters[\"W2\"][0][0] = parameters[\"W2\"][0][0] - 0.001*(-2 * (y-y_hat) * A1[0][0])\n",
    "    parameters[\"W2\"][1][0] = parameters[\"W2\"][1][0] - 0.001*(-2 * (y-y_hat) * A1[1][0])\n",
    "    parameters[\"b2\"][0][0] = parameters[\"b2\"][0][0] - 0.001*(-2 * (y-y_hat))\n",
    "    \n",
    "    parameters[\"W1\"][0][0] = parameters[\"W1\"][0][0] - 0.001*(-2 * (y-y_hat) * parameters[\"W2\"][0][0] * X[0][0])\n",
    "    parameters[\"W1\"][0][1] = parameters[\"W1\"][0][1] - 0.001*(-2 * (y-y_hat) * parameters[\"W2\"][0][0] * X[1][0])\n",
    "    parameters[\"b1\"][0][0] = parameters[\"b1\"][0][0] - 0.001*(-2 * (y-y_hat) * parameters[\"W2\"][0][0])\n",
    "    \n",
    "    parameters[\"W1\"][1][0] = parameters[\"W1\"][1][0] - 0.001*(-2 * (y-y_hat) * parameters[\"W2\"][1][0] * X[0][0])\n",
    "    parameters[\"W1\"][1][1] = parameters[\"W1\"][1][1] - 0.001*(-2 * (y-y_hat) * parameters[\"W2\"][1][0] * X[1][0])\n",
    "    parameters[\"b1\"][1][0] = parameters[\"b1\"][1][0] - 0.001*(-2 * (y-y_hat) * parameters[\"W2\"][1][0])\n",
    "    \n",
    "update_parameters(y, y_hat, parameters, X, A1)"
   ]
  },
  {
   "cell_type": "code",
   "execution_count": 217,
   "id": "c9548490-379a-4eac-9db6-23bfd89128a2",
   "metadata": {},
   "outputs": [
    {
     "data": {
      "text/plain": [
       "(0.111776, 0.111776, 0.007359999999999999)"
      ]
     },
     "execution_count": 217,
     "metadata": {},
     "output_type": "execute_result"
    }
   ],
   "source": [
    "parameters[\"W2\"][0][0], parameters[\"W2\"][1][0], parameters[\"b2\"][0][0]"
   ]
  },
  {
   "cell_type": "code",
   "execution_count": 218,
   "id": "5d700021-610c-498d-95de-b9f1fc1aa474",
   "metadata": {},
   "outputs": [
    {
     "data": {
      "text/plain": [
       "0.10658137088"
      ]
     },
     "execution_count": 218,
     "metadata": {},
     "output_type": "execute_result"
    }
   ],
   "source": [
    "parameters[\"W1\"][1][0]"
   ]
  },
  {
   "cell_type": "code",
   "execution_count": 219,
   "id": "0a7f7dd6-1f4c-4c57-bc62-17e7cf03e1e6",
   "metadata": {},
   "outputs": [
    {
     "data": {
      "text/plain": [
       "{'W1': array([[0.10658137, 0.10658137],\n",
       "        [0.10658137, 0.10658137]]),\n",
       " 'b1': array([[0.00082267],\n",
       "        [0.00082267]]),\n",
       " 'W2': array([[0.111776],\n",
       "        [0.111776]]),\n",
       " 'b2': array([[0.00736]])}"
      ]
     },
     "execution_count": 219,
     "metadata": {},
     "output_type": "execute_result"
    }
   ],
   "source": [
    "parameters"
   ]
  },
  {
   "cell_type": "markdown",
   "id": "2481ba5b-7bff-4f5c-851c-3a6c67108f31",
   "metadata": {},
   "source": [
    "## Second student"
   ]
  },
  {
   "cell_type": "code",
   "execution_count": 220,
   "id": "b4b1d334-0745-4f94-868e-b88bc128b56f",
   "metadata": {},
   "outputs": [
    {
     "name": "stdout",
     "output_type": "stream",
     "text": [
      "A0:  [[7]\n",
      " [9]]\n",
      "W1:  [[0.10658137 0.10658137]\n",
      " [0.10658137 0.10658137]]\n",
      "b1:  [[0.00082267]\n",
      " [0.00082267]]\n",
      "----------------------------------------\n",
      "A1:  [[1.70612461]\n",
      " [1.70612461]]\n",
      "****************************************\n",
      "A1:  [[1.70612461]\n",
      " [1.70612461]]\n",
      "W2:  [[0.111776]\n",
      " [0.111776]]\n",
      "b2:  [[0.00736]]\n",
      "----------------------------------------\n",
      "A2:  [[0.38876757]]\n",
      "****************************************\n"
     ]
    }
   ],
   "source": [
    "X = df.iloc[:,0:2].values[1].reshape(2,1)\n",
    "y = df.iloc[:,-1].values[1]\n",
    "\n",
    "y_hat , A1 = L_layer_forward(X, parameters)"
   ]
  },
  {
   "cell_type": "code",
   "execution_count": 221,
   "id": "67f7614c-65d7-4a1e-9293-60696836f2df",
   "metadata": {},
   "outputs": [
    {
     "data": {
      "text/html": [
       "<div>\n",
       "<style scoped>\n",
       "    .dataframe tbody tr th:only-of-type {\n",
       "        vertical-align: middle;\n",
       "    }\n",
       "\n",
       "    .dataframe tbody tr th {\n",
       "        vertical-align: top;\n",
       "    }\n",
       "\n",
       "    .dataframe thead th {\n",
       "        text-align: right;\n",
       "    }\n",
       "</style>\n",
       "<table border=\"1\" class=\"dataframe\">\n",
       "  <thead>\n",
       "    <tr style=\"text-align: right;\">\n",
       "      <th></th>\n",
       "      <th>cgpa</th>\n",
       "      <th>profile_score</th>\n",
       "      <th>lpa</th>\n",
       "    </tr>\n",
       "  </thead>\n",
       "  <tbody>\n",
       "    <tr>\n",
       "      <th>0</th>\n",
       "      <td>8</td>\n",
       "      <td>8</td>\n",
       "      <td>4</td>\n",
       "    </tr>\n",
       "    <tr>\n",
       "      <th>1</th>\n",
       "      <td>7</td>\n",
       "      <td>9</td>\n",
       "      <td>5</td>\n",
       "    </tr>\n",
       "    <tr>\n",
       "      <th>2</th>\n",
       "      <td>6</td>\n",
       "      <td>10</td>\n",
       "      <td>6</td>\n",
       "    </tr>\n",
       "    <tr>\n",
       "      <th>3</th>\n",
       "      <td>5</td>\n",
       "      <td>12</td>\n",
       "      <td>7</td>\n",
       "    </tr>\n",
       "  </tbody>\n",
       "</table>\n",
       "</div>"
      ],
      "text/plain": [
       "   cgpa  profile_score  lpa\n",
       "0     8              8    4\n",
       "1     7              9    5\n",
       "2     6             10    6\n",
       "3     5             12    7"
      ]
     },
     "execution_count": 221,
     "metadata": {},
     "output_type": "execute_result"
    }
   ],
   "source": [
    "df"
   ]
  },
  {
   "cell_type": "code",
   "execution_count": 222,
   "id": "7e4e2142-7e6d-4f36-9a88-15d2006e5f93",
   "metadata": {},
   "outputs": [
    {
     "data": {
      "text/plain": [
       "array([[7],\n",
       "       [9]], dtype=int64)"
      ]
     },
     "execution_count": 222,
     "metadata": {},
     "output_type": "execute_result"
    }
   ],
   "source": [
    "X = df.iloc[:,0:2].values[1].reshape(2,1)\n",
    "X"
   ]
  },
  {
   "cell_type": "code",
   "execution_count": 223,
   "id": "3d5431cf-02e3-4ae0-ae72-78d362f4317d",
   "metadata": {},
   "outputs": [
    {
     "data": {
      "text/plain": [
       "5"
      ]
     },
     "execution_count": 223,
     "metadata": {},
     "output_type": "execute_result"
    }
   ],
   "source": [
    "y = df.iloc[:,-1].values[1]\n",
    "y"
   ]
  },
  {
   "cell_type": "code",
   "execution_count": 224,
   "id": "95a0dcb0-abd3-41d8-8c20-a5d7249da233",
   "metadata": {},
   "outputs": [
    {
     "name": "stderr",
     "output_type": "stream",
     "text": [
      "C:\\Users\\kumar\\AppData\\Local\\Temp\\ipykernel_17012\\1378376096.py:2: DeprecationWarning: Conversion of an array with ndim > 0 to a scalar is deprecated, and will error in future. Ensure you extract a single element from your array before performing this operation. (Deprecated NumPy 1.25.)\n",
      "  parameters[\"W2\"][0][0] = parameters[\"W2\"][0][0] - 0.001*(-2 * (y-y_hat) * A1[0][0])\n",
      "C:\\Users\\kumar\\AppData\\Local\\Temp\\ipykernel_17012\\1378376096.py:3: DeprecationWarning: Conversion of an array with ndim > 0 to a scalar is deprecated, and will error in future. Ensure you extract a single element from your array before performing this operation. (Deprecated NumPy 1.25.)\n",
      "  parameters[\"W2\"][1][0] = parameters[\"W2\"][1][0] - 0.001*(-2 * (y-y_hat) * A1[1][0])\n",
      "C:\\Users\\kumar\\AppData\\Local\\Temp\\ipykernel_17012\\1378376096.py:4: DeprecationWarning: Conversion of an array with ndim > 0 to a scalar is deprecated, and will error in future. Ensure you extract a single element from your array before performing this operation. (Deprecated NumPy 1.25.)\n",
      "  parameters[\"b2\"][0][0] = parameters[\"b2\"][0][0] - 0.001*(-2 * (y-y_hat))\n",
      "C:\\Users\\kumar\\AppData\\Local\\Temp\\ipykernel_17012\\1378376096.py:6: DeprecationWarning: Conversion of an array with ndim > 0 to a scalar is deprecated, and will error in future. Ensure you extract a single element from your array before performing this operation. (Deprecated NumPy 1.25.)\n",
      "  parameters[\"W1\"][0][0] = parameters[\"W1\"][0][0] - 0.001*(-2 * (y-y_hat) * parameters[\"W2\"][0][0] * X[0][0])\n",
      "C:\\Users\\kumar\\AppData\\Local\\Temp\\ipykernel_17012\\1378376096.py:7: DeprecationWarning: Conversion of an array with ndim > 0 to a scalar is deprecated, and will error in future. Ensure you extract a single element from your array before performing this operation. (Deprecated NumPy 1.25.)\n",
      "  parameters[\"W1\"][0][1] = parameters[\"W1\"][0][1] - 0.001*(-2 * (y-y_hat) * parameters[\"W2\"][0][0] * X[1][0])\n",
      "C:\\Users\\kumar\\AppData\\Local\\Temp\\ipykernel_17012\\1378376096.py:8: DeprecationWarning: Conversion of an array with ndim > 0 to a scalar is deprecated, and will error in future. Ensure you extract a single element from your array before performing this operation. (Deprecated NumPy 1.25.)\n",
      "  parameters[\"b1\"][0][0] = parameters[\"b1\"][0][0] - 0.001*(-2 * (y-y_hat) * parameters[\"W2\"][0][0])\n",
      "C:\\Users\\kumar\\AppData\\Local\\Temp\\ipykernel_17012\\1378376096.py:10: DeprecationWarning: Conversion of an array with ndim > 0 to a scalar is deprecated, and will error in future. Ensure you extract a single element from your array before performing this operation. (Deprecated NumPy 1.25.)\n",
      "  parameters[\"W1\"][1][0] = parameters[\"W1\"][1][0] - 0.001*(-2 * (y-y_hat) * parameters[\"W2\"][1][0] * X[0][0])\n",
      "C:\\Users\\kumar\\AppData\\Local\\Temp\\ipykernel_17012\\1378376096.py:11: DeprecationWarning: Conversion of an array with ndim > 0 to a scalar is deprecated, and will error in future. Ensure you extract a single element from your array before performing this operation. (Deprecated NumPy 1.25.)\n",
      "  parameters[\"W1\"][1][1] = parameters[\"W1\"][1][1] - 0.001*(-2 * (y-y_hat) * parameters[\"W2\"][1][0] * X[1][0])\n",
      "C:\\Users\\kumar\\AppData\\Local\\Temp\\ipykernel_17012\\1378376096.py:12: DeprecationWarning: Conversion of an array with ndim > 0 to a scalar is deprecated, and will error in future. Ensure you extract a single element from your array before performing this operation. (Deprecated NumPy 1.25.)\n",
      "  parameters[\"b1\"][1][0] = parameters[\"b1\"][1][0] - 0.001*(-2 * (y-y_hat) * parameters[\"W2\"][1][0])\n"
     ]
    }
   ],
   "source": [
    "update_parameters(y, y_hat, parameters, X, A1)"
   ]
  },
  {
   "cell_type": "code",
   "execution_count": 225,
   "id": "ac86999e-eb29-460b-994c-ebcc2b54ee37",
   "metadata": {},
   "outputs": [
    {
     "data": {
      "text/plain": [
       "{'W1': array([[0.11481311, 0.11716504],\n",
       "        [0.11481311, 0.11716504]]),\n",
       " 'b1': array([[0.00199863],\n",
       "        [0.00199863]]),\n",
       " 'W2': array([[0.12751067],\n",
       "        [0.12751067]]),\n",
       " 'b2': array([[0.01658246]])}"
      ]
     },
     "execution_count": 225,
     "metadata": {},
     "output_type": "execute_result"
    }
   ],
   "source": [
    "parameters"
   ]
  },
  {
   "cell_type": "markdown",
   "id": "79330d7f-309a-41de-b67a-ea4a0e4608fd",
   "metadata": {},
   "source": [
    "## third student"
   ]
  },
  {
   "cell_type": "code",
   "execution_count": 226,
   "id": "c6b1e0a6-3d5c-46d3-81a3-c8ae584fe492",
   "metadata": {},
   "outputs": [
    {
     "name": "stdout",
     "output_type": "stream",
     "text": [
      "A0:  [[ 6]\n",
      " [10]]\n",
      "W1:  [[0.11481311 0.11716504]\n",
      " [0.11481311 0.11716504]]\n",
      "b1:  [[0.00199863]\n",
      " [0.00199863]]\n",
      "----------------------------------------\n",
      "A1:  [[1.83900839]\n",
      " [1.8766392 ]]\n",
      "****************************************\n",
      "A1:  [[1.83900839]\n",
      " [1.8766392 ]]\n",
      "W2:  [[0.12751067]\n",
      " [0.12751067]]\n",
      "b2:  [[0.01658246]]\n",
      "----------------------------------------\n",
      "A2:  [[0.49036719]]\n",
      "****************************************\n"
     ]
    }
   ],
   "source": [
    "X = df.iloc[:,0:2].values[2].reshape(2,1)\n",
    "y = df.iloc[:,-1].values[2]\n",
    "\n",
    "y_hat , A1 = L_layer_forward(X, parameters)"
   ]
  },
  {
   "cell_type": "code",
   "execution_count": 227,
   "id": "b9973e09-bc9a-4b99-9389-36f04782223d",
   "metadata": {},
   "outputs": [
    {
     "data": {
      "text/plain": [
       "(array([[ 6],\n",
       "        [10]], dtype=int64),\n",
       " 6)"
      ]
     },
     "execution_count": 227,
     "metadata": {},
     "output_type": "execute_result"
    }
   ],
   "source": [
    "X = df.iloc[:,0:2].values[2].reshape(2,1)\n",
    "y = df.iloc[:,-1].values[2]\n",
    "\n",
    "X, y"
   ]
  },
  {
   "cell_type": "code",
   "execution_count": 228,
   "id": "36bbe541-092d-4447-ace7-834267f1ab33",
   "metadata": {},
   "outputs": [
    {
     "name": "stderr",
     "output_type": "stream",
     "text": [
      "C:\\Users\\kumar\\AppData\\Local\\Temp\\ipykernel_17012\\1378376096.py:2: DeprecationWarning: Conversion of an array with ndim > 0 to a scalar is deprecated, and will error in future. Ensure you extract a single element from your array before performing this operation. (Deprecated NumPy 1.25.)\n",
      "  parameters[\"W2\"][0][0] = parameters[\"W2\"][0][0] - 0.001*(-2 * (y-y_hat) * A1[0][0])\n",
      "C:\\Users\\kumar\\AppData\\Local\\Temp\\ipykernel_17012\\1378376096.py:3: DeprecationWarning: Conversion of an array with ndim > 0 to a scalar is deprecated, and will error in future. Ensure you extract a single element from your array before performing this operation. (Deprecated NumPy 1.25.)\n",
      "  parameters[\"W2\"][1][0] = parameters[\"W2\"][1][0] - 0.001*(-2 * (y-y_hat) * A1[1][0])\n",
      "C:\\Users\\kumar\\AppData\\Local\\Temp\\ipykernel_17012\\1378376096.py:4: DeprecationWarning: Conversion of an array with ndim > 0 to a scalar is deprecated, and will error in future. Ensure you extract a single element from your array before performing this operation. (Deprecated NumPy 1.25.)\n",
      "  parameters[\"b2\"][0][0] = parameters[\"b2\"][0][0] - 0.001*(-2 * (y-y_hat))\n",
      "C:\\Users\\kumar\\AppData\\Local\\Temp\\ipykernel_17012\\1378376096.py:6: DeprecationWarning: Conversion of an array with ndim > 0 to a scalar is deprecated, and will error in future. Ensure you extract a single element from your array before performing this operation. (Deprecated NumPy 1.25.)\n",
      "  parameters[\"W1\"][0][0] = parameters[\"W1\"][0][0] - 0.001*(-2 * (y-y_hat) * parameters[\"W2\"][0][0] * X[0][0])\n",
      "C:\\Users\\kumar\\AppData\\Local\\Temp\\ipykernel_17012\\1378376096.py:7: DeprecationWarning: Conversion of an array with ndim > 0 to a scalar is deprecated, and will error in future. Ensure you extract a single element from your array before performing this operation. (Deprecated NumPy 1.25.)\n",
      "  parameters[\"W1\"][0][1] = parameters[\"W1\"][0][1] - 0.001*(-2 * (y-y_hat) * parameters[\"W2\"][0][0] * X[1][0])\n",
      "C:\\Users\\kumar\\AppData\\Local\\Temp\\ipykernel_17012\\1378376096.py:8: DeprecationWarning: Conversion of an array with ndim > 0 to a scalar is deprecated, and will error in future. Ensure you extract a single element from your array before performing this operation. (Deprecated NumPy 1.25.)\n",
      "  parameters[\"b1\"][0][0] = parameters[\"b1\"][0][0] - 0.001*(-2 * (y-y_hat) * parameters[\"W2\"][0][0])\n",
      "C:\\Users\\kumar\\AppData\\Local\\Temp\\ipykernel_17012\\1378376096.py:10: DeprecationWarning: Conversion of an array with ndim > 0 to a scalar is deprecated, and will error in future. Ensure you extract a single element from your array before performing this operation. (Deprecated NumPy 1.25.)\n",
      "  parameters[\"W1\"][1][0] = parameters[\"W1\"][1][0] - 0.001*(-2 * (y-y_hat) * parameters[\"W2\"][1][0] * X[0][0])\n",
      "C:\\Users\\kumar\\AppData\\Local\\Temp\\ipykernel_17012\\1378376096.py:11: DeprecationWarning: Conversion of an array with ndim > 0 to a scalar is deprecated, and will error in future. Ensure you extract a single element from your array before performing this operation. (Deprecated NumPy 1.25.)\n",
      "  parameters[\"W1\"][1][1] = parameters[\"W1\"][1][1] - 0.001*(-2 * (y-y_hat) * parameters[\"W2\"][1][0] * X[1][0])\n",
      "C:\\Users\\kumar\\AppData\\Local\\Temp\\ipykernel_17012\\1378376096.py:12: DeprecationWarning: Conversion of an array with ndim > 0 to a scalar is deprecated, and will error in future. Ensure you extract a single element from your array before performing this operation. (Deprecated NumPy 1.25.)\n",
      "  parameters[\"b1\"][1][0] = parameters[\"b1\"][1][0] - 0.001*(-2 * (y-y_hat) * parameters[\"W2\"][1][0])\n"
     ]
    }
   ],
   "source": [
    "update_parameters(y, y_hat, parameters, X, A1)"
   ]
  },
  {
   "cell_type": "code",
   "execution_count": 229,
   "id": "185e92e7-3744-4db1-828f-68d44d99f5c6",
   "metadata": {},
   "outputs": [
    {
     "data": {
      "text/plain": [
       "{'W1': array([[0.12458335, 0.13344878],\n",
       "        [0.12461077, 0.13349447]]),\n",
       " 'b1': array([[0.00362701],\n",
       "        [0.00363158]]),\n",
       " 'W2': array([[0.1477752 ],\n",
       "        [0.14818986]]),\n",
       " 'b2': array([[0.02760173]])}"
      ]
     },
     "execution_count": 229,
     "metadata": {},
     "output_type": "execute_result"
    }
   ],
   "source": [
    "parameters"
   ]
  },
  {
   "cell_type": "markdown",
   "id": "763f8642-18e8-43b4-9bdc-9ab303957c88",
   "metadata": {},
   "source": [
    "# fourth student"
   ]
  },
  {
   "cell_type": "code",
   "execution_count": 230,
   "id": "9973ace2-ac48-4f82-ad8b-550fa0010b4b",
   "metadata": {},
   "outputs": [
    {
     "name": "stdout",
     "output_type": "stream",
     "text": [
      "A0:  [[ 5]\n",
      " [12]]\n",
      "W1:  [[0.12458335 0.13344878]\n",
      " [0.12461077 0.13349447]]\n",
      "b1:  [[0.00362701]\n",
      " [0.00363158]]\n",
      "----------------------------------------\n",
      "A1:  [[2.12187303]\n",
      " [2.2728091 ]]\n",
      "****************************************\n",
      "A1:  [[2.12187303]\n",
      " [2.2728091 ]]\n",
      "W2:  [[0.1477752 ]\n",
      " [0.14818986]]\n",
      "b2:  [[0.02760173]]\n",
      "----------------------------------------\n",
      "A2:  [[0.6779692]]\n",
      "****************************************\n"
     ]
    }
   ],
   "source": [
    "X = df.iloc[:,0:2].values[3].reshape(2,1)\n",
    "y = df.iloc[:,-1].values[3]\n",
    "\n",
    "y_hat , A1 = L_layer_forward(X, parameters)"
   ]
  },
  {
   "cell_type": "code",
   "execution_count": 231,
   "id": "215669c9-2417-425c-aaa3-99f8b0eac71c",
   "metadata": {},
   "outputs": [
    {
     "data": {
      "text/plain": [
       "(array([[ 5],\n",
       "        [12]], dtype=int64),\n",
       " 7)"
      ]
     },
     "execution_count": 231,
     "metadata": {},
     "output_type": "execute_result"
    }
   ],
   "source": [
    "X = df.iloc[:,0:2].values[3].reshape(2,1)\n",
    "y = df.iloc[:,-1].values[3]\n",
    "\n",
    "X, y"
   ]
  },
  {
   "cell_type": "code",
   "execution_count": 232,
   "id": "815f8b67-02d6-451c-bc5d-d690fa520c52",
   "metadata": {},
   "outputs": [
    {
     "name": "stderr",
     "output_type": "stream",
     "text": [
      "C:\\Users\\kumar\\AppData\\Local\\Temp\\ipykernel_17012\\1378376096.py:2: DeprecationWarning: Conversion of an array with ndim > 0 to a scalar is deprecated, and will error in future. Ensure you extract a single element from your array before performing this operation. (Deprecated NumPy 1.25.)\n",
      "  parameters[\"W2\"][0][0] = parameters[\"W2\"][0][0] - 0.001*(-2 * (y-y_hat) * A1[0][0])\n",
      "C:\\Users\\kumar\\AppData\\Local\\Temp\\ipykernel_17012\\1378376096.py:3: DeprecationWarning: Conversion of an array with ndim > 0 to a scalar is deprecated, and will error in future. Ensure you extract a single element from your array before performing this operation. (Deprecated NumPy 1.25.)\n",
      "  parameters[\"W2\"][1][0] = parameters[\"W2\"][1][0] - 0.001*(-2 * (y-y_hat) * A1[1][0])\n",
      "C:\\Users\\kumar\\AppData\\Local\\Temp\\ipykernel_17012\\1378376096.py:4: DeprecationWarning: Conversion of an array with ndim > 0 to a scalar is deprecated, and will error in future. Ensure you extract a single element from your array before performing this operation. (Deprecated NumPy 1.25.)\n",
      "  parameters[\"b2\"][0][0] = parameters[\"b2\"][0][0] - 0.001*(-2 * (y-y_hat))\n",
      "C:\\Users\\kumar\\AppData\\Local\\Temp\\ipykernel_17012\\1378376096.py:6: DeprecationWarning: Conversion of an array with ndim > 0 to a scalar is deprecated, and will error in future. Ensure you extract a single element from your array before performing this operation. (Deprecated NumPy 1.25.)\n",
      "  parameters[\"W1\"][0][0] = parameters[\"W1\"][0][0] - 0.001*(-2 * (y-y_hat) * parameters[\"W2\"][0][0] * X[0][0])\n",
      "C:\\Users\\kumar\\AppData\\Local\\Temp\\ipykernel_17012\\1378376096.py:7: DeprecationWarning: Conversion of an array with ndim > 0 to a scalar is deprecated, and will error in future. Ensure you extract a single element from your array before performing this operation. (Deprecated NumPy 1.25.)\n",
      "  parameters[\"W1\"][0][1] = parameters[\"W1\"][0][1] - 0.001*(-2 * (y-y_hat) * parameters[\"W2\"][0][0] * X[1][0])\n",
      "C:\\Users\\kumar\\AppData\\Local\\Temp\\ipykernel_17012\\1378376096.py:8: DeprecationWarning: Conversion of an array with ndim > 0 to a scalar is deprecated, and will error in future. Ensure you extract a single element from your array before performing this operation. (Deprecated NumPy 1.25.)\n",
      "  parameters[\"b1\"][0][0] = parameters[\"b1\"][0][0] - 0.001*(-2 * (y-y_hat) * parameters[\"W2\"][0][0])\n",
      "C:\\Users\\kumar\\AppData\\Local\\Temp\\ipykernel_17012\\1378376096.py:10: DeprecationWarning: Conversion of an array with ndim > 0 to a scalar is deprecated, and will error in future. Ensure you extract a single element from your array before performing this operation. (Deprecated NumPy 1.25.)\n",
      "  parameters[\"W1\"][1][0] = parameters[\"W1\"][1][0] - 0.001*(-2 * (y-y_hat) * parameters[\"W2\"][1][0] * X[0][0])\n",
      "C:\\Users\\kumar\\AppData\\Local\\Temp\\ipykernel_17012\\1378376096.py:11: DeprecationWarning: Conversion of an array with ndim > 0 to a scalar is deprecated, and will error in future. Ensure you extract a single element from your array before performing this operation. (Deprecated NumPy 1.25.)\n",
      "  parameters[\"W1\"][1][1] = parameters[\"W1\"][1][1] - 0.001*(-2 * (y-y_hat) * parameters[\"W2\"][1][0] * X[1][0])\n",
      "C:\\Users\\kumar\\AppData\\Local\\Temp\\ipykernel_17012\\1378376096.py:12: DeprecationWarning: Conversion of an array with ndim > 0 to a scalar is deprecated, and will error in future. Ensure you extract a single element from your array before performing this operation. (Deprecated NumPy 1.25.)\n",
      "  parameters[\"b1\"][1][0] = parameters[\"b1\"][1][0] - 0.001*(-2 * (y-y_hat) * parameters[\"W2\"][1][0])\n"
     ]
    }
   ],
   "source": [
    "update_parameters(y, y_hat, parameters, X, A1)"
   ]
  },
  {
   "cell_type": "code",
   "execution_count": 233,
   "id": "2b1e7222-f988-4d02-90ac-db0ccd34e0d0",
   "metadata": {},
   "outputs": [
    {
     "data": {
      "text/plain": [
       "{'W1': array([[0.13562189, 0.15994127],\n",
       "        [0.13579618, 0.16033944]]),\n",
       " 'b1': array([[0.00583472],\n",
       "        [0.00586866]]),\n",
       " 'W2': array([[0.17460429],\n",
       "        [0.1769274 ]]),\n",
       " 'b2': array([[0.04024579]])}"
      ]
     },
     "execution_count": 233,
     "metadata": {},
     "output_type": "execute_result"
    }
   ],
   "source": [
    "parameters"
   ]
  },
  {
   "cell_type": "markdown",
   "id": "96648142-15e7-4a9d-8da6-9a10581765b1",
   "metadata": {},
   "source": [
    "# Same above work we run for 5 or 10 epochs(Training)"
   ]
  },
  {
   "cell_type": "code",
   "execution_count": 234,
   "id": "79e3bed5-6463-4ec6-92fa-e10141946e0b",
   "metadata": {},
   "outputs": [],
   "source": [
    "def L_layer_forward1(X, parameters): \n",
    "    A = X\n",
    "    L = len(parameters) // 2 ## number of layers in the neural network\n",
    "\n",
    "    for i in range(1, L+1):\n",
    "        A_pre = A   # A_pre is the input\n",
    "        W1 = parameters[\"W\" + str(i)]\n",
    "        b1 = parameters[\"b\" + str(i)]\n",
    "\n",
    "        # print(\"A\" + str(i-1) + \": \", A_pre)\n",
    "        # print(\"W\" + str(i) + \": \", W1)\n",
    "        # print(\"b\" + str(i) + \": \", b1)\n",
    "        # print(\"--\"*20)\n",
    "\n",
    "        A = linear_forward(A_pre, W1, b1)\n",
    "        # print(\"A\" + str(i) + \": \", A )\n",
    "        # print(\"**\"*20)\n",
    "    return A, A_pre"
   ]
  },
  {
   "cell_type": "code",
   "execution_count": 235,
   "id": "44d52ad7-a4b6-4459-9429-896d1e1a39b8",
   "metadata": {},
   "outputs": [
    {
     "name": "stdout",
     "output_type": "stream",
     "text": [
      "Epoch -  1 <--> Loss -  26.28249792398698\n",
      "Epoch -  2 <--> Loss -  19.438253848220803\n",
      "Epoch -  3 <--> Loss -  10.13987443582752\n",
      "Epoch -  4 <--> Loss -  3.385561305106485\n",
      "Epoch -  5 <--> Loss -  1.3198454128484571\n",
      "Epoch -  6 <--> Loss -  1.1524956147582675\n",
      "Epoch -  7 <--> Loss -  1.2167000755723483\n",
      "Epoch -  8 <--> Loss -  1.2516160752947996\n",
      "Epoch -  9 <--> Loss -  1.2639532647966925\n",
      "Epoch -  10 <--> Loss -  1.2679901889198901\n"
     ]
    },
    {
     "data": {
      "text/plain": [
       "{'W1': array([[0.25919461, 0.43424344],\n",
       "        [0.27145721, 0.46800135]]),\n",
       " 'b1': array([[0.02979873],\n",
       "        [0.03253749]]),\n",
       " 'W2': array([[0.43446454],\n",
       "        [0.51761113]]),\n",
       " 'b2': array([[0.12009632]])}"
      ]
     },
     "execution_count": 235,
     "metadata": {},
     "output_type": "execute_result"
    }
   ],
   "source": [
    "# parameters initialization\n",
    "parameters = initialize_parameters([2,2,1])\n",
    "epochs = 10\n",
    "\n",
    "for i in range(epochs):\n",
    "\n",
    "    Loss = []\n",
    "\n",
    "    for j in range(df.shape[0]):\n",
    "        \n",
    "        X = df.iloc[:,0:2].values[j].reshape(2,1)\n",
    "        y = df.iloc[:,-1].values[j]\n",
    "\n",
    "        y_hat , A1 = L_layer_forward1(X, parameters)\n",
    "        y_hat = y_hat[0][0]\n",
    "        update_parameters(y, y_hat, parameters, X, A1)\n",
    "        \n",
    "        Loss.append((y-y_hat)**2)\n",
    "    \n",
    "    print(\"Epoch - \", i+1, \"<-->\", \"Loss - \", np.array(Loss).mean())\n",
    "\n",
    "parameters"
   ]
  },
  {
   "cell_type": "code",
   "execution_count": 236,
   "id": "f7663b34-9347-4030-902e-167ca63e77b2",
   "metadata": {},
   "outputs": [
    {
     "data": {
      "text/plain": [
       "4"
      ]
     },
     "execution_count": 236,
     "metadata": {},
     "output_type": "execute_result"
    }
   ],
   "source": [
    "df.shape[0]"
   ]
  },
  {
   "cell_type": "code",
   "execution_count": 237,
   "id": "75a653a8-88a3-40d1-92b8-a98438996bc8",
   "metadata": {},
   "outputs": [
    {
     "data": {
      "text/plain": [
       "5.801105261986884"
      ]
     },
     "execution_count": 237,
     "metadata": {},
     "output_type": "execute_result"
    }
   ],
   "source": [
    "y_hat"
   ]
  },
  {
   "cell_type": "markdown",
   "id": "1457c16a-4348-4adc-8bfe-161e9cb34a00",
   "metadata": {},
   "source": [
    "# Doing Everything above with PyTorch"
   ]
  },
  {
   "cell_type": "code",
   "execution_count": 238,
   "id": "96523f1b-5ef9-4adc-99ce-4063a227fb72",
   "metadata": {},
   "outputs": [
    {
     "data": {
      "text/plain": [
       "'2.4.1+cpu'"
      ]
     },
     "execution_count": 238,
     "metadata": {},
     "output_type": "execute_result"
    }
   ],
   "source": [
    "import torch\n",
    "from torch import nn\n",
    "torch.__version__"
   ]
  },
  {
   "cell_type": "code",
   "execution_count": 239,
   "id": "23cd0d95-c275-4398-a6a4-60eec6cb0306",
   "metadata": {},
   "outputs": [
    {
     "data": {
      "text/html": [
       "<div>\n",
       "<style scoped>\n",
       "    .dataframe tbody tr th:only-of-type {\n",
       "        vertical-align: middle;\n",
       "    }\n",
       "\n",
       "    .dataframe tbody tr th {\n",
       "        vertical-align: top;\n",
       "    }\n",
       "\n",
       "    .dataframe thead th {\n",
       "        text-align: right;\n",
       "    }\n",
       "</style>\n",
       "<table border=\"1\" class=\"dataframe\">\n",
       "  <thead>\n",
       "    <tr style=\"text-align: right;\">\n",
       "      <th></th>\n",
       "      <th>cgpa</th>\n",
       "      <th>profile_score</th>\n",
       "      <th>lpa</th>\n",
       "    </tr>\n",
       "  </thead>\n",
       "  <tbody>\n",
       "    <tr>\n",
       "      <th>0</th>\n",
       "      <td>8</td>\n",
       "      <td>8</td>\n",
       "      <td>4</td>\n",
       "    </tr>\n",
       "    <tr>\n",
       "      <th>1</th>\n",
       "      <td>7</td>\n",
       "      <td>9</td>\n",
       "      <td>5</td>\n",
       "    </tr>\n",
       "    <tr>\n",
       "      <th>2</th>\n",
       "      <td>6</td>\n",
       "      <td>10</td>\n",
       "      <td>6</td>\n",
       "    </tr>\n",
       "    <tr>\n",
       "      <th>3</th>\n",
       "      <td>5</td>\n",
       "      <td>12</td>\n",
       "      <td>7</td>\n",
       "    </tr>\n",
       "  </tbody>\n",
       "</table>\n",
       "</div>"
      ],
      "text/plain": [
       "   cgpa  profile_score  lpa\n",
       "0     8              8    4\n",
       "1     7              9    5\n",
       "2     6             10    6\n",
       "3     5             12    7"
      ]
     },
     "execution_count": 239,
     "metadata": {},
     "output_type": "execute_result"
    }
   ],
   "source": [
    "df"
   ]
  },
  {
   "cell_type": "code",
   "execution_count": 240,
   "id": "26cd7bdf-b22a-467f-be93-a585245940fe",
   "metadata": {},
   "outputs": [],
   "source": [
    "X = df.iloc[:,0:2].values\n",
    "y = df.iloc[:,-1].values"
   ]
  },
  {
   "cell_type": "code",
   "execution_count": 241,
   "id": "bd12eb47-4dea-47ce-b66a-49340794d72a",
   "metadata": {},
   "outputs": [
    {
     "data": {
      "text/plain": [
       "array([[ 8,  8],\n",
       "       [ 7,  9],\n",
       "       [ 6, 10],\n",
       "       [ 5, 12]], dtype=int64)"
      ]
     },
     "execution_count": 241,
     "metadata": {},
     "output_type": "execute_result"
    }
   ],
   "source": [
    "X"
   ]
  },
  {
   "cell_type": "code",
   "execution_count": 242,
   "id": "366dd53b-6f66-4da8-840f-4d64920f4484",
   "metadata": {},
   "outputs": [],
   "source": [
    "# turn data into tensors\n",
    "X = torch.from_numpy(X).type(torch.float)\n",
    "y = torch.from_numpy(y).type(torch.float)"
   ]
  },
  {
   "cell_type": "code",
   "execution_count": 243,
   "id": "4a80b7f7-53a3-4bc2-b4f3-29107a0f566d",
   "metadata": {},
   "outputs": [
    {
     "data": {
      "text/plain": [
       "tensor([[ 8.,  8.],\n",
       "        [ 7.,  9.],\n",
       "        [ 6., 10.],\n",
       "        [ 5., 12.]])"
      ]
     },
     "execution_count": 243,
     "metadata": {},
     "output_type": "execute_result"
    }
   ],
   "source": [
    "X"
   ]
  },
  {
   "cell_type": "code",
   "execution_count": 244,
   "id": "426895e4-bf6b-4c2d-8eb2-739e31ca9a8e",
   "metadata": {},
   "outputs": [
    {
     "data": {
      "text/plain": [
       "tensor([4., 5., 6., 7.])"
      ]
     },
     "execution_count": 244,
     "metadata": {},
     "output_type": "execute_result"
    }
   ],
   "source": [
    "y"
   ]
  },
  {
   "cell_type": "code",
   "execution_count": 245,
   "id": "f3126370-36da-48b6-bd2b-2878b55b82cb",
   "metadata": {},
   "outputs": [
    {
     "data": {
      "text/plain": [
       "(torch.Size([4, 2]), torch.Size([4]))"
      ]
     },
     "execution_count": 245,
     "metadata": {},
     "output_type": "execute_result"
    }
   ],
   "source": [
    "X.shape, y.shape"
   ]
  },
  {
   "cell_type": "code",
   "execution_count": 246,
   "id": "edb9d544-0dd5-4358-9c5b-44beb52086be",
   "metadata": {},
   "outputs": [
    {
     "data": {
      "text/plain": [
       "'cpu'"
      ]
     },
     "execution_count": 246,
     "metadata": {},
     "output_type": "execute_result"
    }
   ],
   "source": [
    "# setting up the device agnostic code\n",
    "device = \"cuda\" if torch.cuda.is_available() else \"cpu\"\n",
    "device"
   ]
  },
  {
   "cell_type": "code",
   "execution_count": 247,
   "id": "8f5b4d3e-f691-4bf0-a73c-64f3e6c3c897",
   "metadata": {},
   "outputs": [],
   "source": [
    "# Now lets construct a model class\n",
    "\n",
    "class student(nn.Module):\n",
    "  def __init__(self):\n",
    "    super().__init__()\n",
    "    self.layer_1 = nn.Linear(in_features=2, out_features=2) # input layer\n",
    "    self.layer_2 = nn.Linear(in_features=2, out_features=1) # hidden layer\n",
    "\n",
    "  def forward(self, x):\n",
    "    return self.layer_2(self.layer_1(x))"
   ]
  },
  {
   "cell_type": "code",
   "execution_count": 248,
   "id": "64b475df-f3b0-43aa-921a-9033ee12ee7c",
   "metadata": {},
   "outputs": [],
   "source": [
    "# lets replicate the above model using nn.Sequenctial()\n",
    "model = nn.Sequential(\n",
    "    nn.Linear(in_features=2, out_features=2),\n",
    "    nn.Linear(in_features=2, out_features=1)\n",
    ").to(device)"
   ]
  },
  {
   "cell_type": "code",
   "execution_count": 249,
   "id": "c31c8d85-b13b-4cb0-8d8e-6b1a7831bb95",
   "metadata": {},
   "outputs": [
    {
     "data": {
      "text/plain": [
       "Sequential(\n",
       "  (0): Linear(in_features=2, out_features=2, bias=True)\n",
       "  (1): Linear(in_features=2, out_features=1, bias=True)\n",
       ")"
      ]
     },
     "execution_count": 249,
     "metadata": {},
     "output_type": "execute_result"
    }
   ],
   "source": [
    "model"
   ]
  },
  {
   "cell_type": "code",
   "execution_count": 250,
   "id": "17993f60-2330-4f0d-ade8-9d1b06bc7ac5",
   "metadata": {},
   "outputs": [
    {
     "data": {
      "text/plain": [
       "OrderedDict([('0.weight',\n",
       "              tensor([[ 0.2192, -0.3823],\n",
       "                      [-0.6509,  0.1442]])),\n",
       "             ('0.bias', tensor([ 0.5387, -0.3930])),\n",
       "             ('1.weight', tensor([[-0.5490,  0.2333]])),\n",
       "             ('1.bias', tensor([0.3100]))])"
      ]
     },
     "execution_count": 250,
     "metadata": {},
     "output_type": "execute_result"
    }
   ],
   "source": [
    "model.state_dict()"
   ]
  },
  {
   "cell_type": "code",
   "execution_count": 251,
   "id": "fc0c5cda-61d3-4321-a985-0e5e373cc50a",
   "metadata": {},
   "outputs": [
    {
     "data": {
      "text/plain": [
       "9"
      ]
     },
     "execution_count": 251,
     "metadata": {},
     "output_type": "execute_result"
    }
   ],
   "source": [
    "# total_trainable_parameters = [2x2,+ 2 bias], [2x1,+ 1 bias] => 4+2+2+1 => 9\n",
    "total_params = sum(\n",
    "\tparam.numel() for param in model.parameters()\n",
    ")\n",
    "total_params"
   ]
  },
  {
   "cell_type": "code",
   "execution_count": 252,
   "id": "3bed5ede-ff1c-4533-9c3d-79a327f936e1",
   "metadata": {},
   "outputs": [],
   "source": [
    "new_weights = [np.array([[0.1, 0.1], \n",
    "                        [0.1, 0.1]], dtype=np.float32),\n",
    "              np.array([0., 0.], dtype=np.float32),\n",
    "              np.array([[0.1],\n",
    "                       [0.1]], dtype=np.float32),\n",
    "              np.array([0.], dtype=np.float32)]"
   ]
  },
  {
   "cell_type": "code",
   "execution_count": 253,
   "id": "76d716a7-2464-4dda-a3a8-ad83e545d1f9",
   "metadata": {},
   "outputs": [
    {
     "data": {
      "text/plain": [
       "[array([[0.1, 0.1],\n",
       "        [0.1, 0.1]], dtype=float32),\n",
       " array([0., 0.], dtype=float32),\n",
       " array([[0.1],\n",
       "        [0.1]], dtype=float32),\n",
       " array([0.], dtype=float32)]"
      ]
     },
     "execution_count": 253,
     "metadata": {},
     "output_type": "execute_result"
    }
   ],
   "source": [
    "new_weights"
   ]
  },
  {
   "cell_type": "code",
   "execution_count": 254,
   "id": "1b5deeb2-b5c0-49f0-85ae-a39d81c486df",
   "metadata": {},
   "outputs": [],
   "source": [
    "# Given weights and biases\n",
    "weights = [\n",
    "    torch.tensor([[0.1, 0.1], [0.1, 0.1]], dtype=torch.float32),  # fc1 weight\n",
    "    torch.tensor([0., 0.], dtype=torch.float32),                 # fc1 bias\n",
    "    torch.tensor([[0.1], [0.1]], dtype=torch.float32),           # fc2 weight\n",
    "    torch.tensor([0.], dtype=torch.float32)                      # fc2 bias\n",
    "]"
   ]
  },
  {
   "cell_type": "code",
   "execution_count": 255,
   "id": "69337f02-8d3a-4f23-a786-201f5822efca",
   "metadata": {},
   "outputs": [
    {
     "data": {
      "text/plain": [
       "[tensor([[0.1000, 0.1000],\n",
       "         [0.1000, 0.1000]]),\n",
       " tensor([0., 0.]),\n",
       " tensor([[0.1000],\n",
       "         [0.1000]]),\n",
       " tensor([0.])]"
      ]
     },
     "execution_count": 255,
     "metadata": {},
     "output_type": "execute_result"
    }
   ],
   "source": [
    "weights"
   ]
  },
  {
   "cell_type": "code",
   "execution_count": 256,
   "id": "0584f549-f09c-46e2-8e83-5e9f9c4dd6a5",
   "metadata": {},
   "outputs": [
    {
     "data": {
      "text/plain": [
       "tensor([[0.1000],\n",
       "        [0.1000]])"
      ]
     },
     "execution_count": 256,
     "metadata": {},
     "output_type": "execute_result"
    }
   ],
   "source": [
    "weights[2]"
   ]
  },
  {
   "cell_type": "code",
   "execution_count": 257,
   "id": "e36ab554-193e-475d-ad3b-b8eadeb08308",
   "metadata": {},
   "outputs": [
    {
     "data": {
      "text/plain": [
       "Linear(in_features=2, out_features=1, bias=True)"
      ]
     },
     "execution_count": 257,
     "metadata": {},
     "output_type": "execute_result"
    }
   ],
   "source": [
    "model[1]"
   ]
  },
  {
   "cell_type": "code",
   "execution_count": 258,
   "id": "71bc33e6-215c-44c4-89d5-3ec26e68a801",
   "metadata": {},
   "outputs": [
    {
     "name": "stdout",
     "output_type": "stream",
     "text": [
      "Layer 1 weights: Parameter containing:\n",
      "tensor([[0.1000, 0.1000],\n",
      "        [0.1000, 0.1000]], requires_grad=True)\n",
      "Layer 1 bias: Parameter containing:\n",
      "tensor([0., 0.], requires_grad=True)\n",
      "Layer 2 weights: Parameter containing:\n",
      "tensor([[0.1000, 0.1000]], requires_grad=True)\n",
      "Layer 2 bias: Parameter containing:\n",
      "tensor([0.], requires_grad=True)\n"
     ]
    }
   ],
   "source": [
    "# Assign the weights to the Sequential layers\n",
    "with torch.no_grad():\n",
    "    model[0].weight.copy_(weights[0])  # First Linear Layer (fc1) weights\n",
    "    model[0].bias.copy_(weights[1])    # First Linear Layer (fc1) bias\n",
    "    model[1].weight.copy_(weights[2].T)  # Second Linear Layer (fc2) weights\n",
    "    model[1].bias.copy_(weights[3])    # Second Linear Layer (fc2) bias\n",
    "\n",
    "# Verify the assigned weights\n",
    "print(\"Layer 1 weights:\", model[0].weight)\n",
    "print(\"Layer 1 bias:\", model[0].bias)\n",
    "print(\"Layer 2 weights:\", model[1].weight)\n",
    "print(\"Layer 2 bias:\", model[1].bias)"
   ]
  },
  {
   "cell_type": "code",
   "execution_count": 259,
   "id": "12c0be4b-f285-412d-9504-50b5c8814662",
   "metadata": {},
   "outputs": [
    {
     "data": {
      "text/plain": [
       "OrderedDict([('0.weight',\n",
       "              tensor([[0.1000, 0.1000],\n",
       "                      [0.1000, 0.1000]])),\n",
       "             ('0.bias', tensor([0., 0.])),\n",
       "             ('1.weight', tensor([[0.1000, 0.1000]])),\n",
       "             ('1.bias', tensor([0.]))])"
      ]
     },
     "execution_count": 259,
     "metadata": {},
     "output_type": "execute_result"
    }
   ],
   "source": [
    "model.state_dict()"
   ]
  },
  {
   "cell_type": "code",
   "execution_count": 260,
   "id": "6ac7679c-4c2e-47e5-8f45-298db43f0d37",
   "metadata": {},
   "outputs": [
    {
     "data": {
      "text/plain": [
       "<bound method Module.parameters of Sequential(\n",
       "  (0): Linear(in_features=2, out_features=2, bias=True)\n",
       "  (1): Linear(in_features=2, out_features=1, bias=True)\n",
       ")>"
      ]
     },
     "execution_count": 260,
     "metadata": {},
     "output_type": "execute_result"
    }
   ],
   "source": [
    "model.parameters"
   ]
  },
  {
   "cell_type": "code",
   "execution_count": 261,
   "id": "e2de188d-724e-4126-aab4-894ab9b3d5cf",
   "metadata": {},
   "outputs": [],
   "source": [
    "# loss_fc and optimizer\n",
    "loss_fc = nn.MSELoss() \n",
    "\n",
    "optimizer = torch.optim.Adam(params = model.parameters(),\n",
    "                            lr = 0.001)"
   ]
  },
  {
   "cell_type": "code",
   "execution_count": 262,
   "id": "b810167d-e692-4fb0-92a0-0c23579b2e2a",
   "metadata": {},
   "outputs": [
    {
     "data": {
      "text/plain": [
       "tensor([[ 8.,  8.],\n",
       "        [ 7.,  9.],\n",
       "        [ 6., 10.],\n",
       "        [ 5., 12.]])"
      ]
     },
     "execution_count": 262,
     "metadata": {},
     "output_type": "execute_result"
    }
   ],
   "source": [
    "X"
   ]
  },
  {
   "cell_type": "code",
   "execution_count": 263,
   "id": "a69bbfc1-421f-454d-a08c-56cc41ad4cac",
   "metadata": {},
   "outputs": [
    {
     "data": {
      "text/plain": [
       "tensor([4., 5., 6., 7.])"
      ]
     },
     "execution_count": 263,
     "metadata": {},
     "output_type": "execute_result"
    }
   ],
   "source": [
    "y"
   ]
  },
  {
   "cell_type": "code",
   "execution_count": 264,
   "id": "520c49c0-05a3-47f6-a412-89a795d30ec8",
   "metadata": {},
   "outputs": [
    {
     "name": "stdout",
     "output_type": "stream",
     "text": [
      "Epoch: 0 | Loss: 28.01570\n",
      "Epoch: 10 | Loss: 27.18449\n",
      "Epoch: 20 | Loss: 26.28617\n",
      "Epoch: 30 | Loss: 25.31570\n",
      "Epoch: 40 | Loss: 24.27124\n",
      "Epoch: 50 | Loss: 23.15450\n",
      "Epoch: 60 | Loss: 21.97032\n",
      "Epoch: 70 | Loss: 20.72627\n",
      "Epoch: 80 | Loss: 19.43214\n",
      "Epoch: 90 | Loss: 18.09960\n",
      "Epoch: 100 | Loss: 16.74187\n"
     ]
    }
   ],
   "source": [
    "# building a training and evaluation loop\n",
    "\n",
    "epochs = 110\n",
    "\n",
    "for epoch in range(epochs):\n",
    "\n",
    "  model.train()\n",
    "\n",
    "  # forward pass\n",
    "  y_logits = model(X).squeeze()\n",
    "  y_pred = torch.round(torch.sigmoid(y_logits))\n",
    "\n",
    "  # calculate the loss/accuarcy\n",
    "  loss = loss_fc(y_logits, y)\n",
    "\n",
    "  # optimizer zero grad\n",
    "  optimizer.zero_grad()\n",
    "\n",
    "  # backpropagation\n",
    "  loss.backward()\n",
    "\n",
    "  # optimizer step (perform gradient descent)\n",
    "  optimizer.step()\n",
    "\n",
    "  # testing\n",
    "  model.eval()\n",
    "  with torch.inference_mode():\n",
    "\n",
    "    # forward pass\n",
    "    test_logits = model(X).squeeze()\n",
    "    test_pred = torch.round(torch.sigmoid(test_logits))\n",
    "\n",
    "    # calculate the loss/accuarcy\n",
    "    test_loss = loss_fc(test_logits, y)\n",
    "\n",
    "\n",
    "# lets print out what is happening\n",
    "    if epoch % 10 == 0:\n",
    "        print(f\"Epoch: {epoch} | Loss: {loss:.5f}\")\n"
   ]
  },
  {
   "cell_type": "markdown",
   "id": "7ee495ee-f788-4c57-99b5-892abee8e379",
   "metadata": {},
   "source": [
    "## Pytorch model weights after training"
   ]
  },
  {
   "cell_type": "code",
   "execution_count": 265,
   "id": "37f0cdc2-0696-4e25-bdb9-b7d211382b44",
   "metadata": {},
   "outputs": [
    {
     "data": {
      "text/plain": [
       "OrderedDict([('0.weight',\n",
       "              tensor([[0.2196, 0.2200],\n",
       "                      [0.2196, 0.2200]])),\n",
       "             ('0.bias', tensor([0.1198, 0.1198])),\n",
       "             ('1.weight', tensor([[0.2204, 0.2204]])),\n",
       "             ('1.bias', tensor([0.1046]))])"
      ]
     },
     "execution_count": 265,
     "metadata": {},
     "output_type": "execute_result"
    }
   ],
   "source": [
    "model.state_dict()"
   ]
  },
  {
   "cell_type": "markdown",
   "id": "53a094f0-2170-458f-a635-be28e527eb48",
   "metadata": {},
   "source": [
    "## our model weights after training"
   ]
  },
  {
   "cell_type": "code",
   "execution_count": 266,
   "id": "67da0a90-936b-4783-822d-ef7d624f7691",
   "metadata": {},
   "outputs": [
    {
     "data": {
      "text/plain": [
       "{'W1': array([[0.25919461, 0.43424344],\n",
       "        [0.27145721, 0.46800135]]),\n",
       " 'b1': array([[0.02979873],\n",
       "        [0.03253749]]),\n",
       " 'W2': array([[0.43446454],\n",
       "        [0.51761113]]),\n",
       " 'b2': array([[0.12009632]])}"
      ]
     },
     "execution_count": 266,
     "metadata": {},
     "output_type": "execute_result"
    }
   ],
   "source": [
    "parameters"
   ]
  },
  {
   "cell_type": "code",
   "execution_count": null,
   "id": "e7d0d265-1d20-4022-a884-590bcb7137a0",
   "metadata": {},
   "outputs": [],
   "source": []
  }
 ],
 "metadata": {
  "kernelspec": {
   "display_name": "Python 3 (ipykernel)",
   "language": "python",
   "name": "python3"
  },
  "language_info": {
   "codemirror_mode": {
    "name": "ipython",
    "version": 3
   },
   "file_extension": ".py",
   "mimetype": "text/x-python",
   "name": "python",
   "nbconvert_exporter": "python",
   "pygments_lexer": "ipython3",
   "version": "3.12.1"
  }
 },
 "nbformat": 4,
 "nbformat_minor": 5
}
